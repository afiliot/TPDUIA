{
 "cells": [
  {
   "cell_type": "markdown",
   "metadata": {},
   "source": [
    "# Tumor Annotations"
   ]
  },
  {
   "cell_type": "markdown",
   "metadata": {},
   "source": [
    "Programme de ce TP:\n",
    "- Visualiser des annotations expertes\n",
    "- Charger un modèle de segmentation automatique\n",
    "- Appliquer ce modèle sur de nouvelles données\n",
    "- Générer des cartes de prédictions\n",
    "\n",
    "![img1](https://external-content.duckduckgo.com/iu/?u=https%3A%2F%2Fcontent.iospress.com%2Fmedia%2Fxst%2F2020%2F28-4%2Fxst-28-4-xst200658%2Fxst-28-xst200658-g002.jpg%3Fwidth%3D755&f=1&nofb=1 \"Source: https://external-content.duckduckgo.com/iu/?u=https%3A%2F%2Fcontent.iospress.com%2Fmedia%2Fxst%2F2020%2F28-4%2Fxst-28-4-xst200658%2Fxst-28-xst200658-g002.jpg%3Fwidth%3D755&f=1&nofb=1\")\n",
    "\n",
    "Source: https://content.iospress.com/articles/journal-of-x-ray-science-and-technology/xst200658\n"
   ]
  },
  {
   "cell_type": "markdown",
   "metadata": {},
   "source": [
    "# Prérequis pour ouvrir le notebook (liste diffusée par mail)\n",
    "\n",
    "- 0) Créer un compte Google pour avoir accès à Google Drive.\n",
    "- 1) Ouvrir ce lien de partage : https://drive.google.com/drive/folders/1j-XK2umdsMwAPsOgEgqt4rR56q6oBGSf?usp=sharing\n",
    "- 2) Dans l'en-tête \"Partagés avec moi\", aller dans \"data\", et cliquer sur \"ajouter à mon drive\".\n",
    "- 3) Pour ouvrir les TP, aller d'abord dans https://colab.research.google.com/\n",
    "- 4) Sur la page de chargement (figure ci-dessous): cliquer sur \"GitHub\", puis rentrer le lien https://github.com/afiliot/TPDUIA ; vous pouvez refuser les demandes d'autorisation. Puis, dans le menu déroulant des fichiers, sélectionnez `TPDUIA/2022/tumor_annotations.ipynb`"
   ]
  },
  {
   "cell_type": "markdown",
   "metadata": {},
   "source": [
    "# Prérequis après ouverture du notebook\n",
    "\n",
    "- 5) Cliquer dans le menu sur `Affichage` puis `Dérouler les rubriques`.\n",
    "- 6) Réaliser un point de montage avec le contenu de son drive pour accéder aux données du TP (cliquez sur la cellule ci-dessous).\n",
    "- 7) Une fois le notebook ouvert, cliquer sur `Modifier` puis `Paramètres du notebook` puis `accélérateur matériel`, et finalement `GPU` pour disposer d'une carte graphique virtualisée."
   ]
  },
  {
   "cell_type": "code",
   "execution_count": null,
   "metadata": {},
   "outputs": [],
   "source": [
    "from google.colab import drive\n",
    "drive.mount('/content/gdrive/')"
   ]
  },
  {
   "cell_type": "markdown",
   "metadata": {},
   "source": [
    "# Données utilisées: programme TCGA"
   ]
  },
  {
   "cell_type": "markdown",
   "metadata": {},
   "source": [
    "On reprend les mêmes 6 lames qu'au TP précédent, <a href=\"https://portal.gdc.cancer.gov/image-viewer?filters=%7B%22op%22%3A%22and%22%2C%22content%22%3A%5B%7B%22op%22%3A%22in%22%2C%22content%22%3A%7B%22field%22%3A%22cases.case_id%22%2C%22value%22%3A%5B%22set_id%3A_myuY38BEqg9E8t96O1c%22%5D%7D%7D%5D%7D\"> **disponible ici**<a>.\n",
    "\n",
    "(voir le notebook `whole_slide_images` pour plus de détails sur les données TCGA)"
   ]
  },
  {
   "cell_type": "markdown",
   "metadata": {},
   "source": [
    "# Installer open-slide\n",
    "\n",
    "Comme précédemment, on exécute la cellule de code ci-dessous pour installer `openslide`."
   ]
  },
  {
   "cell_type": "code",
   "execution_count": null,
   "metadata": {},
   "outputs": [],
   "source": [
    "!apt update && apt install -y openslide-tools\n",
    "!pip install openslide-python\n",
    "!pip install p-tqdm\n",
    "!git clone https://github.com/openslide/openslide-python.git\n",
    "!mv openslide-python openslidepython\n",
    "!wget https://raw.githubusercontent.com/afiliot/TPDUIA/main/TPDUIA/2022/scripts.py\n",
    "!mv scripts.py /content/gdrive/MyDrive/TPDUIA/"
   ]
  },
  {
   "cell_type": "markdown",
   "metadata": {},
   "source": [
    "# Ajout du code `scripts.py` dans Colab"
   ]
  },
  {
   "cell_type": "code",
   "execution_count": null,
   "metadata": {},
   "outputs": [],
   "source": [
    "import sys\n",
    "sys.path.insert(0, '/content/gdrive/My Drive/TPDUIA/')"
   ]
  },
  {
   "cell_type": "markdown",
   "metadata": {},
   "source": [
    "# Import des librairies nécessaires"
   ]
  },
  {
   "cell_type": "code",
   "execution_count": null,
   "metadata": {},
   "outputs": [],
   "source": [
    "# librairies utilitaires\n",
    "import os\n",
    "from pprint import pprint\n",
    "from typing import Tuple\n",
    "from glob import glob\n",
    "from random import sample\n",
    "\n",
    "# numpy pour les matrics\n",
    "import numpy as np\n",
    "\n",
    "# pandas pour les dataframe\n",
    "import pandas as pd\n",
    "\n",
    "# visualisation de la progression des processus\n",
    "from tqdm import tqdm\n",
    "from p_tqdm import p_map\n",
    "\n",
    "# manipulation et traitement des WSI\n",
    "import openslide\n",
    "\n",
    "# visualisation\n",
    "import matplotlib\n",
    "import matplotlib.pyplot as plt\n",
    "\n",
    "# traitements des images\n",
    "from scipy.ndimage import gaussian_filter"
   ]
  },
  {
   "cell_type": "markdown",
   "metadata": {},
   "source": [
    "# Chemin vers les données\n",
    "\n",
    "(exécutez cette cellule)"
   ]
  },
  {
   "cell_type": "code",
   "execution_count": null,
   "metadata": {},
   "outputs": [],
   "source": [
    "wsi_folder = '/data/freganet/RAW/TCGA/WSI/' #'/content/gdrive/MyDrive/TPDUIA/SLIDES/'\n",
    "patches_folder = '/data/freganet/TPDU/PATCHES_BACKUP/' #'/content/gdrive/MyDrive/TPDUIA/PATCHES_BACKUP/'\n",
    "\n",
    "# liste des chemins correspondant aux lames de 0 à 5\n",
    "wsi_paths = [\n",
    "    \n",
    "    '8362/TCGA-BR-8362-01Z-00-DX1.178c994d-2cf5-4385-a807-fc08e0cf10f6.svs', # patient 8362, lame 0\n",
    "    'A4CS/TCGA-BR-A4CS-01Z-00-DX1.84B5892C-6C7F-474D-BA09-04E870A47764.svs', # patient A4CS, lame 1\n",
    "    'A91D/TCGA-VQ-A91D-01Z-00-DX1.B7E99494-FA16-42B5-AC1C-1498A7989111.svs', # patient A91D, lame 2\n",
    "    'A4GQ/TCGA-HU-A4GQ-01Z-00-DX1.699A0E57-FE02-4329-9826-3EFC2DECD408.svs', # patient A4GQ, lame 3\n",
    "    '8686/TCGA-BR-8686-01Z-00-DX1.8f559dd9-228e-4ed2-a7e4-16e04b80f05c.svs', # patient 8686, lame 4\n",
    "    '8590/TCGA-BR-8590-01Z-00-DX1.504afa1d-3a8f-423f-9edf-4df35720c05f.svs'  # patient 8590, lame 5\n",
    "    \n",
    "]"
   ]
  },
  {
   "cell_type": "markdown",
   "metadata": {},
   "source": [
    "# Visualisation des lames"
   ]
  },
  {
   "cell_type": "markdown",
   "metadata": {},
   "source": [
    "On reprend le code pour visualiser une lame."
   ]
  },
  {
   "cell_type": "code",
   "execution_count": null,
   "metadata": {},
   "outputs": [],
   "source": [
    "# vous pouvez explorer d'autres lames\n",
    "# 1) exécutez la cellule et entrez un numéro de lame entre 0 et 5\n",
    "numero_lame = 1\n",
    "assert numero_lame in range(6), 'Entrez un chiffre entre 0 et 5!'\n",
    "\n",
    "# chemin de la lame d'intérêt que vous avez sélectionnée\n",
    "wsi_path = os.path.join(wsi_folder, wsi_paths[int(numero_lame)])\n",
    "print(wsi_path)"
   ]
  },
  {
   "cell_type": "markdown",
   "metadata": {},
   "source": [
    "Pour lancer un serveur de visualisation sur le port 5000, décommentez et exécutez le code ci-dessus."
   ]
  },
  {
   "cell_type": "code",
   "execution_count": null,
   "metadata": {},
   "outputs": [],
   "source": [
    "from scripts import launch_server\n",
    "\n",
    "# lancement d'un serveur sur le port 5000\n",
    "launch_server(wsi_path)"
   ]
  },
  {
   "cell_type": "markdown",
   "metadata": {},
   "source": [
    "Puis connectez vous à http://127.0.0.1:5000/ pour visualiser la lame.\n",
    "\n",
    "Une fois la visualisation terminée, vous pouvez cliquer sur l'icône d'interruption du notebook. La cellule précédente devra afficher \"Server stopped\" une fois le notebook interrompu."
   ]
  },
  {
   "cell_type": "markdown",
   "metadata": {},
   "source": [
    "# Chargement des prédictions du modèle entraîné"
   ]
  },
  {
   "cell_type": "code",
   "execution_count": null,
   "metadata": {},
   "outputs": [],
   "source": [
    "predictions = pd.read_csv('/data/freganet/TPDU/predictions_tcga.csv')\n",
    "# '/content/gdrive/MyDrive/TPDUIA/TUMOR_MODEL/predictions_tcga.csv')\n",
    "predictions.head()"
   ]
  },
  {
   "cell_type": "code",
   "execution_count": null,
   "metadata": {},
   "outputs": [],
   "source": [
    "from scripts import wsi_to_numpy\n",
    "\n",
    "def get_utils(\n",
    "    wsi: openslide.OpenSlide,\n",
    "    level: int\n",
    ") -> Tuple[np.ndarray, int, int, float]:\n",
    "    \"\"\"Récupère l'image de la lame à un\n",
    "    niveau de résolution donnée avec ses\n",
    "    dimensions et le dézoom associé.\"\"\"\n",
    "    # niveau de dezoom correspondant\n",
    "    # au niveau de résolution indiqué\n",
    "    # en entrée\n",
    "    dwn = wsi.level_downsamples[level]\n",
    "    # image macro correspondante\n",
    "    image = wsi_to_numpy(wsi, level)\n",
    "    # taille de l'image macro\n",
    "    h, w = image.shape[:2]\n",
    "    print(f'Storing image with shape {h}p x {w}p and dezoom = {dwn:.1f}')\n",
    "    return image, h, w, dwn"
   ]
  },
  {
   "cell_type": "markdown",
   "metadata": {},
   "source": [
    "# Visualisation"
   ]
  },
  {
   "cell_type": "markdown",
   "metadata": {},
   "source": [
    "On commence par charger une lame."
   ]
  },
  {
   "cell_type": "code",
   "execution_count": null,
   "metadata": {},
   "outputs": [],
   "source": [
    "# chemin de la lame d'intérêt que vous avez sélectionnée\n",
    "numero_lame = 0\n",
    "wsi_path = os.path.join(wsi_folder, wsi_paths[int(numero_lame)])\n",
    "wsi = openslide.OpenSlide(wsi_path)\n",
    "print(f'Slide path: {wsi_path}')\n",
    "patient = wsi_path.split(os.path.sep)[-2]\n",
    "slide = 'DX1'\n",
    "print(f'Patient: {patient}, slide: {slide}')"
   ]
  },
  {
   "cell_type": "code",
   "execution_count": null,
   "metadata": {
    "scrolled": true
   },
   "outputs": [],
   "source": [
    "def show_heatmap(\n",
    "    wsi: openslide.OpenSlide,\n",
    "    predictions: pd.DataFrame,\n",
    "    patient: str,\n",
    "    slide: str = 'DX1'\n",
    ") -> None:\n",
    "    # on récupère une image macro de cette lame au pénultième niveau de\n",
    "    # résolution le plus faible\n",
    "    image, h, w, dwn = get_utils(wsi, wsi.level_count-1)\n",
    "    fig, axes = plt.subplots(1, 2, figsize=(20, 10), sharex=True, sharey=True)\n",
    "    # on visualise d'abord l'image brute\n",
    "    ax = axes[0]\n",
    "    ax.imshow(image);ax.axis('off')\n",
    "    ax.set_title(f'Patient {patient}, slide {slide}')\n",
    "    # puis la carte de chaleur\n",
    "    # pour cela on initialise un masque avec des valeurs\n",
    "    # manquantes\n",
    "    mask = np.ones((h, w))*(np.nan)\n",
    "    # puis on sélectionne uniquement les patches de la \n",
    "    # lame pour lesquels une probabilité d'être tumoral\n",
    "    # est disponible\n",
    "    cond = (\n",
    "        predictions['patient']==patient\n",
    "    ) & (\n",
    "        predictions['slide']==slide\n",
    "    )\n",
    "    # on récupère les probabilités et les chemins vers les\n",
    "    # patchs correspondant\n",
    "    probabilities = predictions.loc[cond, ['tile', 'pTUM']]\n",
    "    # on itère ensuite sur ces deux listes pour mettre à \n",
    "    # jour la carte de chaleur avec les probabilités.\n",
    "    # attention, il faut tenir compte du dézoom !\n",
    "    for _, (tile, proba) in probabilities.iterrows():\n",
    "        # on récupère les coordonnées du patch\n",
    "        t_s = tile.split('_')\n",
    "        h_t = int(int(t_s[-5][1:]) / dwn)\n",
    "        w_t = int(int(t_s[-6][1:]) / dwn)\n",
    "        dh_t = int(int(t_s[-3][2:]) / dwn)\n",
    "        dw_t = int(int(t_s[-4][2:]) / dwn)\n",
    "        # on met à jour le masque\n",
    "        mask[h_t:(dw_t+h_t), w_t:(dh_t+w_t)] = proba\n",
    "    # petite manipulation pour lisser le masque de \n",
    "    # segmentation avec un filtre gaussien\n",
    "    idx = np.isnan(mask);mask[idx] = 0\n",
    "    blur_mask = gaussian_filter(mask, sigma=15, order=0)\n",
    "    # affichage du masque de probabilités\n",
    "    ax = axes[1]\n",
    "    ax.imshow(image);ax.axis('off')\n",
    "    ax.imshow(blur_mask, cmap='jet', alpha=0.3)\n",
    "    # ajout d'une échelle de couleur\n",
    "    cmap = matplotlib.cm.jet\n",
    "    norm = matplotlib.colors.Normalize(vmin=0, vmax=1)\n",
    "    cbar_ax = fig.add_axes([1.00, 0.155, 0.02, 0.6922])\n",
    "    fig.colorbar(\n",
    "        matplotlib.cm.ScalarMappable(norm=norm, cmap=cmap),\n",
    "        ax=ax,\n",
    "        cax=cbar_ax,\n",
    "        label='Probabilité',\n",
    "        aspect=20\n",
    "    )\n",
    "    ax.set_title(f'Carte de chaleur des probabilités ')\n",
    "    plt.tight_layout()\n",
    "    plt.show()"
   ]
  },
  {
   "cell_type": "code",
   "execution_count": null,
   "metadata": {},
   "outputs": [],
   "source": [
    "show_heatmap(wsi, predictions, patient, slide)"
   ]
  },
  {
   "cell_type": "markdown",
   "metadata": {},
   "source": [
    "Vous pouvez changer de lame !"
   ]
  },
  {
   "cell_type": "code",
   "execution_count": null,
   "metadata": {},
   "outputs": [],
   "source": [
    "# chemin de la lame d'intérêt que vous avez sélectionnée\n",
    "numero_lame = 1\n",
    "wsi_path = os.path.join(wsi_folder, wsi_paths[int(numero_lame)])\n",
    "wsi = openslide.OpenSlide(wsi_path)\n",
    "print(f'Slide path: {wsi_path}')\n",
    "patient = wsi_path.split(os.path.sep)[-2]\n",
    "slide = 'DX1'\n",
    "print(f'Patient: {patient}, slide: {slide}')\n",
    "show_heatmap(wsi, predictions, patient, slide)"
   ]
  },
  {
   "cell_type": "code",
   "execution_count": null,
   "metadata": {},
   "outputs": [],
   "source": [
    "# chemin de la lame d'intérêt que vous avez sélectionnée\n",
    "numero_lame = 2\n",
    "wsi_path = os.path.join(wsi_folder, wsi_paths[int(numero_lame)])\n",
    "wsi = openslide.OpenSlide(wsi_path)\n",
    "print(f'Slide path: {wsi_path}')\n",
    "patient = wsi_path.split(os.path.sep)[-2]\n",
    "slide = 'DX1'\n",
    "print(f'Patient: {patient}, slide: {slide}')\n",
    "show_heatmap(wsi, predictions, patient, slide)"
   ]
  },
  {
   "cell_type": "code",
   "execution_count": null,
   "metadata": {},
   "outputs": [],
   "source": [
    "# chemin de la lame d'intérêt que vous avez sélectionnée\n",
    "numero_lame = 3\n",
    "wsi_path = os.path.join(wsi_folder, wsi_paths[int(numero_lame)])\n",
    "wsi = openslide.OpenSlide(wsi_path)\n",
    "print(f'Slide path: {wsi_path}')\n",
    "patient = wsi_path.split(os.path.sep)[-2]\n",
    "slide = 'DX1'\n",
    "print(f'Patient: {patient}, slide: {slide}')\n",
    "show_heatmap(wsi, predictions, patient, slide)"
   ]
  },
  {
   "cell_type": "code",
   "execution_count": null,
   "metadata": {},
   "outputs": [],
   "source": [
    "# chemin de la lame d'intérêt que vous avez sélectionnée\n",
    "numero_lame = 4\n",
    "wsi_path = os.path.join(wsi_folder, wsi_paths[int(numero_lame)])\n",
    "wsi = openslide.OpenSlide(wsi_path)\n",
    "print(f'Slide path: {wsi_path}')\n",
    "patient = wsi_path.split(os.path.sep)[-2]\n",
    "slide = 'DX1'\n",
    "print(f'Patient: {patient}, slide: {slide}')\n",
    "show_heatmap(wsi, predictions, patient, slide)"
   ]
  },
  {
   "cell_type": "code",
   "execution_count": null,
   "metadata": {},
   "outputs": [],
   "source": [
    "# chemin de la lame d'intérêt que vous avez sélectionnée\n",
    "numero_lame = 5\n",
    "wsi_path = os.path.join(wsi_folder, wsi_paths[int(numero_lame)])\n",
    "wsi = openslide.OpenSlide(wsi_path)\n",
    "print(f'Slide path: {wsi_path}')\n",
    "patient = wsi_path.split(os.path.sep)[-2]\n",
    "slide = 'DX1'\n",
    "print(f'Patient: {patient}, slide: {slide}')\n",
    "show_heatmap(wsi, predictions, patient, slide)"
   ]
  }
 ],
 "metadata": {
  "kernelspec": {
   "display_name": "Python 3",
   "language": "python",
   "name": "python3"
  },
  "language_info": {
   "codemirror_mode": {
    "name": "ipython",
    "version": 3
   },
   "file_extension": ".py",
   "mimetype": "text/x-python",
   "name": "python",
   "nbconvert_exporter": "python",
   "pygments_lexer": "ipython3",
   "version": "3.8.5"
  }
 },
 "nbformat": 4,
 "nbformat_minor": 4
}
