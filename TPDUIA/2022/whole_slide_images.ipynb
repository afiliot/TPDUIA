{
 "cells": [
  {
   "cell_type": "markdown",
   "metadata": {},
   "source": [
    "# Whole Slide Images"
   ]
  },
  {
   "cell_type": "markdown",
   "metadata": {},
   "source": [
    "Programme de ce TP:\n",
    "- Manipuler des lames histologiqes numérisées (ci-après WSI) avec OpenSlide\n",
    "- Extraire des _patches_ de WSI\n",
    "- Comprendre le concept de teinte et de normalisation\n",
    "\n",
    "![img1](https://media.springernature.com/full/springer-static/image/art%3A10.1038%2Fs41416-020-01122-x/MediaObjects/41416_2020_1122_Fig1_HTML.png?as=webp \"Source: https://media.springernature.com/full/springer-static/image/art%3A10.1038%2Fs41416-020-01122-x/MediaObjects/41416_2020_1122_Fig1_HTML.png?as=webp\")\n",
    "\n",
    "Source: Echle et al., Deep learning in cancer pathology: a new generation of clinical biomarkers"
   ]
  },
  {
   "cell_type": "markdown",
   "metadata": {},
   "source": [
    "# Prérequis pour ouvrir le notebook (liste diffusée par mail)\n",
    "\n",
    "- 0) Créer un compte Google pour avoir accès à Google Drive.\n",
    "- 1) Ouvrir ce lien de partage : https://drive.google.com/drive/folders/1j-XK2umdsMwAPsOgEgqt4rR56q6oBGSf?usp=sharing\n",
    "- 2) Dans l'en-tête \"Partagés avec moi\", aller dans \"data\", et cliquer sur \"ajouter à mon drive\".\n",
    "- 3) Pour ouvrir les TP, aller d'abord dans https://colab.research.google.com/\n",
    "- 4) Sur la page de chargement (figure ci-dessous): cliquer sur \"GitHub\", puis rentrer le lien https://github.com/afiliot/TPDUIA ; vous pouvez refuser les demandes d'autorisation. Puis, dans le menu déroulant des fichiers, sélectionnez `TPDUIA/2022/whole_slide_images.ipynb`"
   ]
  },
  {
   "cell_type": "markdown",
   "metadata": {},
   "source": [
    "# Prérequis après ouverture du notebook\n",
    "\n",
    "- 5) Cliquer dans le menu sur `Affichage` puis `Dérouler les rubriques`\n",
    "- 6) Réaliser un point de montage avec le contenu de son drive pour accéder aux données du TP (cliquez sur la cellule ci-dessous).\n",
    "- 7) Une fois le notebook ouvert, cliquer sur `Modifier` puis `Paramètres du notebook` puis `accélérateur matériel`, et finalement `GPU` pour disposer d'une carte graphique virtualisée."
   ]
  },
  {
   "cell_type": "code",
   "execution_count": null,
   "metadata": {},
   "outputs": [],
   "source": [
    "from google.colab import drive\n",
    "drive.mount('/content/gdrive/')"
   ]
  },
  {
   "cell_type": "markdown",
   "metadata": {},
   "source": [
    "# Données utilisées: programme TCGA https://portal.gdc.cancer.gov/"
   ]
  },
  {
   "cell_type": "markdown",
   "metadata": {},
   "source": [
    "Lames issues de la cohorte TCGA-STAD (n=443 pour 442 WSI) recensant des patients atteints d'adénocarcinome gastrique (cancer de l'estomac), <a href=\"https://portal.gdc.cancer.gov/projects/TCGA-STAD\"> disponible ici (page d'accueil)<a>.\n",
    "    \n",
    "TCGA: The Cancer Genome Atlas, est un programme de recherche tourné vers la caractérisation moléculaire d'un très large panel de cancers (33 types différents pour 20 000 patients inclus). Le portail TCGA est un recueil extrêmement précieux de données -omiques et d'échantillons biologiques numérisés. Ce programme a démarré en 2006 à l'initiative du NCI (National Cancer Institue, US), du NHI (National Institutes for Health, US) et du NHGR (National Human Genome Research Institute). Les données TCGA sont ouvertes à la communauté scientifique et sont aujourd'hui utilisées mondialement dans le monde de la recherche académique.\n",
    "   \n",
    "Le portail TCGA propose un certain nombre d'API et web service, comme ces:\n",
    "- <a href=\"https://portal.gdc.cancer.gov/analysis?analysisId=2022-03-01T11%3A15%3A31.371Z&analysisTableTab=result\"> outil de visualisation des données cliniques<a>\n",
    "- <a href=\"https://portal.gdc.cancer.gov/image-viewer?caseId=e52396d1-acd6-44f4-99c5-1a367128008d&filters=%7B%22op%22%3A%22and%22%2C%22content%22%3A%5B%7B%22op%22%3A%22in%22%2C%22content%22%3A%7B%22field%22%3A%22cases.case_id%22%2C%22value%22%3A%5B%22set_id%3AezowRX8Bl4ySVQYe--M_%22%5D%7D%7D%5D%7D&selectedId=4e52fa82-b5c8-4432-9149-5ebd3ada8e0c\"> outil de visualisation des lames<a>"
   ]
  },
  {
   "cell_type": "markdown",
   "metadata": {},
   "source": [
    "# Consultation des lames sur le portail TCGA"
   ]
  },
  {
   "cell_type": "markdown",
   "metadata": {},
   "source": [
    "- Liste des lames \"diagnostiques\" de la cohorte TCGA-STAD, _i.e._ des lames issues de prélévements opératoires <a href=\"https://portal.gdc.cancer.gov/repository?filters=%7B%22op%22%3A%22and%22%2C%22content%22%3A%5B%7B%22content%22%3A%7B%22field%22%3A%22cases.project.project_id%22%2C%22value%22%3A%5B%22TCGA-STAD%22%5D%7D%2C%22op%22%3A%22in%22%7D%2C%7B%22content%22%3A%7B%22field%22%3A%22files.data_format%22%2C%22value%22%3A%5B%22svs%22%5D%7D%2C%22op%22%3A%22in%22%7D%2C%7B%22op%22%3A%22in%22%2C%22content%22%3A%7B%22field%22%3A%22files.experimental_strategy%22%2C%22value%22%3A%5B%22Diagnostic%20Slide%22%5D%7D%7D%5D%7D\"> disponible sur le portail TCGA <a>.\n",
    "\n",
    "- Il est également possible de consulter les données par patients <a href=\"https://portal.gdc.cancer.gov/exploration?filters=%7B%22content%22%3A%5B%7B%22content%22%3A%7B%22field%22%3A%22cases.case_id%22%2C%22value%22%3A%5B%22set_id%3A6D8nRX8BEVoSrQHWcDxr%22%5D%7D%2C%22op%22%3A%22IN%22%7D%5D%2C%22op%22%3A%22AND%22%7D\"> ici<a>.\n",
    "    \n",
    "- Les lames sont marquées par \"DX1\" ou \"DX2\"."
   ]
  },
  {
   "cell_type": "markdown",
   "metadata": {},
   "source": [
    "______________\n",
    "On va ici appliquer des filtres à la cohorte:\n",
    "- 1) Patient de sexe masculin,\n",
    "- 2) Patient décédé,\n",
    "- 3) Patient atteint d'un adénocarcinome de l'estomac,\n",
    "- 4) Patient donc le stade tumoral T (TNM) est égal à 4b\n",
    "\n",
    "**Ceci permet d'aboutir à une liste de 6 patients pour 6 lames,** <a href=\"https://portal.gdc.cancer.gov/image-viewer?filters=%7B%22op%22%3A%22and%22%2C%22content%22%3A%5B%7B%22op%22%3A%22in%22%2C%22content%22%3A%7B%22field%22%3A%22cases.case_id%22%2C%22value%22%3A%5B%22set_id%3A_myuY38BEqg9E8t96O1c%22%5D%7D%7D%5D%7D\"> **disponible ici**<a>.\n",
    "______________\n",
    "Explication des différents stades <a href=\"https://cancer.ca/fr/cancer-information/cancer-types/stomach/staging\"> selon l'AJCC <a>.\n",
    "    \n",
    "Une tumeur T4b est incluse dans la catégorie AJCC IIIC décrivant les cas suivants (1 ou 2):\n",
    "- La tumeur a envahi la sous-séreuse ou elle a traversé la séreuse. Le cancer s’est aussi propagé à au moins 16 ganglions lymphatiques situés près de l’estomac\n",
    "- La tumeur a envahi des régions ou des organes voisins. Le cancer s’est aussi propagé à au moins 7 ganglions lymphatiques situés près de l’estomac\n",
    "\n",
    "______________"
   ]
  },
  {
   "cell_type": "markdown",
   "metadata": {},
   "source": [
    "![img1](https://cdn.cancer.ca/-/media/cams/stomach/f72b40a0-b64f-11ea-bc3d-0242df4d59be-fr.png?h=375&mw=1586&w=454&rev=d0a96a936a96477aad98a5ffd624081d&extension=webp&hash=025B40D2FF66F1C317112406156877FD \"Source: https://cancer.ca/fr/cancer-information/cancer-types/stomach/staging\")\n",
    "\n",
    "Source: https://cancer.ca/fr/cancer-information/cancer-types/stomach/staging\n",
    "\n",
    "![img1](https://external-content.duckduckgo.com/iu/?u=https%3A%2F%2Fwww.revmed.ch%2Fvar%2Fsite%2Fstorage%2Fimages%2Frms-2422%2Fimages%2F22736_1.gif%2F468899-1-fre-CH%2F22736_1.gif_i770.gif&f=1&nofb=1 \"Source https://www.revmed.ch/\")\n",
    "\n",
    "Source: https://www.revmed.ch/"
   ]
  },
  {
   "cell_type": "markdown",
   "metadata": {},
   "source": [
    "# Installer open-slide\n",
    "\n",
    "OpenSlide Python est une interface Python de la librairie OpenSlide https://openslide.org/ qui gère les formats suivants:\n",
    "- Aperio (.svs, .tif)\n",
    "- Hamamatsu (.vms, .vmu, .ndpi)\n",
    "- Leica (.scn)\n",
    "- MIRAX (.mrxs)\n",
    "- Philips (.tiff)\n",
    "- Sakura (.svslide)\n",
    "- Trestle (.tif)\n",
    "- Ventana (.bif, .tif)\n",
    "- Generic tiled TIFF (.tif)\n",
    "\n",
    "OpenSlide est une librairie C proposant une interface simple, open-source pour la lecture et la manipulation de WSI, caractérisées par une structure pyramidale contenant des niveaux de très haute résolution."
   ]
  },
  {
   "cell_type": "code",
   "execution_count": null,
   "metadata": {},
   "outputs": [],
   "source": [
    "!apt update && apt install -y openslide-tools\n",
    "!pip install openslide-python\n",
    "!pip install p-tqdm\n",
    "!git clone https://github.com/openslide/openslide-python.git\n",
    "!mv openslide-python openslidepython\n",
    "!wget https://raw.githubusercontent.com/afiliot/TPDUIA/main/TPDUIA/2022/scripts.py\n",
    "!mv scripts.py /content/gdrive/MyDrive/TPDUIA/"
   ]
  },
  {
   "cell_type": "markdown",
   "metadata": {},
   "source": [
    "# Ajout du code `scripts.py` dans Colab"
   ]
  },
  {
   "cell_type": "code",
   "execution_count": null,
   "metadata": {},
   "outputs": [],
   "source": [
    "import sys\n",
    "sys.path.insert(0, '/content/gdrive/My Drive/TPDUIA/')"
   ]
  },
  {
   "cell_type": "markdown",
   "metadata": {},
   "source": [
    "# Import des librairies nécessaires"
   ]
  },
  {
   "cell_type": "code",
   "execution_count": null,
   "metadata": {},
   "outputs": [],
   "source": [
    "# librairies utilitaires\n",
    "import os\n",
    "from pprint import pprint\n",
    "from glob import glob\n",
    "from random import sample\n",
    "\n",
    "# numpy pour les matrics\n",
    "import numpy as np\n",
    "\n",
    "# visualisation de la progression des processus\n",
    "from tqdm import tqdm\n",
    "from p_tqdm import p_map\n",
    "\n",
    "# manipulation et traitement des WSI\n",
    "import openslide\n",
    "\n",
    "# visualisation\n",
    "from PIL import Image"
   ]
  },
  {
   "cell_type": "markdown",
   "metadata": {},
   "source": [
    "# Chemin vers les données\n",
    "\n",
    "(exécutez cette cellule)"
   ]
  },
  {
   "cell_type": "code",
   "execution_count": null,
   "metadata": {},
   "outputs": [],
   "source": [
    "wsi_folder = '/data/freganet/RAW/TCGA/WSI/' #'/content/gdrive/MyDrive/TPDUIA/SLIDES//'"
   ]
  },
  {
   "cell_type": "markdown",
   "metadata": {},
   "source": [
    "# Chargement des lames"
   ]
  },
  {
   "cell_type": "markdown",
   "metadata": {},
   "source": [
    "Nous allons travailler avec les 6 lames précédentes issues de 6 patients différents:\n",
    "\n",
    "    '8362/TCGA-BR-8362-01Z-00-DX1.178c994d-2cf5-4385-a807-fc08e0cf10f6.svs', # patient 8362\n",
    "    'A4CS/TCGA-BR-A4CS-01Z-00-DX1.84B5892C-6C7F-474D-BA09-04E870A47764.svs', # patient A4CS\n",
    "    'A91D/TCGA-VQ-A91D-01Z-00-DX1.B7E99494-FA16-42B5-AC1C-1498A7989111.svs', # patient A91D\n",
    "    'A4GQ/TCGA-HU-A4GQ-01Z-00-DX1.699A0E57-FE02-4329-9826-3EFC2DECD408.svs', # patient A4GQ\n",
    "    '8686/TCGA-BR-8686-01Z-00-DX1.8f559dd9-228e-4ed2-a7e4-16e04b80f05c.svs', # patient 8686\n",
    "    '8590/TCGA-BR-8590-01Z-00-DX1.504afa1d-3a8f-423f-9edf-4df35720c05f.svs'  # patient 8590"
   ]
  },
  {
   "cell_type": "markdown",
   "metadata": {},
   "source": [
    "### Visualisation d'une lame avec ``deepzoom_server.py``"
   ]
  },
  {
   "cell_type": "markdown",
   "metadata": {},
   "source": [
    "Executez le code ci-dessous."
   ]
  },
  {
   "cell_type": "code",
   "execution_count": null,
   "metadata": {},
   "outputs": [],
   "source": [
    "wsi_path = os.path.join(\n",
    "    wsi_folder,\n",
    "    'A4CS/TCGA-BR-A4CS-01Z-00-DX1.84B5892C-6C7F-474D-BA09-04E870A47764.svs'\n",
    ")"
   ]
  },
  {
   "cell_type": "markdown",
   "metadata": {},
   "source": [
    "Pour lancer un serveur de visualisation sur le port 5000, décommentez et exécutez le code ci-dessus."
   ]
  },
  {
   "cell_type": "code",
   "execution_count": null,
   "metadata": {},
   "outputs": [],
   "source": [
    "from scripts import launch_server\n",
    "\n",
    "# lancement d'un serveur sur le port 5000\n",
    "launch_server(wsi_path)"
   ]
  },
  {
   "cell_type": "markdown",
   "metadata": {},
   "source": [
    "Puis connectez vous à http://127.0.0.1:5000/ pour visualiser la lame.\n",
    "\n",
    "Une fois la visualisation terminée, vous pouvez cliquer sur l'icône d'interruption du notebook. La cellule précédente devra afficher \"Server stopped\" une fois le notebook interrompu."
   ]
  },
  {
   "cell_type": "code",
   "execution_count": null,
   "metadata": {},
   "outputs": [],
   "source": [
    "# liste des chemins correspondant aux lames de 0 à 5\n",
    "wsi_paths = [\n",
    "    \n",
    "    '8362/TCGA-BR-8362-01Z-00-DX1.178c994d-2cf5-4385-a807-fc08e0cf10f6.svs', # patient 8362, lame 0\n",
    "    'A4CS/TCGA-BR-A4CS-01Z-00-DX1.84B5892C-6C7F-474D-BA09-04E870A47764.svs', # patient A4CS, lame 1\n",
    "    'A91D/TCGA-VQ-A91D-01Z-00-DX1.B7E99494-FA16-42B5-AC1C-1498A7989111.svs', # patient A91D, lame 2\n",
    "    'A4GQ/TCGA-HU-A4GQ-01Z-00-DX1.699A0E57-FE02-4329-9826-3EFC2DECD408.svs', # patient A4GQ, lame 3\n",
    "    '8686/TCGA-BR-8686-01Z-00-DX1.8f559dd9-228e-4ed2-a7e4-16e04b80f05c.svs', # patient 8686, lame 4\n",
    "    '8590/TCGA-BR-8590-01Z-00-DX1.504afa1d-3a8f-423f-9edf-4df35720c05f.svs'  # patient 8590, lame 5\n",
    "    \n",
    "]"
   ]
  },
  {
   "cell_type": "code",
   "execution_count": null,
   "metadata": {},
   "outputs": [],
   "source": [
    "# vous pouvez explorer d'autres lames\n",
    "# 1) exécutez la cellule et entrez un numéro de lame entre 0 et 5\n",
    "numero_lame = 1\n",
    "assert numero_lame in range(6), 'Entrez un chiffre entre 0 et 5!'\n",
    "\n",
    "# chemin de la lame d'intérêt que vous avez sélectionnée\n",
    "wsi_path = os.path.join(wsi_folder, wsi_paths[int(numero_lame)])\n",
    "\n",
    "# ouverture du serveur, n'oubliez pas d'aller sur http://127.0.0.1:5000/ pour visualiser la lame\n",
    "launch_server(wsi_path)"
   ]
  },
  {
   "cell_type": "markdown",
   "metadata": {},
   "source": [
    "## Utilisation de l'objet ``OpenSlide`` pour charger une lame"
   ]
  },
  {
   "cell_type": "code",
   "execution_count": null,
   "metadata": {},
   "outputs": [],
   "source": [
    "wsi_folder = '/data/freganet/RAW/TCGA/WSI/' #'/content/gdrive/MyDrive/TPDUIA/SLIDES//'\n",
    "wsi_path = os.path.join(\n",
    "    wsi_folder,\n",
    "    'A4CS/TCGA-BR-A4CS-01Z-00-DX1.84B5892C-6C7F-474D-BA09-04E870A47764.svs'\n",
    ")\n",
    "wsi = openslide.OpenSlide(wsi_path)"
   ]
  },
  {
   "cell_type": "markdown",
   "metadata": {},
   "source": [
    "### Visualisation des méta-données"
   ]
  },
  {
   "cell_type": "code",
   "execution_count": null,
   "metadata": {},
   "outputs": [],
   "source": [
    "wsi_metadata = dict(wsi.properties)\n",
    "aperio_metadata = {\n",
    "    k: v for (k, v) in wsi_metadata.items() if k.startswith('aperio')\n",
    "}\n",
    "openslide_metadata = {\n",
    "    k: v for (k, v) in wsi_metadata.items() if k.startswith('openslide')\n",
    "}"
   ]
  },
  {
   "cell_type": "markdown",
   "metadata": {},
   "source": [
    "### Sur la numérisation"
   ]
  },
  {
   "cell_type": "code",
   "execution_count": null,
   "metadata": {},
   "outputs": [],
   "source": [
    "pprint(aperio_metadata)"
   ]
  },
  {
   "cell_type": "markdown",
   "metadata": {},
   "source": [
    "### Sur la lame elle-même"
   ]
  },
  {
   "cell_type": "code",
   "execution_count": null,
   "metadata": {},
   "outputs": [],
   "source": [
    "pprint(openslide_metadata)"
   ]
  },
  {
   "cell_type": "markdown",
   "metadata": {},
   "source": [
    "### Sélection des informations utiles"
   ]
  },
  {
   "cell_type": "code",
   "execution_count": null,
   "metadata": {},
   "outputs": [],
   "source": [
    "from scripts import print_slide_details\n",
    "\n",
    "print_slide_details(wsi, show_thumbnail=True)"
   ]
  },
  {
   "cell_type": "code",
   "execution_count": null,
   "metadata": {},
   "outputs": [],
   "source": [
    "# vous pouvez changer de lame\n",
    "numero_lame = 1\n",
    "wsi_path = os.path.join(wsi_folder, wsi_paths[int(numero_lame)])\n",
    "wsi = openslide.OpenSlide(wsi_path)\n",
    "print_slide_details(wsi, show_thumbnail=True)"
   ]
  },
  {
   "cell_type": "markdown",
   "metadata": {},
   "source": [
    "## Sélection de zones d'intérêt"
   ]
  },
  {
   "cell_type": "code",
   "execution_count": null,
   "metadata": {},
   "outputs": [],
   "source": [
    "from scripts import display_region\n",
    "\n",
    "x = 18500\n",
    "y = 19500\n",
    "level = 2\n",
    "width = 500\n",
    "height = 500\n",
    "display_region(wsi, x, y, level, width, height)"
   ]
  },
  {
   "cell_type": "code",
   "execution_count": null,
   "metadata": {},
   "outputs": [],
   "source": [
    "x = 18000\n",
    "y = 3000\n",
    "level = 2\n",
    "width = 500\n",
    "height = 500\n",
    "display_region(x, y, level, width, height)"
   ]
  },
  {
   "cell_type": "markdown",
   "metadata": {},
   "source": [
    "# Séparation du tissu et du fond blanc"
   ]
  },
  {
   "cell_type": "markdown",
   "metadata": {},
   "source": [
    "### Technique d'Otsu"
   ]
  },
  {
   "cell_type": "markdown",
   "metadata": {},
   "source": [
    "La technique d'Otsu est une technique de seuillage permettant de séparer une image en plusieurs classes ou groupes d'intensité. Cette technique minime la variance intra-classe des groupes construits comme étant homogènes (vis-à-vis de seuils d'intensité).\n",
    "\n",
    "![img1](https://external-content.duckduckgo.com/iu/?u=http%3A%2F%2Fwww.meccanismocomplesso.org%2Fwp-content%2Fuploads%2F2017%2F04%2FOpenCV-Otsu-Binary-threshold-of-noisy_leaf-image-2-1.jpg&f=1&nofb=1 \"Source: https://external-content.duckduckgo.com/iu/?u=http%3A%2F%2Fwww.meccanismocomplesso.org%2Fwp-content%2Fuploads%2F2017%2F04%2FOpenCV-Otsu-Binary-threshold-of-noisy_leaf-image-2-1.jpg&f=1&nofb=1\")\n",
    "\n",
    "Source: https://www.meccanismocomplesso.org/opencv-python-otsu-binarization-thresholding/\n"
   ]
  },
  {
   "cell_type": "markdown",
   "metadata": {},
   "source": [
    "### Conversion de l'image RGB vers l'espace de couleur LAB"
   ]
  },
  {
   "cell_type": "markdown",
   "metadata": {},
   "source": [
    "_Explications partiellement empruntées de l'excellente page Wikipédia sur le sujet: https://fr.wikipedia.org/wiki/L*a*b*_CIE_1976_\n",
    "\n",
    "Pour séparer les tissus du fond blanc de lame, l'approche d'Otsu est la plus populaire en pathologie digitale. En pratique, cette séparation ne s'effectue pas dans le domaine RGB (Red-Green-Blue) standard mais l'espace chromatique LAB.\n",
    "\n",
    "L'espace chromatique LAB CIE 1976, ou CIELAB, est utilisé pour la caractérisation des couleurs de surface. Il a été introduit par la Commission Internationale de l'Eclairage en 1976.\n",
    "\n",
    "Les coordonnnées cartésiennes (L, a, b) peuvent être calculées à partir des coordonnées (r, g, b) dans l'espace RGB. La méthode de calcul est décrite ici: https://docs.opencv.org/3.4/de/d25/imgproc_color_conversions.html#color_convert_rgb_lab\n",
    "\n",
    "Si l'on regarde le diagramme ci-dessous, l'espace CIE LAB peut être assimilé à une sphère aplatie au sommets (sur l'axe a). De telle sorte que:\n",
    "- l'axe vertical L correspond à la clarté ou luminosité allant de 0 à 100 (0 pour le noir où l'absorption est totale, et 100 pour le blanc où la réflexion est totale)\n",
    "- dans chaque plan horizontal de cette sphère (sur l'axe b), on trouve deux axes orthonormés:\n",
    "    - -a vers +a qui correspond à l'axe vert-rouge (rougissement) \n",
    "    - -b vers b qui correspond à l'axe bleu-jaune (jaunissement)\n",
    "    \n",
    "La teinte et la saturation d'une couleur donnée seront déterminées par les coordonnées cartésiennes a, b. Plus on s'éloigne du centre (où la couleur est neutre), plus la couleur est saturée.\n",
    "  \n",
    "![img1](https://external-content.duckduckgo.com/iu/?u=http%3A%2F%2Fwww.laelith.fr%2FCours%2FIllus%2F010-cielab_3D.jpg&f=1&nofb=1 \"Source: https://external-content.duckduckgo.com/iu/?u=http%3A%2F%2Fwww.laelith.fr%2FCours%2FIllus%2F010-cielab_3D.jpg&f=1&nofb=1\")\n",
    "\n",
    "\n",
    "\n",
    "Illustrations avec une image RGB converties dans l'espace LAB dont les canaux de couleur ont été séparés:\n",
    "\n",
    "![img1](https://miro.medium.com/max/1050/1*mJQuHRG9La6hZNV4B8hP8A.png \"Source: https://miro.medium.com/max/1050/1*mJQuHRG9La6hZNV4B8hP8A.png\")\n",
    "\n",
    "![img1](https://miro.medium.com/max/1050/1*IfZrdyN-pe1oKbfBEPOM1w.png \"Source: https://miro.medium.com/max/1050/1*IfZrdyN-pe1oKbfBEPOM1w.png\")\n",
    "\n",
    "\n",
    "Sources:\n",
    "- https://fr.wikipedia.org/wiki/L*a*b*_CIE_1976\n",
    "- https://www.universalis.fr/encyclopedie/colorimetrie/3-l-espace-cielab-1976-ou-l-a-b/#DE041512\n",
    "- https://towardsdatascience.com/understand-and-visualize-color-spaces-to-improve-your-machine-learning-and-deep-learning-models-4ece80108526"
   ]
  },
  {
   "cell_type": "code",
   "execution_count": null,
   "metadata": {},
   "outputs": [],
   "source": [
    "from scripts import segment_region\n",
    "\n",
    "_ = segment_region(wsi, plot='all channels')"
   ]
  },
  {
   "cell_type": "code",
   "execution_count": null,
   "metadata": {},
   "outputs": [],
   "source": [
    "# vous pouvez changer de lame\n",
    "numero_lame = 2\n",
    "wsi_path = os.path.join(wsi_folder, wsi_paths[int(numero_lame)])\n",
    "wsi = openslide.OpenSlide(wsi_path)\n",
    "lab, img_raw, img_new, mask = segment_region(wsi, plot='lab only')"
   ]
  },
  {
   "cell_type": "code",
   "execution_count": null,
   "metadata": {},
   "outputs": [],
   "source": [
    "# vous pouvez changer de lame\n",
    "numero_lame = 4\n",
    "wsi_path = os.path.join(wsi_folder, wsi_paths[int(numero_lame)])\n",
    "wsi = openslide.OpenSlide(wsi_path)\n",
    "lab, img_raw, img_new, mask = segment_region(wsi, plot='lab only')"
   ]
  },
  {
   "cell_type": "markdown",
   "metadata": {},
   "source": [
    "# Création des patches"
   ]
  },
  {
   "cell_type": "markdown",
   "metadata": {},
   "source": [
    "Cette étape est indispensable à l'entraînement d'algorithmes de machine learning ou de deep learning. Elle consiste à créer des _patches_ (ou imagettes, en anglais _tiles_) qui vont quadriller la lame entière. \n",
    "\n",
    "Cette étape prend en compte un certain nombre de paramètres _a priori_, que nous allons fixer de la manière suivante:\n",
    "- taille physique des patches: 256$\\mu m$ par 256$\\mu m$ \n",
    "- niveau de résolution: 40x ou 0.25$\\mu mpp$\n",
    "- taille (en pixels) des patches: 256$px$ par 256 $px$\n",
    "- _overlap_ (ou taux de superposition): 0%\n",
    "- critère de sélection et stockage d'un patch: % fond blanc < 20%\n",
    "\n",
    "![img1](https://www.pixelscientia.com/images/wsi_weak_supervision1.jpg \"Source: https://www.pixelscientia.com/images/wsi_weak_supervision1.jpg\")\n",
    "\n",
    "\n",
    "Pour réaliser cette étape, nous allons utiliser l'objet `DeepZoomGenerator` du package `openslide`. Cet objet permet d'accéder aux régions d'une lame selon plusieurs niveaux de résolution, de manière optimisée. Sa syntaxe est spécifique et nécessite une bonne compréhension de la documentation.  "
   ]
  },
  {
   "cell_type": "code",
   "execution_count": null,
   "metadata": {},
   "outputs": [],
   "source": [
    "# paramètres\n",
    "tile_size = 256 # micromètres\n",
    "target_shape = 256 # pixels\n",
    "overlap = 0\n",
    "threshold_background_max = 0.2"
   ]
  },
  {
   "cell_type": "markdown",
   "metadata": {},
   "source": [
    "On créée l'objet DZG en lui ajoutant un certain nombre d'attributs."
   ]
  },
  {
   "cell_type": "markdown",
   "metadata": {},
   "source": [
    "Cellules à exécuter: 1) chargement de la lame, 2) création de l'objet DZG."
   ]
  },
  {
   "cell_type": "code",
   "execution_count": null,
   "metadata": {},
   "outputs": [],
   "source": [
    "numero_lame = 4\n",
    "wsi_path = os.path.join(wsi_folder, wsi_paths[int(numero_lame)])\n",
    "wsi = openslide.OpenSlide(wsi_path)\n",
    "wsi.get_thumbnail((200, 200))"
   ]
  },
  {
   "cell_type": "code",
   "execution_count": null,
   "metadata": {},
   "outputs": [],
   "source": [
    "from scripts import create_dzg, print_dz_properties\n",
    "\n",
    "dz = create_dzg(wsi, wsi_path, tile_size, target_shape, overlap, threshold_background_max)"
   ]
  },
  {
   "cell_type": "markdown",
   "metadata": {},
   "source": [
    "On peut maintenant s'intéresser à l'objet `dz` et certains de ces attributs."
   ]
  },
  {
   "cell_type": "code",
   "execution_count": null,
   "metadata": {},
   "outputs": [],
   "source": [
    "print_dz_properties(dz)"
   ]
  },
  {
   "cell_type": "markdown",
   "metadata": {},
   "source": [
    "On va désormais utiliser plusieurs fonctions utilitaires pour extraire les patchs de la lame."
   ]
  },
  {
   "cell_type": "markdown",
   "metadata": {},
   "source": [
    "Commençons par créer une grille de toutes les coordonnées des patchs."
   ]
  },
  {
   "cell_type": "code",
   "execution_count": null,
   "metadata": {},
   "outputs": [],
   "source": [
    "from scripts import get_grid\n",
    "\n",
    "grid = get_grid(dz)\n",
    "print('Premières coordonnées');print(grid[:10])\n",
    "print('Dernières coordonnées');print(grid[-5:])\n",
    "print('Nombre de patches');print(grid[-1])"
   ]
  },
  {
   "cell_type": "markdown",
   "metadata": {},
   "source": [
    "On peut utiliser la fonction `get_regions` pour mieux comprendre son fonctionnement."
   ]
  },
  {
   "cell_type": "code",
   "execution_count": null,
   "metadata": {},
   "outputs": [],
   "source": [
    "from scripts import get_regions\n",
    "\n",
    "get_regions(dz, 0, 50)"
   ]
  },
  {
   "cell_type": "markdown",
   "metadata": {},
   "source": [
    "Et enfin utiliser la fonction `ij_tiling` pour visualiser le résultat de la segmentation sur le patch de coordonnées (10, 51). Attention: (10, 51) signifie 10ième colonne, et 51ième ligne."
   ]
  },
  {
   "cell_type": "code",
   "execution_count": null,
   "metadata": {},
   "outputs": [],
   "source": [
    "from scripts import ij_tiling\n",
    "# (10, 51): 10ième colonne, 51ième ligne\n",
    "tile, tile_path = ij_tiling(dz, (10, 51), plot=True)"
   ]
  },
  {
   "cell_type": "markdown",
   "metadata": {},
   "source": [
    "On peut également afficher l'ensemble des patchs sur une même ligne."
   ]
  },
  {
   "cell_type": "code",
   "execution_count": null,
   "metadata": {},
   "outputs": [],
   "source": [
    "from scripts import plot_tiles_on_row\n",
    "\n",
    "plot_tiles_on_row(dz, grid, j=51)"
   ]
  },
  {
   "cell_type": "markdown",
   "metadata": {},
   "source": [
    "Vous pouvez essayer de retrouver l'imagette (51, 0) ou (51, 1) sur la lame."
   ]
  },
  {
   "cell_type": "code",
   "execution_count": null,
   "metadata": {},
   "outputs": [],
   "source": [
    "#launch_server(wsi_path)"
   ]
  },
  {
   "cell_type": "markdown",
   "metadata": {},
   "source": [
    "On peut retrouver la bande correspondante à la ligne 40 grâce au script suivant."
   ]
  },
  {
   "cell_type": "code",
   "execution_count": null,
   "metadata": {},
   "outputs": [],
   "source": [
    "from scripts import visualize_band\n",
    "\n",
    "row = 51\n",
    "visualize_band(wsi, dz, delta=-400, row=row)"
   ]
  },
  {
   "cell_type": "markdown",
   "metadata": {},
   "source": [
    "On change le niveau de résolution ! "
   ]
  },
  {
   "cell_type": "code",
   "execution_count": null,
   "metadata": {},
   "outputs": [],
   "source": [
    "visualize_band(wsi, dz, row=row, delta=-800, band_level=0)"
   ]
  },
  {
   "cell_type": "markdown",
   "metadata": {},
   "source": [
    "Vous pouvez désormais essayer avec d'autres lignes de la lame."
   ]
  },
  {
   "cell_type": "code",
   "execution_count": null,
   "metadata": {},
   "outputs": [],
   "source": [
    "row = 48\n",
    "\n",
    "visualize_band(wsi, dz, row-1, band_level=2)\n",
    "visualize_band(wsi, dz, row, band_level=1)\n",
    "visualize_band(wsi, dz, row, band_level=0)"
   ]
  },
  {
   "cell_type": "markdown",
   "metadata": {},
   "source": [
    "Pour finir sur la visualisation, nous allons observer le résultat de la segmentation sur certains patchs tirés aléatoirement sur la lame (ré-exécuter le code jusqu'à obtenir quelques images)."
   ]
  },
  {
   "cell_type": "code",
   "execution_count": null,
   "metadata": {
    "scrolled": true
   },
   "outputs": [],
   "source": [
    "for coords in tqdm(sample(grid, k=20)):\n",
    "    _ = ij_tiling(dz, coords, plot=True)"
   ]
  },
  {
   "cell_type": "markdown",
   "metadata": {},
   "source": [
    "Nous allons maintenant stocker toutes les images dans le drive dans une taille plus grande (512 micromètres) pour accélerer le processus."
   ]
  },
  {
   "cell_type": "code",
   "execution_count": null,
   "metadata": {},
   "outputs": [],
   "source": [
    "tile_size = 512 # micromètres\n",
    "threshold_background_max = 0.8\n",
    "target_shape = 224\n",
    "overlap = 0\n",
    "dz = create_dzg(wsi, wsi_path, tile_size, target_shape, overlap, threshold_background_max)\n",
    "tiles_names = os.listdir(dz.output_folder)\n",
    "grid = get_grid(dz)\n",
    "print(f'Total: {len(grid)} patches to process.')"
   ]
  },
  {
   "cell_type": "code",
   "execution_count": null,
   "metadata": {},
   "outputs": [],
   "source": [
    "print_dz_properties(dz)"
   ]
  },
  {
   "cell_type": "markdown",
   "metadata": {},
   "source": [
    "On peut paralléliser la fonction ij_tiling sur toutes les coordonnées de la grille."
   ]
  },
  {
   "cell_type": "code",
   "execution_count": null,
   "metadata": {
    "scrolled": true
   },
   "outputs": [],
   "source": [
    "print('Running...')\n",
    "_ = p_map(lambda x: ij_tiling(dz, x, plot=False), grid)\n",
    "print(f'Done. Stored {len(os.listdir(dz.output_folder))} patches.')"
   ]
  },
  {
   "cell_type": "markdown",
   "metadata": {},
   "source": [
    "Et désormais afficher le résultat de la segmentation !"
   ]
  },
  {
   "cell_type": "code",
   "execution_count": null,
   "metadata": {},
   "outputs": [],
   "source": [
    "from scripts import plot_patch_mask\n",
    "\n",
    "plot_patch_mask(dz)"
   ]
  },
  {
   "cell_type": "markdown",
   "metadata": {},
   "source": [
    "Vous pouvez vous exercer avec d'autres lames et d'autres paramètres."
   ]
  },
  {
   "cell_type": "markdown",
   "metadata": {},
   "source": [
    "-> Cellule pour le chargement de la lame."
   ]
  },
  {
   "cell_type": "code",
   "execution_count": null,
   "metadata": {},
   "outputs": [],
   "source": [
    "numero_lame = 3\n",
    "wsi_path = os.path.join(wsi_folder, wsi_paths[int(numero_lame)])\n",
    "wsi = openslide.OpenSlide(wsi_path)\n",
    "wsi.get_thumbnail((200, 200))"
   ]
  },
  {
   "cell_type": "markdown",
   "metadata": {},
   "source": [
    "-> Cellule pour la création de l'objet DZG (+ segmentation)."
   ]
  },
  {
   "cell_type": "code",
   "execution_count": null,
   "metadata": {},
   "outputs": [],
   "source": [
    "tile_size = 256 # micromètres\n",
    "target_shape = 224 # pixels\n",
    "overlap = 0\n",
    "threshold_background_max = 0.4\n",
    "scale_factor = 1/64 if numero_lame in [0, 2] else 1/32"
   ]
  },
  {
   "cell_type": "code",
   "execution_count": null,
   "metadata": {},
   "outputs": [],
   "source": [
    "dz = create_dzg(wsi, wsi_path, tile_size, target_shape, overlap, threshold_background_max, scale_factor)\n",
    "tiles_names = os.listdir(dz.output_folder)\n",
    "grid = get_grid(dz)\n",
    "print(f'Total: {len(grid)} patches to process.')"
   ]
  },
  {
   "cell_type": "markdown",
   "metadata": {},
   "source": [
    "-> Cellule pour le stockage des patches."
   ]
  },
  {
   "cell_type": "code",
   "execution_count": null,
   "metadata": {
    "scrolled": true
   },
   "outputs": [],
   "source": [
    "print('Running...')\n",
    "_ = p_map(lambda x: ij_tiling(dz, x, plot=False), grid)\n",
    "print(f'Done. Stored {len(os.listdir(dz.output_folder))} patches.')"
   ]
  },
  {
   "cell_type": "markdown",
   "metadata": {},
   "source": [
    "-> Cellule pour l'affichage de la mosaïque."
   ]
  },
  {
   "cell_type": "code",
   "execution_count": null,
   "metadata": {},
   "outputs": [],
   "source": [
    "plot_patch_mask(dz)"
   ]
  },
  {
   "cell_type": "markdown",
   "metadata": {},
   "source": [
    "# Teinte et normalisation "
   ]
  },
  {
   "cell_type": "markdown",
   "metadata": {},
   "source": [
    "_La coloration HE_\n",
    "\n",
    "La coloration à l'hématoxyline et à l'éosine (abrégée par coloration HE) est une technique de coloration bichromatique utilisée en routine en histopathologie. La coloration de routine permet au pathologiste de se faire une idée de la pathologie présente et d’avoir une vision globale de la morphologie des tissus (noyau, cytoplasme et collagène).\n",
    "Il peut ensuite demander à revoir le même tissu mais cette fois avec un élément tissulaire particulier qui aura été mis en évidence de façon spécifique via des colorations spéciales.\n",
    "\n",
    "La coloration HE se compose:\n",
    "- d'un colorant nucléaire, l'hématoxyline: colorant cationique (ou basique) qui a une affinité pour les éléments cellulaires chargés négativement (= anioniques ou acides) dits basophiles\n",
    "- et d'un colorant cytoplasmique, l'éosine: colorant anionique (ou acide), qui a une affinité pour les éléments cellulaires chargés positivement (= cationiques ou basiques) dits éosinophiles.\n",
    "\n",
    "Ces deux composants colorent:\n",
    "- pour l'hématoxyline: le cytoplasme en rose et les autres éléments cellulaires basiques en rose/rouge plus ou moins vifs selon leur acidophilie (affinité pour les colorants acides)\n",
    "- pour l'éosine: les noyaux en bleu/violet en se fixant sur les acides nucléiques.\n",
    "\n",
    "![img1](https://upload.wikimedia.org/wikipedia/commons/8/86/Emphysema_H_and_E.jpg \"Source: https://upload.wikimedia.org/wikipedia/commons/8/86/Emphysema_H_and_E.jpg\")\n",
    "\n",
    "Source: https://fr.wikipedia.org/wiki/Coloration_%C3%A0_l%27h%C3%A9matoxyline_et_%C3%A0_l%27%C3%A9osine\n",
    "\n",
    "En microscopie optique, on observe également grâce à la coloration HE:\n",
    "- Les basophiles en pourpre\n",
    "- Les muscles en rose foncé\n",
    "- Les globules rouges en rouge cerise\n",
    "- Le collagène en rose pâle"
   ]
  },
  {
   "cell_type": "markdown",
   "metadata": {},
   "source": [
    "\n",
    "*HED et IHC: deux termes à connaître en histopathologie*\n",
    "\n",
    "La coloration HED est particulièrement utilisée en immunohistochimie (IHC), _la_ méthode la plus utilisée pour le diagnostic de cancer à l'heure actuelle. L'IHC permet de mettre en évidence certains marqueurs moléculaires caractéristiques de cellules ou d'événements anormaux tels que la prolifération de cellules cancéreuses ou la mort cellulaire, par exemple CD10 (CALLA) qui marque les cellules de l'adénocarcinome du rein (ou encore CD117 pour les cellules tumorales gastro-intestinales, pour plus de détails: https://en.wikipedia.org/wiki/Immunohistochemistry).\n",
    "\n",
    "L'IHC est aussi largement utilisée en recherche fondamentale pour comprendre la distribution et la localisation de biomarqueurs et de protéines différentiellement exprimés dans les différentes parties d'un tissu biologique\n",
    "\n",
    "\n",
    "D'un point de vue pratique, le prélévement de tissu est placé sur un support solide et un anticorps est ajouté à la préparation, fixant spécifiquement la protéine à détecter. Plus tard, l'échantillon découpé est plongé dans un bain de Diaminobenzidine permettant de visualiser l'anticorps fixé. Les noyaux, le cytoplasme, les membranes sont ensuite révélées par contre-coloration à l'Hématoxyline et / ou à l'Eosine. `scikit-image` propose de visualiser les 3 canaux différents, H, E et DAB à partir d'une image normale RGB.\n",
    "\n",
    "_Exemple_\n",
    "\n",
    "Sur cette image, un échantillon a été coloré grâce au marquage PIN-4, qui est \"cocktail\" de différents anti-corps ciblant les protéines p63, CK-5, CK-14 et P504S et permettant de distinguer les glandes bénignes de cellules tumorales de la prostate. Sur la gauche, on note ainsi une glande bénigne, tandis qu'à droite, une cellule tumorale. Cette cellule ne présente pas de celulles épithéliales basales (marquées en marron par p63, CK-5 et CK-14), contrairement à la cellule saine. En plus, grâce au marquage PIN-4, les cellules tumorales présentent des cytoplasmes rouges (marqués par P504S).\n",
    "\n",
    "![img1](https://upload.wikimedia.org/wikipedia/commons/thumb/3/3c/PIN-4_staining_of_benign_prostate_gland_and_adenocarcinoma.jpg/400px-PIN-4_staining_of_benign_prostate_gland_and_adenocarcinoma.jpg \"Source: https://upload.wikimedia.org/wikipedia/commons/thumb/3/3c/PIN-4_staining_of_benign_prostate_gland_and_adenocarcinoma.jpg/1024px-PIN-4_staining_of_benign_prostate_gland_and_adenocarcinoma.jpg\")\n",
    "\n",
    "Source: https://en.wikipedia.org/wiki/Immunohistochemistry\n",
    "\n",
    "_Du RGB au HED_\n",
    "\n",
    "La librairie `scikit-image` permet de convertir une image RGB en une image \"HED\" dans laquelle les 3 canaux de couleur correspondent aux colorations Hématoxyline, Eosine et Diaminobenzidine respectivement. Cette méthode de conversion a été proposée en 2001 par Ruifrok et Johnston (https://www.ncbi.nlm.nih.gov/pmc/articles/PMC4354574/). Dans un premier temps, les auteurs ont d'abord usé de la conversion de RGB vers l'espace CIE LAB puis l'application de 3 filtres distincts: un filtre \"rouge\" pour l'Eosine, un filtre \"bleu\" pour l'Hématoxyline et un filtre \"marron\" pour la Diaminobenzidine. L'ensemble de ces étapes a permis - par tatônnement - d'aboutir à des résultats satisfaisants. Une fois l'algorithme validé, les étapes décrites ci-dessus ont été synthétisées sous la forme d'une opération de (dé)convolution*:\n",
    "\n",
    "$$\n",
    "\\left[\\begin{array}{l}\n",
    "R \\\\\n",
    "G \\\\\n",
    "B\n",
    "\\end{array}\\right]=\\left[\\begin{array}{lll}\n",
    "0.65 & 0.70 & 0.29 \\\\\n",
    "0.07 & 0.99 & 0.11 \\\\\n",
    "0.27 & 0.57 & 0.78\n",
    "\\end{array}\\right] \\, \\times \\left[\\begin{array}{l}\n",
    "H \\\\\n",
    "E \\\\\n",
    "D\n",
    "\\end{array}\\right]\n",
    "$$\n",
    "\n",
    "ou à l'inverse:\n",
    "\n",
    "$$\n",
    "\\left[\\begin{array}{l}\n",
    "H \\\\\n",
    "E \\\\\n",
    "D\n",
    "\\end{array}\\right]=\\left[\\begin{array}{lll}\n",
    "1.878 & -1.008 & -0.556 \\\\\n",
    "-0.066 &  1.135 & -0.136 \\\\\n",
    "-0.602 & -0.48 &  1.574\n",
    "\\end{array}\\right] \\, \\times \\left[\\begin{array}{l}\n",
    "R \\\\\n",
    "G \\\\\n",
    "B\n",
    "\\end{array}\\right]\n",
    "$$\n",
    "\n",
    "\n",
    "Ce qui donne en termes d'implémentation dans `scikit-image`:\n",
    "\n",
    "    rgb_from_hed = np.array([[0.65, 0.70, 0.29],\n",
    "                             [0.07, 0.99, 0.11],\n",
    "                             [0.27, 0.57, 0.78]])\n",
    "                             \n",
    "    hed_from_rgb = linalg.inv(rgb_from_hed)\n",
    "\n",
    "*Comprendre la convolution grâce à la visualisation: https://setosa.io/ev/image-kernels/"
   ]
  },
  {
   "cell_type": "markdown",
   "metadata": {},
   "source": [
    "Note: code _ad-hoc_ pour obtenir l'Hématoxyline (plus basique mais plus explicite que le code `scikit-image`)\n",
    "\n",
    "```\n",
    "rgb_from_hed = np.array([[0.65, 0.70, 0.29],\n",
    "                         [0.07, 0.99, 0.11],\n",
    "                         [0.27, 0.57, 0.78]])\n",
    "\n",
    "hed_from_rgb = np.linalg.inv(rgb_from_hed)\n",
    "tile = np.array(Image.open('/chemin/vers/le/patch.png'))\n",
    "a = tile @ hed_from_rgb # c'est l'opération de convolution !\n",
    "plt.imshow(255-a[..., 0], cmap='Blues')\n",
    "```"
   ]
  },
  {
   "cell_type": "markdown",
   "metadata": {},
   "source": [
    "## Extraction des teintes H, E et DAB"
   ]
  },
  {
   "cell_type": "markdown",
   "metadata": {},
   "source": [
    "On reprend la lame numéro 2."
   ]
  },
  {
   "cell_type": "code",
   "execution_count": null,
   "metadata": {},
   "outputs": [],
   "source": [
    "numero_lame = 2\n",
    "wsi_path = os.path.join(wsi_folder, wsi_paths[int(numero_lame)])\n",
    "wsi = openslide.OpenSlide(wsi_path)\n",
    "wsi.get_thumbnail((400, 400))"
   ]
  },
  {
   "cell_type": "markdown",
   "metadata": {},
   "source": [
    "Et on stocke les chemins vers les patches de cette lame."
   ]
  },
  {
   "cell_type": "code",
   "execution_count": null,
   "metadata": {},
   "outputs": [],
   "source": [
    "patches = glob('/data/freganet/TPDU/A4CS_taille-256/*.png')"
   ]
  },
  {
   "cell_type": "markdown",
   "metadata": {},
   "source": [
    "On affiche les images."
   ]
  },
  {
   "cell_type": "code",
   "execution_count": null,
   "metadata": {},
   "outputs": [],
   "source": [
    "from scripts import render_hed\n",
    "\n",
    "# visualisation\n",
    "for patch in sample(patches, k=10):\n",
    "    render_hed(patch)"
   ]
  },
  {
   "cell_type": "markdown",
   "metadata": {},
   "source": [
    "## Normalisation des teintes"
   ]
  },
  {
   "cell_type": "markdown",
   "metadata": {},
   "source": [
    "Avant toute chose, il vous faut installer les packages `staintools` et `spams`. `staintools` est une librairie Python proposant de nombreuses méthodes de normalisation des teintes d'images histologiques."
   ]
  },
  {
   "cell_type": "code",
   "execution_count": null,
   "metadata": {},
   "outputs": [],
   "source": [
    "!pip install staintools\n",
    "!pip install spams"
   ]
  },
  {
   "cell_type": "markdown",
   "metadata": {},
   "source": [
    "La méthode de normalisation la plus utilisée en pathologie digitale est la méthode de normalisation de Macenko (implémentation disponible <a href=https://staintools.readthedocs.io/en/latest/_modules/staintools/normalization/macenko.html>ici<a/>). Mais il existe aussi d'autres méthodes comme celle de Reinhard ou de Vadahane.\n",
    "\n",
    "M. Macenko et al., \"A method for normalizing histology slides for quantitative analysis,\" 2009 IEEE International Symposium on Biomedical Imaging: From Nano to Macro, 2009, pp. 1107-1110, doi: 10.1109/ISBI.2009.5193250.\n",
    "\n",
    "    M. Macenko et al., \"A method for normalizing histology slides for quantitative analysis,\" 2009 IEEE International Symposium on Biomedical Imaging: From Nano to Macro, 2009, pp. 1107-1110, doi: 10.1109/ISBI.2009.5193250.\n",
    "    \n",
    "Normaliser les patches avant une tâche d'entraînement (classification, segmentation, synthèse, etc.) permet, selon le cas d'application, d'augmenter les performances prédictives des modèles sous-jacents et leur capacité à généraliser à des nouvelles données (normalisées et donc plus homogènes). Ceci permettrait de palier au fameux _batch effect_: certains facteurs exogènes, techniques et/ou technologiques (en particulier de numérisation), deviennent des facteurs confondants, perturbants les résultats d'une expérience par le biais de corrélation (par exemple, les modèles performent mal sur les données du centre A car la technique de numérisation n'est pas la même que celle du centre B utilisé pour l'entraînement).\n",
    "\n",
    "Néanmoins, le bénéfice de la normalisation n'est pas systématique. L'équipe de Kather et al., pinoière dans le domaine de la pathologie digitale appliquée à la découverte de biomarqueurs moléculaires et pronostics du cancer du côlon, utilise systématiquement la normalisation. Dans leur étude d'octobre 2020, \"Clinical-Grade Detection of Microsatellite Instability in Colorectal Tumors by Deep Learning\", les auteurs montrent une légère amélioration des résultats sur une cohorte de validation externe de 771 patients (cohorte d'entraînement de 6604 patients):\n",
    "\n",
    "    Native (non-normalized) image tiles (Figure A) were subjectively more diverse in terms of staining hue and intensity than normalized tiles (Figure B). [...] To test if color normalization improves the external test performance of MSI and dMMR predictors, we repeated experiment 4 [...] after color normalization. In this case, AUROC did improve (0.96 [0.93–0.98] vs. 0.95 [0.92–0.96]). This slight increase in AUROC translated into a higher specificity at predefined sensitivity levels, reaching 58% specificity at 99% sensitivity. These data show that color normalization can further improve classifier performance and improve generalizability of deep learning–based inference of MSI and dMMR status.\n",
    "    \n",
    "![img1](https://ars.els-cdn.com/content/image/1-s2.0-S0016508520348186-gr3.jpg \"Source: https://ars.els-cdn.com/content/image/1-s2.0-S0016508520348186-gr3.jpg\")  \n",
    "  \n",
    "Source: https://www.sciencedirect.com/science/article/pii/S0016508520348186?via%3Dihub\n",
    "\n",
    "Un des articles les plus \"à jour\" sur les techniques de normalisation est celui de Salehi et al. (2021): https://arxiv.org/abs/2002.00647. Les auteurs comparent différentes méthodes de normalisation standard à leur méthode, qui consiste en un GAN dit cyclique (ou Cyclic-GAN) dont le rôle est de retrouver les images de référence à partir d'images dérivées aux teintes modifiées."
   ]
  },
  {
   "cell_type": "markdown",
   "metadata": {},
   "source": [
    "### La normalisation en pratique"
   ]
  },
  {
   "cell_type": "markdown",
   "metadata": {},
   "source": [
    "#### Définition d'une image de référence, `target_slide`"
   ]
  },
  {
   "cell_type": "markdown",
   "metadata": {},
   "source": [
    "On définit une lame comme l'image de référence dont il faudra reproduire la teinte."
   ]
  },
  {
   "cell_type": "code",
   "execution_count": null,
   "metadata": {},
   "outputs": [],
   "source": [
    "from scripts import wsi_to_numpy\n",
    "\n",
    "# vous pouvez choisir un numéro de lame entre 0 et 5\n",
    "numero_lame = 2\n",
    "wsi_path = os.path.join(wsi_folder, wsi_paths[int(numero_lame)])\n",
    "target_wsi = openslide.OpenSlide(wsi_path)\n",
    "# on stocke l'image à un niveau de résolution faible\n",
    "# pour la passer en mémoire\n",
    "target_img = wsi_to_numpy(target_wsi, level=3)\n",
    "print(f'Image with shape: {target_img.shape[:-1]}')\n",
    "# on récupère également tous les patches associés\n",
    "# à la lame, grâce aux opérations précédentes\n",
    "target_patches = glob('/data/freganet/TPDU/A91D_taille-256/*.png')\n",
    "# enfin, on affiche une macro\n",
    "wsi.get_thumbnail((200, 200))"
   ]
  },
  {
   "cell_type": "markdown",
   "metadata": {},
   "source": [
    "On définit maintenant les patches _source_, ceux dont on va modifier les teintes pour les aligner sur celles de la lame de référence."
   ]
  },
  {
   "cell_type": "code",
   "execution_count": null,
   "metadata": {},
   "outputs": [],
   "source": [
    "# là aussi, possibilité de modifier entre 0 et 5 (éviter le même numéro que précédemment)\n",
    "numero_lame = 1\n",
    "wsi_path = os.path.join(wsi_folder, wsi_paths[int(numero_lame)])\n",
    "source_wsi = openslide.OpenSlide(wsi_path)\n",
    "# stockage des chemins vers les patches\n",
    "source_patches = glob('/data/freganet/TPDU/A4CS_taille-256/*.png')\n",
    "# macro\n",
    "wsi.get_thumbnail((200, 200))"
   ]
  },
  {
   "cell_type": "markdown",
   "metadata": {},
   "source": [
    "On utilise le package `staintools`."
   ]
  },
  {
   "cell_type": "code",
   "execution_count": null,
   "metadata": {},
   "outputs": [],
   "source": [
    "import staintools\n",
    "\n",
    "# standardisation de la luminosité pour améliorer l'extraction des tissus\n",
    "target_img = staintools.LuminosityStandardizer.standardize(target_img)\n",
    "# on estime les paramètres de la méthode Macenko qui serviront\n",
    "# ensuite à normaliser de nouveaux patches\n",
    "normalizer = staintools.StainNormalizer(method='macenko')  #ou reinhard, rahadane, etc.\n",
    "normalizer.fit(target_img)"
   ]
  },
  {
   "cell_type": "markdown",
   "metadata": {},
   "source": [
    "On applique la normalisation à un sous-ensemble de patch de la lame source."
   ]
  },
  {
   "cell_type": "code",
   "execution_count": null,
   "metadata": {},
   "outputs": [],
   "source": [
    "for s in sample(source_patches, 10):\n",
    "    # ouverture de l'image et conversion en matrice numpy\n",
    "    to_transform = np.array(Image.open(s))\n",
    "    # standardisation de la luminosité\n",
    "    to_transform = staintools.LuminosityStandardizer.standardize(to_transform)\n",
    "    # normalisation de la teinte\n",
    "    transformed = normalizer.transform(to_transform)\n",
    "    # affichage graphique\n",
    "    fig, ax = plt.subplots(1, 3, figsize=(10, 3))\n",
    "    ax[0].imshow(to_transform)\n",
    "    ax[0].set_title(\"Image d'origine\")\n",
    "    ax[1].imshow(target_img)\n",
    "    ax[1].set_title(\"Lame de référence\")\n",
    "    ax[2].imshow(transformed)\n",
    "    ax[2].set_title(\"Image normalisée\")\n",
    "    fig.tight_layout()\n",
    "    plt.show()"
   ]
  },
  {
   "cell_type": "markdown",
   "metadata": {},
   "source": [
    "On peut également utiliser un patch plutôt qu'une lame pour estimer les paramètres de la méthode de normalisation."
   ]
  },
  {
   "cell_type": "code",
   "execution_count": null,
   "metadata": {},
   "outputs": [],
   "source": [
    "for s in sample(source_patches, 10):\n",
    "    # sélection aléatoire d'un patch de référence\n",
    "    target_patch = sample(target_patches, 1)[0] \n",
    "    # ouverture de l'image et conversion en matrice numpy\n",
    "    to_transform = np.array(Image.open(s))\n",
    "    # standardisation de la luminosité\n",
    "    to_transform = staintools.LuminosityStandardizer.standardize(to_transform)\n",
    "    # normalisation de la teinte\n",
    "    transformed = normalizer.transform(to_transform)\n",
    "    # affichage graphique\n",
    "    fig, ax = plt.subplots(1, 3, figsize=(8, 3))\n",
    "    ax[0].imshow(to_transform)\n",
    "    ax[0].set_title(\"Image d'origine\");ax[0].axis('off')\n",
    "    ax[1].imshow( np.array(Image.open(target_patch)))\n",
    "    ax[1].set_title(\"Patch de référence\");ax[1].axis('off')\n",
    "    ax[2].imshow(transformed)\n",
    "    ax[2].set_title(\"Image normalisée\");ax[2].axis('off')\n",
    "    fig.tight_layout()\n",
    "    plt.show()"
   ]
  },
  {
   "cell_type": "markdown",
   "metadata": {},
   "source": [
    "# Bac à sable"
   ]
  },
  {
   "cell_type": "markdown",
   "metadata": {},
   "source": [
    "**Explorez les fonctions, les données et autres visualisation comme vous le souhaitez ! Vous pouvez également poser toutes vos questions sur la visio, je suis là pour ça :-)**\n",
    "\n",
    "\n",
    "Si le code n'est pas votre tasse de thé, vous pouvez consulter ces articles (disponibles sur le Drive):\n",
    "- https://www.nature.com/articles/s41416-020-01122-x (Echle et al., BJC, 2020): très bon article paru en 2020 si le potentiel du Deep Learning en pathologie digitale pour la découverte de nouveaux biomarqueurs \n",
    "- https://www.nature.com/articles/s41591-019-0462-y/ (Kather et al, Nat Med, 2019): un article pionier dans le domaine de la pathologie digitale accessible au néophyte\n",
    "- https://www.nature.com/articles/srep27988 (Kather et al, Nat Med, 2016): l'article dont nous allons nous inspirer pour la suite de ce TP\n",
    "- https://www.nature.com/articles/s41379-021-00919-2 (Nat Med, Baxi et al., 2021): une revue des méthodes publiées en pathologie digitale, applications, limites et implémentations dans le cadre courant du soin"
   ]
  },
  {
   "cell_type": "code",
   "execution_count": null,
   "metadata": {},
   "outputs": [],
   "source": [
    "# copiez / collez ici certains éléments de code (ou pas si vous êtes à l'aise!)"
   ]
  }
 ],
 "metadata": {
  "kernelspec": {
   "display_name": "Python 3",
   "language": "python",
   "name": "python3"
  },
  "language_info": {
   "codemirror_mode": {
    "name": "ipython",
    "version": 3
   },
   "file_extension": ".py",
   "mimetype": "text/x-python",
   "name": "python",
   "nbconvert_exporter": "python",
   "pygments_lexer": "ipython3",
   "version": "3.8.5"
  }
 },
 "nbformat": 4,
 "nbformat_minor": 4
}
