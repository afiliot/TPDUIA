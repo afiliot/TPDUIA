{
 "cells": [
  {
   "cell_type": "markdown",
   "metadata": {},
   "source": [
    "# Augmentation de données sur cas pratique (histologie)"
   ]
  },
  {
   "cell_type": "markdown",
   "metadata": {},
   "source": [
    "**Pour demander à Colab de nous mettre à disposition du GPU, il faut aller dans `Modifier > Paramètres du notebook > Accélérateur matériel` et sélectionner 'GPU'.\n",
    "Cela va avoir pour effet de redémarrer l'environnement.**"
   ]
  },
  {
   "cell_type": "markdown",
   "metadata": {},
   "source": [
    "D'abord, nous avons besoin d'installer une version `nightly` de `tensorflow-datasets` pour accéder aux nouvelles fonctionnalités de type `benchmark` (statistiques d'exécution)."
   ]
  },
  {
   "cell_type": "code",
   "execution_count": null,
   "metadata": {},
   "outputs": [],
   "source": [
    "!pip uninstall tensorflow-datasets\n",
    "!pip install tfds-nightly\n",
    "!pip install -U tensorboard-plugin-profile"
   ]
  },
  {
   "cell_type": "markdown",
   "metadata": {},
   "source": [
    "Puis nous importons les packages d'intérêt."
   ]
  },
  {
   "cell_type": "code",
   "execution_count": 1,
   "metadata": {},
   "outputs": [
    {
     "name": "stdout",
     "output_type": "stream",
     "text": [
      "Tensorflow version 2.4.1\n"
     ]
    }
   ],
   "source": [
    "from typing import List, Tuple\n",
    "\n",
    "import os\n",
    "import numpy as np\n",
    "\n",
    "import tensorflow as tf\n",
    "print(f'Tensorflow version {tf.__version__}')\n",
    "import tensorflow_datasets as tfds"
   ]
  },
  {
   "cell_type": "markdown",
   "metadata": {},
   "source": [
    "Enfin nous demandons à Colab de charger le contenu de notre drive (en réalité, c'est un _point de montage_)."
   ]
  },
  {
   "cell_type": "code",
   "execution_count": null,
   "metadata": {},
   "outputs": [],
   "source": [
    "from google.colab import drive\n",
    "drive.mount('/content/gdrive/')"
   ]
  },
  {
   "cell_type": "markdown",
   "metadata": {},
   "source": [
    "On s'intéresse au data set suivant : `colorectal_histology`, issu de l'article suivant : \n",
    "\n",
    "**Kather, J., Weis, CA., Bianconi, F. et al. Multi-class texture analysis in colorectal cancer histology. Sci Rep 6, 27988 (2016). https://doi.org/10.1038/srep27988**\n",
    "\n",
    "Ce data set consiste en la classification en 8 classes d'images histologiques de taille 150x150x3 de tissus prélevés dans le cadre de l'étude du cancer colorectal.\n",
    "L'image ci-dessous est tirée de l'article de Kather et al., et reprend, pour chaque ligne, l'un des 8 types de tissus à classifier."
   ]
  },
  {
   "cell_type": "markdown",
   "metadata": {},
   "source": [
    "<img src=\"https://media.springernature.com/full/springer-static/image/art%3A10.1038%2Fsrep27988/MediaObjects/41598_2016_Article_BFsrep27988_Fig1_HTML.jpg?as=webp\" width=\"800\">\n",
    "Légende [Figure 1]: \n",
    "\n",
    "_**Representative images from our dataset.** Here, the first 10 images of every tissue class in our dataset are shown. They represent the wide variation of illumination, stain intensity and tissue textures present in routine histopathological images. Images were extracted from 10 independent samples of colorectal cancer (CRC) primary tumours. **(a) tumour epithelium, (b) simple stroma, (c) complex stroma (stroma that contains single tumour cells and/or single immune cells), (d) immune cell conglomerates, (e) debris and mucus, (f) mucosal glands, (g) adipose tissue, (h) background.**_"
   ]
  },
  {
   "cell_type": "markdown",
   "metadata": {},
   "source": [
    "### Chargement des données avec `tensorflow_datasets`."
   ]
  },
  {
   "cell_type": "code",
   "execution_count": 2,
   "metadata": {},
   "outputs": [
    {
     "name": "stdout",
     "output_type": "stream",
     "text": [
      "tfds.core.DatasetInfo(\n",
      "    name='colorectal_histology',\n",
      "    full_name='colorectal_histology/2.0.0',\n",
      "    description=\"\"\"\n",
      "    Classification of textures in colorectal cancer histology. Each example is a 150 x 150 x 3 RGB image of one of 8 classes.\n",
      "    \"\"\",\n",
      "    homepage='https://zenodo.org/record/53169#.XGZemKwzbmG',\n",
      "    data_path='datasets/colorectal_histology/2.0.0',\n",
      "    download_size=246.14 MiB,\n",
      "    dataset_size=179.23 MiB,\n",
      "    features=FeaturesDict({\n",
      "        'filename': Text(shape=(), dtype=tf.string),\n",
      "        'image': Image(shape=(150, 150, 3), dtype=tf.uint8),\n",
      "        'label': ClassLabel(shape=(), dtype=tf.int64, num_classes=8),\n",
      "    }),\n",
      "    supervised_keys=('image', 'label'),\n",
      "    splits={\n",
      "        'train': <SplitInfo num_examples=5000, num_shards=2>,\n",
      "    },\n",
      "    citation=\"\"\"@article{kather2016multi,\n",
      "      title={Multi-class texture analysis in colorectal cancer histology},\n",
      "      author={Kather, Jakob Nikolas and Weis, Cleo-Aron and Bianconi, Francesco and Melchers, Susanne M and Schad, Lothar R and Gaiser, Timo and Marx, Alexander and Z{\"o}llner, Frank Gerrit},\n",
      "      journal={Scientific reports},\n",
      "      volume={6},\n",
      "      pages={27988},\n",
      "      year={2016},\n",
      "      publisher={Nature Publishing Group}\n",
      "    }\"\"\",\n",
      ")\n"
     ]
    }
   ],
   "source": [
    "# arguments communs.\n",
    "args = {\n",
    "    'shuffle_files': True, # on permute aléatoirement les images.\n",
    "    'batch_size': 256, # taille de batch : 256.\n",
    "    'as_supervised': True,\n",
    "    'data_dir': '/content/gdrive/MyDrive/data/',\n",
    "    'with_info': True\n",
    "}\n",
    "# 3 jeux de données : train, validation et test.\n",
    "ds_train, info = tfds.load(\n",
    "    'colorectal_histology',\n",
    "    split='train[:80%]', \n",
    "    **args\n",
    ")\n",
    "ds_val, info = tfds.load(\n",
    "    'colorectal_histology',\n",
    "    split='train[80%:90%]',\n",
    "    **args\n",
    ")\n",
    "ds_test, info = tfds.load(\n",
    "    'colorectal_histology',\n",
    "    split='train[90%:]',\n",
    "    **args\n",
    ")\n",
    "# on affiche les informations associées au data set.\n",
    "print(info)"
   ]
  },
  {
   "cell_type": "markdown",
   "metadata": {},
   "source": [
    "### Type de données"
   ]
  },
  {
   "cell_type": "code",
   "execution_count": null,
   "metadata": {},
   "outputs": [],
   "source": [
    "print(info.features)"
   ]
  },
  {
   "cell_type": "markdown",
   "metadata": {},
   "source": [
    "### Affichage des images"
   ]
  },
  {
   "cell_type": "markdown",
   "metadata": {},
   "source": [
    "On reprend la librairie `matplotlib` pour nos images."
   ]
  },
  {
   "cell_type": "code",
   "execution_count": null,
   "metadata": {},
   "outputs": [],
   "source": [
    "import matplotlib.pyplot as plt"
   ]
  },
  {
   "cell_type": "code",
   "execution_count": 60,
   "metadata": {},
   "outputs": [
    {
     "name": "stdout",
     "output_type": "stream",
     "text": [
      "Nombre d'images stockées d'entraînement : 4000\n"
     ]
    }
   ],
   "source": [
    "# ici on sélectionne le premier batch d'images avec les labels correspondants.\n",
    "def store_data(ds: tf.data.Dataset) -> Tuple[List[np.ndarray], List[int]]:\n",
    "    images, labels = [], []\n",
    "    for batch_img, batch_label in tfds.as_numpy(ds):\n",
    "        for image, label in zip(batch_img, batch_label):\n",
    "            images.append(image)\n",
    "            labels.append(label)\n",
    "    return images, labels\n",
    "images, labels = store_data(ds_train)\n",
    "print(f\"Nombre d'images stockées d'entraînement : {len(images)}\")"
   ]
  },
  {
   "cell_type": "code",
   "execution_count": 61,
   "metadata": {},
   "outputs": [
    {
     "name": "stdout",
     "output_type": "stream",
     "text": [
      "Labels: [0 1 2 3 4 5 6 7] et nombres: [513 498 488 499 499 497 507 499]\n",
      "(fréquences [0.128 0.124 0.122 0.125 0.125 0.124 0.127 0.125])\n"
     ]
    },
    {
     "name": "stderr",
     "output_type": "stream",
     "text": [
      "<ipython-input-61-561d4b76e724>:8: UserWarning: Matplotlib is currently using module://ipykernel.pylab.backend_inline, which is a non-GUI backend, so cannot show the figure.\n",
      "  fig.show()\n"
     ]
    },
    {
     "data": {
      "image/png": "[encoded data removed]",
      "text/plain": [
       "<Figure size 504x216 with 1 Axes>"
      ]
     },
     "metadata": {
      "needs_background": "light"
     },
     "output_type": "display_data"
    }
   ],
   "source": [
    "fig, ax = plt.subplots(1, 1, figsize=(7, 3))\n",
    "labs, counts = np.unique(labels, return_counts=True)\n",
    "print(f'Labels: {labs} et nombres: {counts}\\n(fréquences {(counts/counts.sum()).round(3)})')\n",
    "arr = ax.bar(labs, counts, align='center')\n",
    "ax.set_xticks(range(8))\n",
    "ax.set_xticklabels([f'classe {i}' for i in range(1, 9)])\n",
    "ax.set_title(\"Nombre d'images par classe.\")\n",
    "fig.show()"
   ]
  },
  {
   "cell_type": "markdown",
   "metadata": {},
   "source": [
    "On retrouve le même type précédent : `uint8`."
   ]
  },
  {
   "cell_type": "code",
   "execution_count": null,
   "metadata": {},
   "outputs": [],
   "source": [
    "image_0 = images[0]\n",
    "image_0[0, 0, :]"
   ]
  },
  {
   "cell_type": "markdown",
   "metadata": {},
   "source": [
    "Et on affiche 25 images avec les classes correspondantes."
   ]
  },
  {
   "cell_type": "code",
   "execution_count": null,
   "metadata": {},
   "outputs": [],
   "source": [
    "fig, axes = plt.subplots(5, 5, figsize=(10, 10))\n",
    "for i in range(25):\n",
    "    ax = axes[i//5, i%5]\n",
    "    ax.imshow(images[i])\n",
    "    ax.axis('off')\n",
    "    ax.set_title(f'Classe {labels[i]}')\n",
    "fig.show()"
   ]
  },
  {
   "cell_type": "markdown",
   "metadata": {},
   "source": [
    "On peut en afficher un plus grand nombre, sans les classes, de manière compacte."
   ]
  },
  {
   "cell_type": "code",
   "execution_count": null,
   "metadata": {},
   "outputs": [],
   "source": [
    "fig, axes = plt.subplots(10, 10, figsize=(10, 10))\n",
    "for i in range(100):\n",
    "    ax = axes[i//10, i%10]\n",
    "    ax.imshow(images[i])\n",
    "    ax.axis('off')\n",
    "fig.subplots_adjust(hspace=0, wspace=-0.5)\n",
    "fig.show()"
   ]
  },
  {
   "cell_type": "markdown",
   "metadata": {},
   "source": [
    "## Augmentation des images"
   ]
  },
  {
   "cell_type": "markdown",
   "metadata": {},
   "source": [
    "Lors de l'apprentissage d'un réseau de neurones profond, on procède généralemet à ce que l'on appelle `data augmentation`.\n",
    "L'augmentation de données a pour but, à chaque itération d'entraînement, de montrer une version différente des images qui ont déjà été utilisées à la précédente itération.\n",
    "Ainsi, le réseau de neurones ne voit que des variations des images d'origine. On essaie par ce biais de favoriser la généralisation de l'algorithme et éviter le phénomène de sur-apprentissage. Cette étape est systématiquement implémentée dans la quasi intégralité des méthodes publiées en deep learning."
   ]
  },
  {
   "cell_type": "markdown",
   "metadata": {},
   "source": [
    "## Transformations géométriques"
   ]
  },
  {
   "cell_type": "markdown",
   "metadata": {},
   "source": [
    "#### Première étape : re-dimensionner les images à la taille voulue\n",
    "\n",
    "Selon les pplications, on souhaite travailler sur des images de tailles différentes. Une taille plus élevée va impliquer de stocker davantage de résultats intermédiaires, et augmente donc la mémoire occupée par le réseau. A l'inverse, utiliser de petites images limites le stockage des _feature maps_ (résultat d'une convolution entre une image et un noyau de convolution, ou _kernel_), au détriment de la richesse de l'information contenue dans ces images (on va devoir interpoler les pixels, ce qui modifie, comme on l'a vu, l'information initiale contenue dans l'image).\n",
    "\n",
    "#### Deuxième étape : convertir en format _float_\n",
    "\n",
    "Avant de procéder à l'augmentation des données et / ou la normalisation (nous verrons cela après), on convertit les images en format `float` ([0, 1]).\n",
    "Ceci permet de réduire l'intervalle pris par les différentes valeurs d'intensité. Ceci améliore l'entraînement des modèles. En effet, on préférera toujours travailler sur des données dont les valeurs sont proches de 0 plutôt que des valeurs dont le support est [0, 255]. Cette dernière approche peut causer d'importants problèmes de stabilité numérique dans le calcul des gradients !"
   ]
  },
  {
   "cell_type": "code",
   "execution_count": 4,
   "metadata": {},
   "outputs": [],
   "source": [
    "img_size = 128 # on passe de 150 à 128.\n",
    "preprocessing_pipeline = tf.keras.Sequential([\n",
    "    tf.keras.layers.experimental.preprocessing.Resizing(img_size, img_size), # par défaut, on utilise une méthode qui réduit l'aliasing.\n",
    "    tf.keras.layers.experimental.preprocessing.Rescaling(1./255), # on convertit en floattant.\n",
    "])"
   ]
  },
  {
   "cell_type": "markdown",
   "metadata": {},
   "source": [
    "**Puis on applique toute une série d'augmentation sur les images.**\n",
    "\n",
    "**D'abord, on retourne l'image par effet de miroir.**"
   ]
  },
  {
   "cell_type": "code",
   "execution_count": 5,
   "metadata": {},
   "outputs": [],
   "source": [
    "geom_augmentation_pipeline = tf.keras.Sequential()\n",
    "geom_augmentation_pipeline.add(tf.keras.layers.Lambda(tf.image.random_flip_up_down))\n",
    "geom_augmentation_pipeline.add(tf.keras.layers.Lambda(tf.image.random_flip_left_right))"
   ]
  },
  {
   "cell_type": "code",
   "execution_count": null,
   "metadata": {},
   "outputs": [],
   "source": [
    "def show_augment(pipeline: tf.keras.Sequential = None):\n",
    "    if pipeline is None:\n",
    "        pipeline = geom_augmentation_pipeline\n",
    "    fig, axes = plt.subplots(5, 15, figsize=(30, 10))\n",
    "    for i in range(25):\n",
    "        # après reconstruction.\n",
    "        ax = axes[i//5, i%5]\n",
    "        im = images[i]\n",
    "        ax.imshow(im)\n",
    "        ax.axis('off')\n",
    "        ax.set_title(f'Classe {labels[i]}')\n",
    "        # espaces vides.\n",
    "        ax = axes[i//5, i%5+5]\n",
    "        ax.axis('off')\n",
    "        # avant normalisation.\n",
    "        ax = axes[i//5, i%5+10]\n",
    "        im = tf.expand_dims(images[i], 0)\n",
    "        ax.imshow(pipeline(im)[0, ...])\n",
    "        ax.axis('off')\n",
    "        ax.set_title(f'Classe {labels[i]}')\n",
    "    fig.show()\n",
    "\n",
    "show_augment()"
   ]
  },
  {
   "cell_type": "markdown",
   "metadata": {},
   "source": [
    "**Puis on peut introduire des rotations de magnitude aléatoire dans un intervalle donné (en degrés).**"
   ]
  },
  {
   "cell_type": "code",
   "execution_count": 6,
   "metadata": {},
   "outputs": [],
   "source": [
    "geom_augmentation_pipeline.add(\n",
    "     tf.keras.layers.experimental.preprocessing.RandomRotation(factor=(-0.5, 0.5), fill_mode='reflect', interpolation='bilinear')\n",
    ")"
   ]
  },
  {
   "cell_type": "code",
   "execution_count": null,
   "metadata": {},
   "outputs": [],
   "source": [
    "show_augment()"
   ]
  },
  {
   "cell_type": "markdown",
   "metadata": {},
   "source": [
    "**Zoom aléatoire.**"
   ]
  },
  {
   "cell_type": "code",
   "execution_count": 7,
   "metadata": {},
   "outputs": [],
   "source": [
    "geom_augmentation_pipeline.add(\n",
    "    tf.keras.layers.experimental.preprocessing.RandomZoom(\n",
    "            height_factor=(-0.1, 0.2),\n",
    "            width_factor=None, # on préserve le ratio longueur / largeur.\n",
    "            fill_mode='reflect',\n",
    "            interpolation='bilinear'\n",
    "    )\n",
    ")"
   ]
  },
  {
   "cell_type": "code",
   "execution_count": null,
   "metadata": {},
   "outputs": [],
   "source": [
    "show_augment()"
   ]
  },
  {
   "cell_type": "markdown",
   "metadata": {},
   "source": [
    "**Modification de la qualité de compression.**"
   ]
  },
  {
   "cell_type": "markdown",
   "metadata": {},
   "source": [
    "Cette méthode d'augmentation présente un désavantage majeur dans son implémentation actuelle : l'impossibilité de prendre un _batch_ d'images comme paramètres d'entrée.\n",
    "Ceci implique de devoir appliquer la transformation de manière séquentielle sur chacune des images du _batch_, puis de reconstituer le _batch_. En pratique, cela s'avère très coûteux en calcul (et en temps)."
   ]
  },
  {
   "cell_type": "code",
   "execution_count": null,
   "metadata": {},
   "outputs": [],
   "source": [
    "\"\"\"\n",
    "data_augmentation_pipeline.add(\n",
    "    tf.keras.layers.Lambda(\n",
    "        lambda x: tf.image.random_jpeg_quality(x, 60, 100)\n",
    "    )\n",
    ")\n",
    "\"\"\"\n",
    "print(\"Nous n'utilisons pas cette fonction en l'état.\")"
   ]
  },
  {
   "cell_type": "markdown",
   "metadata": {},
   "source": [
    "**Translation sur les axes $x$ et $y$.**"
   ]
  },
  {
   "cell_type": "code",
   "execution_count": 8,
   "metadata": {},
   "outputs": [],
   "source": [
    "geom_augmentation_pipeline.add(\n",
    "    tf.keras.layers.experimental.preprocessing.RandomTranslation(\n",
    "        height_factor=0.1,\n",
    "        width_factor=0.1,\n",
    "        fill_mode='reflect'\n",
    "    )\n",
    ")"
   ]
  },
  {
   "cell_type": "code",
   "execution_count": null,
   "metadata": {},
   "outputs": [],
   "source": [
    "show_augment()"
   ]
  },
  {
   "cell_type": "markdown",
   "metadata": {},
   "source": [
    "## Transformations de teintes"
   ]
  },
  {
   "cell_type": "markdown",
   "metadata": {},
   "source": [
    "**Luminance.**"
   ]
  },
  {
   "cell_type": "code",
   "execution_count": 9,
   "metadata": {},
   "outputs": [],
   "source": [
    "color_augmentation_pipeline = tf.keras.Sequential()"
   ]
  },
  {
   "cell_type": "code",
   "execution_count": 10,
   "metadata": {},
   "outputs": [],
   "source": [
    "color_augmentation_pipeline.add(\n",
    "    tf.keras.layers.Lambda(\n",
    "        lambda x: tf.image.random_brightness(x, max_delta=0.2)\n",
    "    )\n",
    ")"
   ]
  },
  {
   "cell_type": "code",
   "execution_count": null,
   "metadata": {},
   "outputs": [],
   "source": [
    "show_augment(color_augmentation_pipeline)"
   ]
  },
  {
   "cell_type": "markdown",
   "metadata": {},
   "source": [
    "**Contraste.**"
   ]
  },
  {
   "cell_type": "code",
   "execution_count": 11,
   "metadata": {},
   "outputs": [],
   "source": [
    "color_augmentation_pipeline.add(\n",
    "    tf.keras.layers.Lambda(\n",
    "        lambda x: tf.image.random_contrast(\n",
    "            x,\n",
    "            lower=0.5,\n",
    "            upper=1.5\n",
    "        )\n",
    "    )\n",
    ")"
   ]
  },
  {
   "cell_type": "code",
   "execution_count": null,
   "metadata": {},
   "outputs": [],
   "source": [
    "show_augment(color_augmentation_pipeline)"
   ]
  },
  {
   "cell_type": "markdown",
   "metadata": {},
   "source": [
    "**HUE.**"
   ]
  },
  {
   "cell_type": "code",
   "execution_count": 12,
   "metadata": {},
   "outputs": [],
   "source": [
    "color_augmentation_pipeline.add(\n",
    "    tf.keras.layers.Lambda(\n",
    "        lambda x: tf.image.random_hue(x, max_delta=0.2)\n",
    "    )\n",
    ")"
   ]
  },
  {
   "cell_type": "code",
   "execution_count": null,
   "metadata": {},
   "outputs": [],
   "source": [
    "show_augment(color_augmentation_pipeline)"
   ]
  },
  {
   "cell_type": "markdown",
   "metadata": {},
   "source": [
    "**Saturation.**"
   ]
  },
  {
   "cell_type": "code",
   "execution_count": 13,
   "metadata": {},
   "outputs": [],
   "source": [
    "color_augmentation_pipeline.add(\n",
    "    tf.keras.layers.Lambda(\n",
    "        lambda x: tf.image.random_saturation(x, lower=0.5, upper=1.5)\n",
    "    )\n",
    ")"
   ]
  },
  {
   "cell_type": "code",
   "execution_count": null,
   "metadata": {},
   "outputs": [],
   "source": [
    "show_augment(color_augmentation_pipeline)"
   ]
  },
  {
   "cell_type": "markdown",
   "metadata": {},
   "source": [
    "## Combinaison des augmentations"
   ]
  },
  {
   "cell_type": "code",
   "execution_count": 14,
   "metadata": {},
   "outputs": [],
   "source": [
    "data_augmentation_pipeline = color_augmentation_pipeline\n",
    "data_augmentation_pipeline.add(geom_augmentation_pipeline)"
   ]
  },
  {
   "cell_type": "code",
   "execution_count": null,
   "metadata": {},
   "outputs": [],
   "source": [
    "show_augment(data_augmentation_pipeline)"
   ]
  },
  {
   "cell_type": "markdown",
   "metadata": {},
   "source": [
    "## Normalisation des images"
   ]
  },
  {
   "cell_type": "markdown",
   "metadata": {},
   "source": [
    "#### Normalisation"
   ]
  },
  {
   "cell_type": "markdown",
   "metadata": {},
   "source": [
    "Une pratique courante consiste à normaliser les données avant tout traitement par un réseau de neurones.\n",
    "\n",
    "**Qu'entend-t-on par normalisation ?**\n",
    "\n",
    "#### Première possibilité : \n",
    "\n",
    "- On soustrait, pour chaque canal R, V, B de l'image, la moyenne des intensités R, V et B de **l'ensemble des images du data set d'entraînement** ;\n",
    "- Puis on divise cette différence par l'écart-type calculé sur les mêmes intensités.\n",
    "\n",
    "$$image[..., 0] \\leftarrow \\frac{image[..., 0] - \\mu_0^{global}}{\\sigma_0^{global}} $$\n",
    "\n",
    "avec $\\mu_0^{global}$ et $\\sigma_0^{global}$ étant les moyennes et écart-types calculés sur l'ensemble des valeurs prises par le canal Rouge sur toutes les données d'entraînement.\n",
    "\n",
    "#### Deuxième possibilité : \n",
    "\n",
    "- On soustrait, pour chaque canal R, V, B de l'image, la moyenne des intensités R, V et B de **cette image**;\n",
    "- Puis on divise cette différence par l'écart-type calculé sur les mêmes intensités.\n",
    "\n",
    "$$image[..., 0] \\leftarrow \\frac{image[..., 0] - \\mu_0^{image}}{\\sigma_0^{image}} $$\n",
    "\n",
    "avec $\\mu_0^{image}$ et $\\sigma_0^{image}$ étant les moyennes et écart-types calculés sur l'ensemble des valeurs prises par le canal Rouge sur l'image d'intérêt.\n",
    "\n",
    "#### Laquelle choisir ?\n",
    "\n",
    "Personnellement, j'utilise systématiquement la deuxième méthode pour une raison simple. L'intuition derrière la normalisation est que nous ne voulons pas qu'une image dont, par exemple, les valeurs d'intensité seraient globalement élevées (image avec un fond globalement blanc) activent davantage les neurones du réseau qu'une image sombre (globalement noir). En effet, ce qui nous importe réside certes dans le contraste de l'image, mais cette information est généralement secondaire face à l'ensemble du contenu d'une image. De fait, on ne souhaite pas discriminer trop fortement telle ou telle image selon sa teinte globale. De fait, on préférera que les intensités soient normalisées à l'échelle d'une image, de manière à ce que _toutes_ les images aient des intensités qui se valent."
   ]
  },
  {
   "cell_type": "markdown",
   "metadata": {},
   "source": [
    "**Par exemple, sur notre data set d'entraînement, on isole les 3 composantes des images et on calcule leur moyenne.**"
   ]
  },
  {
   "cell_type": "code",
   "execution_count": null,
   "metadata": {},
   "outputs": [],
   "source": [
    "def convert(images):\n",
    "    \"\"\"Conversion : `uint8` -> `float32`.\"\"\"\n",
    "    return tf.cast(images, tf.float32) / 255\n",
    "\n",
    "# on applique la conversion.\n",
    "ds_tmp = ds_train.map(\n",
    "    lambda x, y: (convert(x), y),\n",
    "    num_parallel_calls=tf.data.experimental.AUTOTUNE\n",
    ")\n",
    "# on stocke de nouveau les images.\n",
    "images, labels = store_data(ds_tmp)\n",
    "print('Données normalisées prêtes !')"
   ]
  },
  {
   "cell_type": "code",
   "execution_count": null,
   "metadata": {},
   "outputs": [],
   "source": [
    "# on stocke les canaux R, V, B.\n",
    "R = np.array([img[..., 0] for img in images])\n",
    "V = np.array([img[..., 1] for img in images])\n",
    "B = np.array([img[..., 2] for img in images])\n",
    "C = [R, V, B]\n",
    "# leur moyenne et écart-type par image.\n",
    "m_R, m_V, m_B = R.mean(axis=(1, 2)), V.mean(axis=(1, 2)), B.mean(axis=(1, 2))\n",
    "s_R, s_V, s_B =  R.std(axis=(1, 2)), V.std(axis=(1, 2)), B.std(axis=(1, 2))\n",
    "gm_R, gm_V, gm_B = R.mean(axis=(0, 1, 2)), V.mean(axis=(0, 1, 2)), B.mean(axis=(0, 1, 2))\n",
    "gs_R, gs_V, gs_B = R.std(axis=(0, 1, 2)), V.std(axis=(0, 1, 2)), B.std(axis=(0, 1, 2))\n",
    "# on affiche les moyennes et écart-types globaux.\n",
    "print(f'Intensité rouge {gm_R} +/- {gs_R}')\n",
    "print(f'Intensité verte {gm_V} +/- {gs_V}')\n",
    "print(f'Intensité bleue {gm_B} +/- {gs_B}')"
   ]
  },
  {
   "cell_type": "markdown",
   "metadata": {},
   "source": [
    "On les affiche pour quelques images."
   ]
  },
  {
   "cell_type": "code",
   "execution_count": null,
   "metadata": {},
   "outputs": [],
   "source": [
    "fig, axes = plt.subplots(4, 15, figsize=(25, 10))\n",
    "cmaps = ['Reds', 'Greens', 'Blues']\n",
    "for i in range(15):\n",
    "    ax = axes[0, i]\n",
    "    ax.imshow(images[i])\n",
    "    ax.axis('off')\n",
    "    for j in range(3):\n",
    "        ax = axes[j+1, i]\n",
    "        ax.imshow(C[j][i], cmap=cmaps[j])\n",
    "        ax.axis('off')\n",
    "fig.subplots_adjust(hspace=0, wspace=0.05)\n",
    "fig.show()"
   ]
  },
  {
   "cell_type": "markdown",
   "metadata": {},
   "source": [
    "Affichons l'histogramme des intensités après normalisation globale."
   ]
  },
  {
   "cell_type": "code",
   "execution_count": null,
   "metadata": {},
   "outputs": [],
   "source": [
    "fig, axes = plt.subplots(1, 3, figsize=(15, 3))\n",
    "axes[0].hist(((R-gm_R)/gs_R).flatten(), color='r', bins=100)\n",
    "axes[1].hist(((V-gm_V)/gs_V).flatten(), color='g', bins=100)\n",
    "axes[2].hist(((B-gm_B)/gs_B).flatten(), color='blue', bins=100)\n",
    "fig.show()"
   ]
  },
  {
   "cell_type": "markdown",
   "metadata": {},
   "source": [
    "De même pour les intensités après normalisation à l'échelle individuelle."
   ]
  },
  {
   "cell_type": "code",
   "execution_count": null,
   "metadata": {},
   "outputs": [],
   "source": [
    "fig, axes = plt.subplots(1, 3, figsize=(15, 3))\n",
    "def f(m):\n",
    "    return np.expand_dims(m, axis=(1, 2))\n",
    "\n",
    "axes[0].hist(((R-f(m_R))/f(s_R)).flatten(), color='r', bins=100)\n",
    "axes[1].hist(((V-f(m_V))/f(s_V)).flatten(), color='g', bins=100)\n",
    "axes[2].hist(((B-f(m_B))/f(s_B)).flatten(), color='blue', bins=100)\n",
    "fig.show()"
   ]
  },
  {
   "cell_type": "markdown",
   "metadata": {},
   "source": [
    "Si l'on s'intéresse désormais à 2 images aux teintes très différentes.\n",
    "D'abord avec la méthode 1 globale."
   ]
  },
  {
   "cell_type": "code",
   "execution_count": null,
   "metadata": {},
   "outputs": [],
   "source": [
    "fig, axes = plt.subplots(2, 4, figsize=(20, 5))\n",
    "for k, i in enumerate([0, 11]): \n",
    "    axes[k, 0].imshow(images[i])\n",
    "    axes[k, 0].axis('off')\n",
    "    axes[k, 1].hist(((R[i]-gm_R)/gs_R).flatten(), color='r', bins=10)\n",
    "    axes[k, 2].hist(((V[i]-gm_V)/gs_V).flatten(), color='g', bins=10)\n",
    "    axes[k, 3].hist(((B[i]-gm_B)/gs_B).flatten(), color='blue', bins=10)\n",
    "fig.show()"
   ]
  },
  {
   "cell_type": "markdown",
   "metadata": {},
   "source": [
    "Puis avec la méthode 2 individuelle."
   ]
  },
  {
   "cell_type": "code",
   "execution_count": null,
   "metadata": {},
   "outputs": [],
   "source": [
    "fig, axes = plt.subplots(2, 4, figsize=(20, 5))\n",
    "cmaps = ['Reds', 'Greens', 'Blues']\n",
    "for k, i in enumerate([0, 11]): \n",
    "    axes[k, 0].imshow(images[i])\n",
    "    axes[k, 0].axis('off')\n",
    "    axes[k, 1].hist(((R[i]-m_R[i])/s_R[i]).flatten(), color='r', bins=10)\n",
    "    axes[k, 2].hist(((V[i]-m_V[i])/s_V[i]).flatten(), color='g', bins=10)\n",
    "    axes[k, 3].hist(((B[i]-m_B[i])/s_B[i]).flatten(), color='blue', bins=10)\n",
    "fig.show()"
   ]
  },
  {
   "cell_type": "markdown",
   "metadata": {},
   "source": [
    "**Pros and cons**\n",
    "- Méthode globale : les valeurs prises par les intensités normalisées ont un support relativement restreint, contrairement à la méthode de normalisation individuelle qui introduit certaines valeurs plus extrêmes à l'occasion de la division par l'écart-type qui, sur des images uniformes, peut être proche de 0 (dans ce cas, les valeurs normalisées explosent). Cependant, entre 2 images de teintes très différentes, les moyennes des distributions des intensités par canaux vont être significativement différente, et introduire un potentiel biais dans l'activation des neurones du réseau si aucun normalisation ultérieure n'est réalisée (_batch-normalisation_).\n",
    "- Méthode individuelle : le support est plus large, mais les pixels associés à la teinte majoritaire voit leur intensité normalisée proche de 0, ce qui rend le réseau plus agnostique à la différence de teinte."
   ]
  },
  {
   "cell_type": "markdown",
   "metadata": {},
   "source": [
    "**Comment visualiser les images normalisées ?** (par exemple avec la méthode 2)"
   ]
  },
  {
   "cell_type": "code",
   "execution_count": null,
   "metadata": {},
   "outputs": [],
   "source": [
    "def normalize(image: np.ndarray):\n",
    "    im = image.copy()\n",
    "    c0, c1, c2 = im[..., 0], im[..., 1], im[..., 2]\n",
    "    im[..., 0] = (c0 - c0.mean()) / c0.std()\n",
    "    im[..., 1] = (c1 - c1.mean()) / c1.std()\n",
    "    im[..., 2] = (c2 - c2.mean()) / c2.std()\n",
    "    return im\n",
    "    \n",
    "    \n",
    "images_norm = [normalize(img) for img in images]"
   ]
  },
  {
   "cell_type": "markdown",
   "metadata": {},
   "source": [
    "On s'aperçoit que les images n'ont plus aucun sens en termes de perception visuelle. C'est normal, la normalisation décorrèle complétement les canaux R, V et B entre eux ! "
   ]
  },
  {
   "cell_type": "code",
   "execution_count": null,
   "metadata": {},
   "outputs": [],
   "source": [
    "fig, axes = plt.subplots(5, 5, figsize=(10, 10))\n",
    "for i in range(25):\n",
    "    ax = axes[i//5, i%5]\n",
    "    im = images_norm[i]\n",
    "    ax.imshow(im)\n",
    "    ax.axis('off')\n",
    "    ax.set_title(f'Classe {labels[i]}')\n",
    "fig.show()"
   ]
  },
  {
   "cell_type": "markdown",
   "metadata": {},
   "source": [
    "On peut essayer de retomber sur nos images initiales en faisant la transformation suivante : 1) normaliser dans l'intervalle [0, 1], 2) multiplier par 255, 3) convertir en `uint8`. Cette transformation est un bon proxy de reconstruction de l'image; même si, dès lors que l'on opère une normalisation de ce type, il devient impossible de récupérer l'image initiale."
   ]
  },
  {
   "cell_type": "code",
   "execution_count": null,
   "metadata": {},
   "outputs": [],
   "source": [
    "fig, axes = plt.subplots(5, 15, figsize=(30, 10))\n",
    "for i in range(25):\n",
    "    # après reconstruction.\n",
    "    ax = axes[i//5, i%5]\n",
    "    im = images_norm[i]\n",
    "    ax.imshow(((im - im.min(axis=(0, 1)))/(im.max(axis=(0, 1)) - im.min(axis=(0, 1)))*255).astype(np.uint8))\n",
    "    ax.axis('off')\n",
    "    ax.set_title(f'Classe {labels[i]}')\n",
    "    # espaces vides.\n",
    "    ax = axes[i//5, i%5+5]\n",
    "    ax.axis('off')\n",
    "    # avant normalisation.\n",
    "    ax = axes[i//5, i%5+10]\n",
    "    im = images[i]\n",
    "    ax.imshow(im)\n",
    "    ax.axis('off')\n",
    "    ax.set_title(f'Classe {labels[i]}')\n",
    "fig.show()"
   ]
  },
  {
   "cell_type": "markdown",
   "metadata": {},
   "source": [
    "**Normalisation en tensorflow.**"
   ]
  },
  {
   "cell_type": "code",
   "execution_count": null,
   "metadata": {},
   "outputs": [],
   "source": [
    "\"\"\"\n",
    "def convert(images, labels):\n",
    "    Conversion : `uint8` -> `float32`.\n",
    "    return tf.cast(images, tf.float32) / 255., labels\n",
    "\"\"\"\n",
    "# après avoir appliquer la conversion en flottant, on applique la normalisation individuelle sur chaque\n",
    "# canal R, V et B via la function `tf.image.per_image_standardization`.\n",
    "ds_tmp = ds_tmp.map(\n",
    "    lambda x, y: (tf.image.per_image_standardization(x), y),\n",
    "    num_parallel_calls=tf.data.experimental.AUTOTUNE\n",
    ")"
   ]
  },
  {
   "cell_type": "markdown",
   "metadata": {},
   "source": [
    "## Conversion, augmentation et normalisation"
   ]
  },
  {
   "cell_type": "code",
   "execution_count": 63,
   "metadata": {},
   "outputs": [],
   "source": [
    "# on reprend le data set initial.\n",
    "ds_train, info = tfds.load(\n",
    "    'colorectal_histology',\n",
    "    split='train[:80%]', \n",
    "    **args\n",
    ")\n",
    "# conversion en float\n",
    "ds_train = ds_train.map(\n",
    "    lambda x, y: (preprocessing_pipeline(x), y),\n",
    "    num_parallel_calls=tf.data.experimental.AUTOTUNE\n",
    ")\n",
    "# caching : on ne fait les opérations précédentes qu'une fois\n",
    "# au début de l'entraînement.\n",
    "ds_train = ds_train.cache()\n",
    "# augmentation.\n",
    "ds_train = ds_train.map(\n",
    "    lambda x, y: (data_augmentation_pipeline(x), y),\n",
    "    num_parallel_calls=tf.data.experimental.AUTOTUNE\n",
    ")\n",
    "# et finalement on normalise invididuellement les canaux\n",
    "# R, V et B des images.\n",
    "ds_train = ds_train.map(\n",
    "    lambda x, y: (tf.image.per_image_standardization(x), y),\n",
    "    num_parallel_calls=tf.data.experimental.AUTOTUNE\n",
    ")\n",
    "ds_train = ds_train.prefetch(tf.data.experimental.AUTOTUNE)"
   ]
  },
  {
   "cell_type": "code",
   "execution_count": 64,
   "metadata": {},
   "outputs": [],
   "source": [
    "# même chose sur l'échantillon de validation.\n",
    "ds_val, info = tfds.load(\n",
    "    'colorectal_histology',\n",
    "    split='train[80%:]',\n",
    "    **args\n",
    ")\n",
    "ds_val = ds_val.map(\n",
    "    lambda x, y: (preprocessing_pipeline(x), y),\n",
    "    num_parallel_calls=tf.data.experimental.AUTOTUNE\n",
    ")\n",
    "ds_val = ds_val.map(\n",
    "    lambda x, y: (tf.image.per_image_standardization(x), y),\n",
    "    num_parallel_calls=tf.data.experimental.AUTOTUNE\n",
    ")"
   ]
  },
  {
   "cell_type": "markdown",
   "metadata": {},
   "source": [
    "Quelques statistiques sur notre object `ds_train`."
   ]
  },
  {
   "cell_type": "code",
   "execution_count": 47,
   "metadata": {},
   "outputs": [
    {
     "data": {
      "application/vnd.jupyter.widget-view+json": {
       "model_id": "c7071517917d45b4af6bc59d2f69c3b4",
       "version_major": 2,
       "version_minor": 0
      },
      "text/plain": [
       "HBox(children=(HTML(value=''), FloatProgress(value=0.0, max=16.0), HTML(value='')))"
      ]
     },
     "metadata": {},
     "output_type": "display_data"
    },
    {
     "name": "stdout",
     "output_type": "stream",
     "text": [
      "\n",
      "\n",
      "************ Summary ************\n",
      "\n",
      "Examples/sec (First included) 60.43 ex/sec (total: 256 ex, 4.24 sec)\n",
      "Examples/sec (First only) 6.10 ex/sec (total: 16 ex, 2.62 sec)\n",
      "Examples/sec (First excluded) 148.75 ex/sec (total: 240 ex, 1.61 sec)\n"
     ]
    },
    {
     "data": {
      "text/html": [
       "<strong>BenchmarkResult:</strong><br/><div>\n",
       "<style scoped>\n",
       "    .dataframe tbody tr th:only-of-type {\n",
       "        vertical-align: middle;\n",
       "    }\n",
       "\n",
       "    .dataframe tbody tr th {\n",
       "        vertical-align: top;\n",
       "    }\n",
       "\n",
       "    .dataframe thead th {\n",
       "        text-align: right;\n",
       "    }\n",
       "</style>\n",
       "<table border=\"1\" class=\"dataframe\">\n",
       "  <thead>\n",
       "    <tr style=\"text-align: right;\">\n",
       "      <th></th>\n",
       "      <th>duration</th>\n",
       "      <th>num_examples</th>\n",
       "      <th>avg</th>\n",
       "    </tr>\n",
       "  </thead>\n",
       "  <tbody>\n",
       "    <tr>\n",
       "      <th>first+lasts</th>\n",
       "      <td>4.236093</td>\n",
       "      <td>256</td>\n",
       "      <td>60.433052</td>\n",
       "    </tr>\n",
       "    <tr>\n",
       "      <th>first</th>\n",
       "      <td>2.622683</td>\n",
       "      <td>16</td>\n",
       "      <td>6.100622</td>\n",
       "    </tr>\n",
       "    <tr>\n",
       "      <th>lasts</th>\n",
       "      <td>1.613409</td>\n",
       "      <td>240</td>\n",
       "      <td>148.753340</td>\n",
       "    </tr>\n",
       "  </tbody>\n",
       "</table>\n",
       "</div>"
      ],
      "text/plain": [
       "BenchmarkResult(stats=             duration  num_examples         avg\n",
       "first+lasts  4.236093           256   60.433052\n",
       "first        2.622683            16    6.100622\n",
       "lasts        1.613409           240  148.753340, raw_stats=                      duration\n",
       "start_time        1.850743e+06\n",
       "first_batch_time  1.850745e+06\n",
       "end_time          1.850747e+06\n",
       "num_iter          1.600000e+01)"
      ]
     },
     "execution_count": 47,
     "metadata": {},
     "output_type": "execute_result"
    }
   ],
   "source": [
    "tfds.benchmark(ds_train, batch_size=16)"
   ]
  },
  {
   "cell_type": "markdown",
   "metadata": {},
   "source": [
    "### Transfer learning."
   ]
  },
  {
   "cell_type": "code",
   "execution_count": 65,
   "metadata": {},
   "outputs": [
    {
     "name": "stdout",
     "output_type": "stream",
     "text": [
      "Model: \"sequential_12\"\n",
      "_________________________________________________________________\n",
      "Layer (type)                 Output Shape              Param #   \n",
      "=================================================================\n",
      "efficientnetb0 (Functional)  (None, 1280)              4049571   \n",
      "_________________________________________________________________\n",
      "dense_16 (Dense)             (None, 100)               128100    \n",
      "_________________________________________________________________\n",
      "dense_17 (Dense)             (None, 8)                 808       \n",
      "=================================================================\n",
      "Total params: 4,178,479\n",
      "Trainable params: 1,258,684\n",
      "Non-trainable params: 2,919,795\n",
      "_________________________________________________________________\n"
     ]
    }
   ],
   "source": [
    "eff = tf.keras.applications.EfficientNetB0(\n",
    "    include_top=False, weights='imagenet', input_tensor=None,\n",
    "    input_shape=None, pooling='avg'\n",
    ")\n",
    "for layer in eff.layers[:-20]:\n",
    "    layer.trainable = False\n",
    "model = tf.keras.Sequential([\n",
    "    eff,\n",
    "    tf.keras.layers.Dense(100, activation='relu'),\n",
    "    tf.keras.layers.Dense(8, activation='softmax')\n",
    "])\n",
    "model.summary()"
   ]
  },
  {
   "cell_type": "code",
   "execution_count": 66,
   "metadata": {
    "scrolled": true
   },
   "outputs": [
    {
     "name": "stdout",
     "output_type": "stream",
     "text": [
      "Epoch 1/100\n",
      "16/16 [==============================] - 30s 874ms/step - loss: 2.1110 - sparse_categorical_accuracy: 0.2369 - val_loss: 42.4731 - val_sparse_categorical_accuracy: 0.1260\n",
      "Epoch 2/100\n",
      "16/16 [==============================] - 5s 234ms/step - loss: 1.6405 - sparse_categorical_accuracy: 0.3496 - val_loss: 43.1463 - val_sparse_categorical_accuracy: 0.1490\n",
      "Epoch 3/100\n",
      "16/16 [==============================] - 5s 227ms/step - loss: 1.5281 - sparse_categorical_accuracy: 0.3948 - val_loss: 20.1232 - val_sparse_categorical_accuracy: 0.2370\n",
      "Epoch 4/100\n",
      "16/16 [==============================] - 5s 223ms/step - loss: 1.4920 - sparse_categorical_accuracy: 0.4074 - val_loss: 8.2484 - val_sparse_categorical_accuracy: 0.2510\n",
      "Epoch 5/100\n",
      "16/16 [==============================] - 5s 240ms/step - loss: 1.4915 - sparse_categorical_accuracy: 0.4079 - val_loss: 4.8537 - val_sparse_categorical_accuracy: 0.3200\n",
      "Epoch 6/100\n",
      "16/16 [==============================] - 5s 212ms/step - loss: 1.3967 - sparse_categorical_accuracy: 0.4367 - val_loss: 2.8143 - val_sparse_categorical_accuracy: 0.3550\n",
      "Epoch 7/100\n",
      "16/16 [==============================] - 5s 177ms/step - loss: 1.4109 - sparse_categorical_accuracy: 0.4405 - val_loss: 2.2086 - val_sparse_categorical_accuracy: 0.3700\n",
      "Epoch 8/100\n",
      "16/16 [==============================] - 5s 177ms/step - loss: 1.4086 - sparse_categorical_accuracy: 0.4372 - val_loss: 2.2425 - val_sparse_categorical_accuracy: 0.4160\n",
      "Epoch 9/100\n",
      "16/16 [==============================] - 5s 240ms/step - loss: 1.4495 - sparse_categorical_accuracy: 0.4234 - val_loss: 1.8950 - val_sparse_categorical_accuracy: 0.3940\n",
      "Epoch 10/100\n",
      "16/16 [==============================] - 5s 213ms/step - loss: 1.3484 - sparse_categorical_accuracy: 0.4568 - val_loss: 2.2468 - val_sparse_categorical_accuracy: 0.3990\n",
      "Epoch 11/100\n",
      "16/16 [==============================] - 5s 199ms/step - loss: 1.3640 - sparse_categorical_accuracy: 0.4603 - val_loss: 1.4149 - val_sparse_categorical_accuracy: 0.4280\n",
      "Epoch 12/100\n",
      "16/16 [==============================] - 5s 193ms/step - loss: 1.3689 - sparse_categorical_accuracy: 0.4516 - val_loss: 1.3095 - val_sparse_categorical_accuracy: 0.4840\n",
      "Epoch 13/100\n",
      "16/16 [==============================] - 5s 227ms/step - loss: 1.3461 - sparse_categorical_accuracy: 0.4578 - val_loss: 1.3920 - val_sparse_categorical_accuracy: 0.4740\n",
      "Epoch 14/100\n",
      "16/16 [==============================] - 5s 200ms/step - loss: 1.3422 - sparse_categorical_accuracy: 0.4571 - val_loss: 2.2528 - val_sparse_categorical_accuracy: 0.3560\n",
      "Epoch 15/100\n",
      "16/16 [==============================] - 5s 231ms/step - loss: 1.3386 - sparse_categorical_accuracy: 0.4657 - val_loss: 1.7089 - val_sparse_categorical_accuracy: 0.4100\n",
      "Epoch 16/100\n",
      "16/16 [==============================] - 5s 195ms/step - loss: 1.3374 - sparse_categorical_accuracy: 0.4679 - val_loss: 1.6484 - val_sparse_categorical_accuracy: 0.4130\n",
      "Epoch 17/100\n",
      "16/16 [==============================] - 5s 224ms/step - loss: 1.3468 - sparse_categorical_accuracy: 0.4592 - val_loss: 1.2080 - val_sparse_categorical_accuracy: 0.5100\n",
      "Epoch 18/100\n",
      "16/16 [==============================] - 5s 235ms/step - loss: 1.2745 - sparse_categorical_accuracy: 0.5028 - val_loss: 1.1987 - val_sparse_categorical_accuracy: 0.5440\n",
      "Epoch 19/100\n",
      "16/16 [==============================] - 5s 194ms/step - loss: 1.3140 - sparse_categorical_accuracy: 0.4629 - val_loss: 1.2639 - val_sparse_categorical_accuracy: 0.4730\n",
      "Epoch 20/100\n",
      "16/16 [==============================] - 5s 212ms/step - loss: 1.3478 - sparse_categorical_accuracy: 0.4639 - val_loss: 1.7075 - val_sparse_categorical_accuracy: 0.4230\n",
      "Epoch 21/100\n",
      "16/16 [==============================] - 5s 233ms/step - loss: 1.2891 - sparse_categorical_accuracy: 0.4780 - val_loss: 2.4886 - val_sparse_categorical_accuracy: 0.3070\n",
      "Epoch 22/100\n",
      "16/16 [==============================] - 5s 199ms/step - loss: 1.2617 - sparse_categorical_accuracy: 0.4903 - val_loss: 1.2124 - val_sparse_categorical_accuracy: 0.5280\n",
      "Epoch 23/100\n",
      "16/16 [==============================] - 5s 237ms/step - loss: 1.2943 - sparse_categorical_accuracy: 0.4864 - val_loss: 1.4073 - val_sparse_categorical_accuracy: 0.4450\n",
      "Epoch 24/100\n",
      "16/16 [==============================] - 5s 233ms/step - loss: 1.2811 - sparse_categorical_accuracy: 0.4961 - val_loss: 1.3402 - val_sparse_categorical_accuracy: 0.4450\n",
      "Epoch 25/100\n",
      "16/16 [==============================] - 5s 245ms/step - loss: 1.2948 - sparse_categorical_accuracy: 0.4738 - val_loss: 1.3084 - val_sparse_categorical_accuracy: 0.4720\n",
      "Epoch 26/100\n",
      "16/16 [==============================] - 5s 226ms/step - loss: 1.2767 - sparse_categorical_accuracy: 0.5098 - val_loss: 2.5901 - val_sparse_categorical_accuracy: 0.3300\n",
      "Epoch 27/100\n",
      "16/16 [==============================] - 5s 231ms/step - loss: 1.3007 - sparse_categorical_accuracy: 0.4801 - val_loss: 1.5723 - val_sparse_categorical_accuracy: 0.4140\n",
      "Epoch 28/100\n",
      "16/16 [==============================] - 5s 198ms/step - loss: 1.2391 - sparse_categorical_accuracy: 0.5005 - val_loss: 1.4425 - val_sparse_categorical_accuracy: 0.5050\n",
      "\n",
      "Epoch 00028: ReduceLROnPlateau reducing learning rate to 0.0009999999776482583.\n",
      "Epoch 29/100\n",
      "16/16 [==============================] - 5s 211ms/step - loss: 1.2424 - sparse_categorical_accuracy: 0.5102 - val_loss: 1.1672 - val_sparse_categorical_accuracy: 0.5580\n",
      "Epoch 30/100\n",
      "16/16 [==============================] - 5s 175ms/step - loss: 1.1952 - sparse_categorical_accuracy: 0.5110 - val_loss: 1.1298 - val_sparse_categorical_accuracy: 0.5700\n",
      "Epoch 31/100\n",
      "16/16 [==============================] - 5s 211ms/step - loss: 1.1999 - sparse_categorical_accuracy: 0.5147 - val_loss: 1.2980 - val_sparse_categorical_accuracy: 0.4730\n",
      "Epoch 32/100\n",
      "16/16 [==============================] - 5s 227ms/step - loss: 1.1812 - sparse_categorical_accuracy: 0.5352 - val_loss: 1.3829 - val_sparse_categorical_accuracy: 0.4350\n",
      "Epoch 33/100\n",
      "16/16 [==============================] - 5s 181ms/step - loss: 1.1956 - sparse_categorical_accuracy: 0.5214 - val_loss: 1.2801 - val_sparse_categorical_accuracy: 0.4700\n",
      "Epoch 34/100\n",
      "16/16 [==============================] - 5s 196ms/step - loss: 1.1384 - sparse_categorical_accuracy: 0.5503 - val_loss: 1.2234 - val_sparse_categorical_accuracy: 0.5020\n",
      "Epoch 35/100\n",
      "16/16 [==============================] - 5s 216ms/step - loss: 1.1477 - sparse_categorical_accuracy: 0.5413 - val_loss: 1.2654 - val_sparse_categorical_accuracy: 0.4760\n",
      "Epoch 36/100\n",
      "16/16 [==============================] - 4s 190ms/step - loss: 1.1249 - sparse_categorical_accuracy: 0.5559 - val_loss: 1.4385 - val_sparse_categorical_accuracy: 0.4510\n",
      "Epoch 37/100\n",
      "16/16 [==============================] - 5s 221ms/step - loss: 1.1519 - sparse_categorical_accuracy: 0.5474 - val_loss: 1.4616 - val_sparse_categorical_accuracy: 0.4450\n",
      "Epoch 38/100\n",
      "16/16 [==============================] - 5s 206ms/step - loss: 1.1851 - sparse_categorical_accuracy: 0.5232 - val_loss: 1.7336 - val_sparse_categorical_accuracy: 0.4110\n",
      "Epoch 39/100\n",
      "16/16 [==============================] - 5s 216ms/step - loss: 1.1524 - sparse_categorical_accuracy: 0.5373 - val_loss: 1.3012 - val_sparse_categorical_accuracy: 0.4710\n",
      "Epoch 40/100\n",
      "16/16 [==============================] - 5s 211ms/step - loss: 1.1960 - sparse_categorical_accuracy: 0.5302 - val_loss: 1.6057 - val_sparse_categorical_accuracy: 0.4290\n",
      "\n",
      "Epoch 00040: ReduceLROnPlateau reducing learning rate to 9.999999310821295e-05.\n",
      "Epoch 41/100\n",
      "16/16 [==============================] - 5s 182ms/step - loss: 1.2234 - sparse_categorical_accuracy: 0.5087 - val_loss: 1.4763 - val_sparse_categorical_accuracy: 0.4470\n",
      "Epoch 42/100\n",
      "16/16 [==============================] - 5s 218ms/step - loss: 1.1594 - sparse_categorical_accuracy: 0.5313 - val_loss: 1.3746 - val_sparse_categorical_accuracy: 0.4670\n",
      "Epoch 43/100\n",
      "16/16 [==============================] - 4s 194ms/step - loss: 1.1375 - sparse_categorical_accuracy: 0.5442 - val_loss: 1.3137 - val_sparse_categorical_accuracy: 0.4840\n",
      "Epoch 44/100\n",
      "16/16 [==============================] - 5s 218ms/step - loss: 1.1187 - sparse_categorical_accuracy: 0.5567 - val_loss: 1.2902 - val_sparse_categorical_accuracy: 0.4920\n",
      "Epoch 45/100\n",
      "16/16 [==============================] - 5s 212ms/step - loss: 1.1301 - sparse_categorical_accuracy: 0.5397 - val_loss: 1.2581 - val_sparse_categorical_accuracy: 0.4970\n",
      "Epoch 46/100\n",
      "16/16 [==============================] - 4s 201ms/step - loss: 1.1296 - sparse_categorical_accuracy: 0.5572 - val_loss: 1.2360 - val_sparse_categorical_accuracy: 0.5070\n",
      "Epoch 47/100\n",
      "16/16 [==============================] - 4s 171ms/step - loss: 1.1367 - sparse_categorical_accuracy: 0.5501 - val_loss: 1.1389 - val_sparse_categorical_accuracy: 0.5300\n",
      "Epoch 83/100\n",
      "16/16 [==============================] - 5s 210ms/step - loss: 1.1292 - sparse_categorical_accuracy: 0.5571 - val_loss: 1.1435 - val_sparse_categorical_accuracy: 0.5280\n",
      "Epoch 84/100\n",
      "16/16 [==============================] - 5s 203ms/step - loss: 1.1296 - sparse_categorical_accuracy: 0.5399 - val_loss: 1.1501 - val_sparse_categorical_accuracy: 0.5250\n",
      "Epoch 85/100\n",
      "16/16 [==============================] - 5s 212ms/step - loss: 1.1376 - sparse_categorical_accuracy: 0.5485 - val_loss: 1.1432 - val_sparse_categorical_accuracy: 0.5270\n",
      "Epoch 86/100\n",
      "16/16 [==============================] - 5s 237ms/step - loss: 1.1304 - sparse_categorical_accuracy: 0.5535 - val_loss: 1.1494 - val_sparse_categorical_accuracy: 0.5250\n",
      "Epoch 87/100\n",
      "16/16 [==============================] - 5s 233ms/step - loss: 1.1482 - sparse_categorical_accuracy: 0.5434 - val_loss: 1.1480 - val_sparse_categorical_accuracy: 0.5250\n",
      "Epoch 88/100\n",
      "16/16 [==============================] - 5s 249ms/step - loss: 1.1032 - sparse_categorical_accuracy: 0.5636 - val_loss: 1.1508 - val_sparse_categorical_accuracy: 0.5280\n",
      "Epoch 89/100\n",
      "16/16 [==============================] - 5s 234ms/step - loss: 1.0945 - sparse_categorical_accuracy: 0.5702 - val_loss: 1.1476 - val_sparse_categorical_accuracy: 0.5280\n",
      "Epoch 90/100\n",
      "16/16 [==============================] - 5s 200ms/step - loss: 1.1322 - sparse_categorical_accuracy: 0.5593 - val_loss: 1.1440 - val_sparse_categorical_accuracy: 0.5260\n",
      "\n",
      "Epoch 00090: ReduceLROnPlateau reducing learning rate to 9.99999905104687e-10.\n",
      "Epoch 91/100\n",
      "16/16 [==============================] - 5s 203ms/step - loss: 1.1367 - sparse_categorical_accuracy: 0.5580 - val_loss: 1.1437 - val_sparse_categorical_accuracy: 0.5260\n",
      "Epoch 92/100\n",
      "16/16 [==============================] - 5s 236ms/step - loss: 1.1112 - sparse_categorical_accuracy: 0.5650 - val_loss: 1.1474 - val_sparse_categorical_accuracy: 0.5270\n",
      "Epoch 93/100\n",
      "16/16 [==============================] - 5s 231ms/step - loss: 1.1507 - sparse_categorical_accuracy: 0.5392 - val_loss: 1.1443 - val_sparse_categorical_accuracy: 0.5270\n",
      "Epoch 94/100\n",
      "16/16 [==============================] - 5s 245ms/step - loss: 1.1360 - sparse_categorical_accuracy: 0.5503 - val_loss: 1.1351 - val_sparse_categorical_accuracy: 0.5290\n",
      "Epoch 95/100\n",
      "16/16 [==============================] - 5s 252ms/step - loss: 1.1085 - sparse_categorical_accuracy: 0.5645 - val_loss: 1.1399 - val_sparse_categorical_accuracy: 0.5270\n",
      "Epoch 96/100\n",
      "16/16 [==============================] - 5s 229ms/step - loss: 1.1487 - sparse_categorical_accuracy: 0.5593 - val_loss: 1.1353 - val_sparse_categorical_accuracy: 0.5320\n",
      "Epoch 97/100\n",
      "16/16 [==============================] - 5s 182ms/step - loss: 1.1120 - sparse_categorical_accuracy: 0.5656 - val_loss: 1.1419 - val_sparse_categorical_accuracy: 0.5280\n",
      "Epoch 98/100\n",
      "16/16 [==============================] - 5s 230ms/step - loss: 1.1891 - sparse_categorical_accuracy: 0.5238 - val_loss: 1.1326 - val_sparse_categorical_accuracy: 0.5300\n",
      "Epoch 99/100\n",
      "16/16 [==============================] - 5s 219ms/step - loss: 1.0779 - sparse_categorical_accuracy: 0.5855 - val_loss: 1.1353 - val_sparse_categorical_accuracy: 0.5330\n",
      "Epoch 100/100\n",
      "16/16 [==============================] - 5s 229ms/step - loss: 1.1340 - sparse_categorical_accuracy: 0.5469 - val_loss: 1.1293 - val_sparse_categorical_accuracy: 0.5330\n",
      "\n",
      "Epoch 00100: ReduceLROnPlateau reducing learning rate to 9.999998606957661e-11.\n"
     ]
    },
    {
     "data": {
      "text/plain": [
       "<tensorflow.python.keras.callbacks.History at 0x7fab5344a730>"
      ]
     },
     "execution_count": 66,
     "metadata": {},
     "output_type": "execute_result"
    }
   ],
   "source": [
    "model.compile(\n",
    "    optimizer=tf.keras.optimizers.Adam(1e-2),\n",
    "    loss=tf.keras.losses.SparseCategoricalCrossentropy(from_logits=True),\n",
    "    metrics=[\n",
    "        tf.keras.metrics.SparseCategoricalAccuracy()\n",
    "    ]\n",
    ")\n",
    "os.makedirs('/content/gdrive/MyDrive/data/models/tl_with_aug/', exist_ok=True)\n",
    "os.makedirs('/content/gdrive/MyDrive/data/logs/tl_with_aug/', exist_ok=True)\n",
    "model.fit(\n",
    "    ds_train,\n",
    "    epochs=100,\n",
    "    validation_data=ds_val,\n",
    "    callbacks=[\n",
    "        tf.keras.callbacks.TensorBoard(\n",
    "            log_dir='/content/gdrive/MyDrive/data/logs/tl_with_aug/', histogram_freq=0, write_graph=True,\n",
    "            write_images=False, update_freq='batch', profile_batch=(5, 10)\n",
    "        ),\n",
    "        #tf.keras.callbacks.ModelCheckpoint(\n",
    "        #    'models', monitor='val_sparse_categorical_accuracy', verbose=0, save_best_only=True,\n",
    "        #    save_weights_only=False, mode='auto', save_freq='epoch'\n",
    "        #),\n",
    "        tf.keras.callbacks.CSVLogger('/content/gdrive/MyDrive/data/models/tl_with_aug/history.csv', separator=','),\n",
    "        tf.keras.callbacks.ReduceLROnPlateau(\n",
    "            monitor='val_sparse_categorical_accuracy', factor=0.1, patience=10, verbose=1,\n",
    "            mode='auto', min_delta=0.0001\n",
    "        )\n",
    "    ]\n",
    ")\n"
   ]
  },
  {
   "cell_type": "code",
   "execution_count": null,
   "metadata": {},
   "outputs": [],
   "source": [
    "%reload_ext tensorboard\n",
    "%tensorboard --logdir content/gdrive/MyDrive/data/logs/tl_with_aug"
   ]
  },
  {
   "cell_type": "markdown",
   "metadata": {},
   "source": [
    "### Sans augmentation"
   ]
  },
  {
   "cell_type": "code",
   "execution_count": 67,
   "metadata": {},
   "outputs": [],
   "source": [
    "# on reprend le data set initial.\n",
    "ds_train, info = tfds.load(\n",
    "    'colorectal_histology',\n",
    "    split='train[:80%]', \n",
    "    **args\n",
    ")\n",
    "# conversion en float\n",
    "ds_train = ds_train.map(\n",
    "    lambda x, y: (preprocessing_pipeline(x), y),\n",
    "    num_parallel_calls=tf.data.experimental.AUTOTUNE\n",
    ")\n",
    "# et finalement on normalise invididuellement les canaux\n",
    "# R, V et B des images.\n",
    "ds_train = ds_train.map(\n",
    "    lambda x, y: (tf.image.per_image_standardization(x), y),\n",
    "    num_parallel_calls=tf.data.experimental.AUTOTUNE\n",
    ")\n",
    "# caching : on ne fait les opérations précédentes qu'une fois\n",
    "# au début de l'entraînement.\n",
    "ds_train = ds_train.cache()\n",
    "ds_train = ds_train.prefetch(tf.data.experimental.AUTOTUNE)"
   ]
  },
  {
   "cell_type": "code",
   "execution_count": 68,
   "metadata": {},
   "outputs": [
    {
     "data": {
      "application/vnd.jupyter.widget-view+json": {
       "model_id": "0d4068531bc64872b07be6016e7c5a19",
       "version_major": 2,
       "version_minor": 0
      },
      "text/plain": [
       "HBox(children=(HTML(value=''), FloatProgress(value=0.0, max=16.0), HTML(value='')))"
      ]
     },
     "metadata": {},
     "output_type": "display_data"
    },
    {
     "name": "stdout",
     "output_type": "stream",
     "text": [
      "\n",
      "\n",
      "************ Summary ************\n",
      "\n",
      "Examples/sec (First included) 219.07 ex/sec (total: 256 ex, 1.17 sec)\n",
      "Examples/sec (First only) 42.18 ex/sec (total: 16 ex, 0.38 sec)\n",
      "Examples/sec (First excluded) 304.09 ex/sec (total: 240 ex, 0.79 sec)\n"
     ]
    },
    {
     "data": {
      "text/html": [
       "<strong>BenchmarkResult:</strong><br/><div>\n",
       "<style scoped>\n",
       "    .dataframe tbody tr th:only-of-type {\n",
       "        vertical-align: middle;\n",
       "    }\n",
       "\n",
       "    .dataframe tbody tr th {\n",
       "        vertical-align: top;\n",
       "    }\n",
       "\n",
       "    .dataframe thead th {\n",
       "        text-align: right;\n",
       "    }\n",
       "</style>\n",
       "<table border=\"1\" class=\"dataframe\">\n",
       "  <thead>\n",
       "    <tr style=\"text-align: right;\">\n",
       "      <th></th>\n",
       "      <th>duration</th>\n",
       "      <th>num_examples</th>\n",
       "      <th>avg</th>\n",
       "    </tr>\n",
       "  </thead>\n",
       "  <tbody>\n",
       "    <tr>\n",
       "      <th>first+lasts</th>\n",
       "      <td>1.168576</td>\n",
       "      <td>256</td>\n",
       "      <td>219.070136</td>\n",
       "    </tr>\n",
       "    <tr>\n",
       "      <th>first</th>\n",
       "      <td>0.379334</td>\n",
       "      <td>16</td>\n",
       "      <td>42.179140</td>\n",
       "    </tr>\n",
       "    <tr>\n",
       "      <th>lasts</th>\n",
       "      <td>0.789241</td>\n",
       "      <td>240</td>\n",
       "      <td>304.089586</td>\n",
       "    </tr>\n",
       "  </tbody>\n",
       "</table>\n",
       "</div>"
      ],
      "text/plain": [
       "BenchmarkResult(stats=             duration  num_examples         avg\n",
       "first+lasts  1.168576           256  219.070136\n",
       "first        0.379334            16   42.179140\n",
       "lasts        0.789241           240  304.089586, raw_stats=                      duration\n",
       "start_time        1.852181e+06\n",
       "first_batch_time  1.852181e+06\n",
       "end_time          1.852182e+06\n",
       "num_iter          1.600000e+01)"
      ]
     },
     "execution_count": 68,
     "metadata": {},
     "output_type": "execute_result"
    }
   ],
   "source": [
    "tfds.benchmark(ds_train, batch_size=16)"
   ]
  },
  {
   "cell_type": "code",
   "execution_count": 69,
   "metadata": {
    "scrolled": true
   },
   "outputs": [
    {
     "name": "stdout",
     "output_type": "stream",
     "text": [
      "Epoch 1/100\n",
      "16/16 [==============================] - 26s 800ms/step - loss: 1.2620 - sparse_categorical_accuracy: 0.4946 - val_loss: 6.6412 - val_sparse_categorical_accuracy: 0.4070\n",
      "Epoch 2/100\n",
      "16/16 [==============================] - 2s 122ms/step - loss: 1.1798 - sparse_categorical_accuracy: 0.5289 - val_loss: 6.6828 - val_sparse_categorical_accuracy: 0.3760\n",
      "Epoch 3/100\n",
      "16/16 [==============================] - 2s 121ms/step - loss: 1.1323 - sparse_categorical_accuracy: 0.5472 - val_loss: 9.7512 - val_sparse_categorical_accuracy: 0.3700\n",
      "Epoch 4/100\n",
      "16/16 [==============================] - 2s 117ms/step - loss: 1.1198 - sparse_categorical_accuracy: 0.5544 - val_loss: 11.5885 - val_sparse_categorical_accuracy: 0.3400\n",
      "Epoch 5/100\n",
      "16/16 [==============================] - 2s 115ms/step - loss: 1.0878 - sparse_categorical_accuracy: 0.5682 - val_loss: 7.8991 - val_sparse_categorical_accuracy: 0.3780\n",
      "Epoch 6/100\n",
      "16/16 [==============================] - 2s 114ms/step - loss: 1.0766 - sparse_categorical_accuracy: 0.5681 - val_loss: 9.9692 - val_sparse_categorical_accuracy: 0.3610\n",
      "Epoch 7/100\n",
      "16/16 [==============================] - 2s 114ms/step - loss: 1.0507 - sparse_categorical_accuracy: 0.5758 - val_loss: 4.0735 - val_sparse_categorical_accuracy: 0.4290\n",
      "Epoch 8/100\n",
      "16/16 [==============================] - 2s 114ms/step - loss: 1.0593 - sparse_categorical_accuracy: 0.5760 - val_loss: 2.6358 - val_sparse_categorical_accuracy: 0.4280\n",
      "Epoch 9/100\n",
      "16/16 [==============================] - 2s 113ms/step - loss: 1.0676 - sparse_categorical_accuracy: 0.5769 - val_loss: 4.7991 - val_sparse_categorical_accuracy: 0.3940\n",
      "Epoch 10/100\n",
      "16/16 [==============================] - 2s 118ms/step - loss: 1.0473 - sparse_categorical_accuracy: 0.5865 - val_loss: 1.6125 - val_sparse_categorical_accuracy: 0.4920\n",
      "Epoch 11/100\n",
      "16/16 [==============================] - 2s 115ms/step - loss: 1.0707 - sparse_categorical_accuracy: 0.5790 - val_loss: 3.1216 - val_sparse_categorical_accuracy: 0.4650\n",
      "Epoch 12/100\n",
      "16/16 [==============================] - 2s 117ms/step - loss: 1.0256 - sparse_categorical_accuracy: 0.5875 - val_loss: 3.2926 - val_sparse_categorical_accuracy: 0.4490\n",
      "Epoch 13/100\n",
      "16/16 [==============================] - 2s 117ms/step - loss: 1.0553 - sparse_categorical_accuracy: 0.5869 - val_loss: 1.8609 - val_sparse_categorical_accuracy: 0.4930\n",
      "Epoch 14/100\n",
      "16/16 [==============================] - 2s 117ms/step - loss: 1.0070 - sparse_categorical_accuracy: 0.6098 - val_loss: 1.3399 - val_sparse_categorical_accuracy: 0.4980\n",
      "Epoch 15/100\n",
      "16/16 [==============================] - 2s 118ms/step - loss: 0.9940 - sparse_categorical_accuracy: 0.6054 - val_loss: 1.2719 - val_sparse_categorical_accuracy: 0.5430\n",
      "Epoch 16/100\n",
      "16/16 [==============================] - 2s 118ms/step - loss: 0.9674 - sparse_categorical_accuracy: 0.6258 - val_loss: 2.0819 - val_sparse_categorical_accuracy: 0.4410\n",
      "Epoch 17/100\n",
      "16/16 [==============================] - 2s 120ms/step - loss: 1.0008 - sparse_categorical_accuracy: 0.6031 - val_loss: 1.2415 - val_sparse_categorical_accuracy: 0.5570\n",
      "Epoch 18/100\n",
      "16/16 [==============================] - 2s 120ms/step - loss: 0.9655 - sparse_categorical_accuracy: 0.6184 - val_loss: 1.3886 - val_sparse_categorical_accuracy: 0.5710\n",
      "Epoch 19/100\n",
      "16/16 [==============================] - 2s 116ms/step - loss: 0.9812 - sparse_categorical_accuracy: 0.6050 - val_loss: 1.7874 - val_sparse_categorical_accuracy: 0.4860\n",
      "Epoch 20/100\n",
      "16/16 [==============================] - 2s 116ms/step - loss: 0.9761 - sparse_categorical_accuracy: 0.6150 - val_loss: 6.8047 - val_sparse_categorical_accuracy: 0.4500\n",
      "Epoch 21/100\n",
      "16/16 [==============================] - 2s 116ms/step - loss: 0.9640 - sparse_categorical_accuracy: 0.6149 - val_loss: 3.1308 - val_sparse_categorical_accuracy: 0.4350\n",
      "Epoch 22/100\n",
      "16/16 [==============================] - 2s 114ms/step - loss: 0.9849 - sparse_categorical_accuracy: 0.6124 - val_loss: 3.1926 - val_sparse_categorical_accuracy: 0.4410\n",
      "Epoch 23/100\n",
      "16/16 [==============================] - 2s 114ms/step - loss: 0.9577 - sparse_categorical_accuracy: 0.6155 - val_loss: 14.5747 - val_sparse_categorical_accuracy: 0.2680\n",
      "Epoch 24/100\n",
      "16/16 [==============================] - 2s 114ms/step - loss: 0.9530 - sparse_categorical_accuracy: 0.6190 - val_loss: 2.5257 - val_sparse_categorical_accuracy: 0.4780\n",
      "Epoch 25/100\n",
      "16/16 [==============================] - 2s 113ms/step - loss: 0.9323 - sparse_categorical_accuracy: 0.6400 - val_loss: 1.9996 - val_sparse_categorical_accuracy: 0.4980\n",
      "Epoch 26/100\n",
      "16/16 [==============================] - 2s 113ms/step - loss: 0.9304 - sparse_categorical_accuracy: 0.6357 - val_loss: 3.6685 - val_sparse_categorical_accuracy: 0.4500\n",
      "Epoch 27/100\n",
      "16/16 [==============================] - 2s 114ms/step - loss: 0.8983 - sparse_categorical_accuracy: 0.6427 - val_loss: 3.9179 - val_sparse_categorical_accuracy: 0.4730\n",
      "Epoch 28/100\n",
      "16/16 [==============================] - 2s 114ms/step - loss: 0.8866 - sparse_categorical_accuracy: 0.6489 - val_loss: 10.4479 - val_sparse_categorical_accuracy: 0.3290\n",
      "\n",
      "Epoch 00028: ReduceLROnPlateau reducing learning rate to 0.0009999999776482583.\n",
      "Epoch 29/100\n",
      "16/16 [==============================] - 2s 114ms/step - loss: 0.8592 - sparse_categorical_accuracy: 0.6498 - val_loss: 4.5601 - val_sparse_categorical_accuracy: 0.4040\n",
      "Epoch 30/100\n",
      "16/16 [==============================] - 2s 115ms/step - loss: 0.7954 - sparse_categorical_accuracy: 0.6926 - val_loss: 3.7297 - val_sparse_categorical_accuracy: 0.4170\n",
      "Epoch 31/100\n",
      "16/16 [==============================] - 2s 118ms/step - loss: 0.7688 - sparse_categorical_accuracy: 0.7091 - val_loss: 3.5249 - val_sparse_categorical_accuracy: 0.4160\n",
      "Epoch 32/100\n",
      "16/16 [==============================] - 2s 115ms/step - loss: 0.7600 - sparse_categorical_accuracy: 0.7047 - val_loss: 2.8327 - val_sparse_categorical_accuracy: 0.4470\n",
      "Epoch 33/100\n",
      "16/16 [==============================] - 2s 114ms/step - loss: 0.7553 - sparse_categorical_accuracy: 0.7054 - val_loss: 2.3558 - val_sparse_categorical_accuracy: 0.4820\n",
      "Epoch 34/100\n",
      "16/16 [==============================] - 2s 118ms/step - loss: 0.7377 - sparse_categorical_accuracy: 0.7208 - val_loss: 2.9748 - val_sparse_categorical_accuracy: 0.4370\n",
      "Epoch 35/100\n",
      "16/16 [==============================] - 2s 116ms/step - loss: 0.7373 - sparse_categorical_accuracy: 0.7130 - val_loss: 2.0754 - val_sparse_categorical_accuracy: 0.4980\n",
      "Epoch 36/100\n",
      "16/16 [==============================] - 2s 123ms/step - loss: 0.7509 - sparse_categorical_accuracy: 0.7112 - val_loss: 2.1796 - val_sparse_categorical_accuracy: 0.4960\n",
      "Epoch 37/100\n",
      "16/16 [==============================] - 2s 120ms/step - loss: 0.7209 - sparse_categorical_accuracy: 0.7223 - val_loss: 2.3984 - val_sparse_categorical_accuracy: 0.4740\n",
      "Epoch 38/100\n",
      "16/16 [==============================] - 2s 121ms/step - loss: 0.7314 - sparse_categorical_accuracy: 0.7235 - val_loss: 2.0086 - val_sparse_categorical_accuracy: 0.5070\n",
      "\n",
      "Epoch 00038: ReduceLROnPlateau reducing learning rate to 9.999999310821295e-05.\n",
      "Epoch 39/100\n",
      "16/16 [==============================] - 2s 116ms/step - loss: 0.7212 - sparse_categorical_accuracy: 0.7163 - val_loss: 1.9383 - val_sparse_categorical_accuracy: 0.5180\n",
      "Epoch 40/100\n",
      "16/16 [==============================] - 2s 117ms/step - loss: 0.7260 - sparse_categorical_accuracy: 0.7240 - val_loss: 1.9768 - val_sparse_categorical_accuracy: 0.5160\n",
      "Epoch 41/100\n",
      "16/16 [==============================] - 2s 115ms/step - loss: 0.7242 - sparse_categorical_accuracy: 0.7192 - val_loss: 1.9833 - val_sparse_categorical_accuracy: 0.5200\n",
      "Epoch 42/100\n",
      "16/16 [==============================] - 2s 115ms/step - loss: 0.7072 - sparse_categorical_accuracy: 0.7156 - val_loss: 2.0579 - val_sparse_categorical_accuracy: 0.5150\n",
      "Epoch 43/100\n",
      "16/16 [==============================] - 2s 113ms/step - loss: 0.7047 - sparse_categorical_accuracy: 0.7268 - val_loss: 2.0007 - val_sparse_categorical_accuracy: 0.5260\n",
      "Epoch 44/100\n",
      "16/16 [==============================] - 2s 112ms/step - loss: 0.7017 - sparse_categorical_accuracy: 0.7295 - val_loss: 1.9841 - val_sparse_categorical_accuracy: 0.5280\n",
      "Epoch 45/100\n",
      "16/16 [==============================] - 2s 113ms/step - loss: 0.6990 - sparse_categorical_accuracy: 0.7381 - val_loss: 2.0293 - val_sparse_categorical_accuracy: 0.5210\n",
      "Epoch 46/100\n",
      "16/16 [==============================] - 2s 116ms/step - loss: 0.7170 - sparse_categorical_accuracy: 0.7144 - val_loss: 2.0421 - val_sparse_categorical_accuracy: 0.5230\n",
      "Epoch 47/100\n",
      "16/16 [==============================] - 2s 115ms/step - loss: 0.7209 - sparse_categorical_accuracy: 0.7169 - val_loss: 2.0607 - val_sparse_categorical_accuracy: 0.5230\n",
      "Epoch 48/100\n",
      "16/16 [==============================] - 2s 113ms/step - loss: 0.7170 - sparse_categorical_accuracy: 0.7229 - val_loss: 2.0383 - val_sparse_categorical_accuracy: 0.5180\n",
      "\n",
      "Epoch 00048: ReduceLROnPlateau reducing learning rate to 9.999999019782991e-06.\n",
      "Epoch 49/100\n",
      "16/16 [==============================] - 2s 115ms/step - loss: 0.6952 - sparse_categorical_accuracy: 0.7354 - val_loss: 2.0058 - val_sparse_categorical_accuracy: 0.5210\n",
      "Epoch 50/100\n",
      "16/16 [==============================] - 2s 115ms/step - loss: 0.6981 - sparse_categorical_accuracy: 0.7299 - val_loss: 1.9882 - val_sparse_categorical_accuracy: 0.5210\n",
      "Epoch 51/100\n",
      "16/16 [==============================] - 2s 113ms/step - loss: 0.6991 - sparse_categorical_accuracy: 0.7274 - val_loss: 1.9830 - val_sparse_categorical_accuracy: 0.5220\n",
      "Epoch 52/100\n",
      "16/16 [==============================] - 2s 113ms/step - loss: 0.6965 - sparse_categorical_accuracy: 0.7297 - val_loss: 1.9658 - val_sparse_categorical_accuracy: 0.5260\n",
      "Epoch 53/100\n",
      "16/16 [==============================] - 2s 116ms/step - loss: 0.7026 - sparse_categorical_accuracy: 0.7303 - val_loss: 1.9651 - val_sparse_categorical_accuracy: 0.5260\n",
      "Epoch 54/100\n",
      "16/16 [==============================] - 2s 113ms/step - loss: 0.7052 - sparse_categorical_accuracy: 0.7330 - val_loss: 1.9708 - val_sparse_categorical_accuracy: 0.5260\n",
      "Epoch 55/100\n",
      "16/16 [==============================] - 2s 118ms/step - loss: 0.6985 - sparse_categorical_accuracy: 0.7344 - val_loss: 1.9653 - val_sparse_categorical_accuracy: 0.5280\n",
      "Epoch 56/100\n",
      "16/16 [==============================] - 2s 115ms/step - loss: 0.6966 - sparse_categorical_accuracy: 0.7345 - val_loss: 1.9673 - val_sparse_categorical_accuracy: 0.5290\n",
      "Epoch 57/100\n",
      "16/16 [==============================] - 2s 114ms/step - loss: 0.6968 - sparse_categorical_accuracy: 0.7330 - val_loss: 1.9616 - val_sparse_categorical_accuracy: 0.5310\n",
      "Epoch 58/100\n",
      "16/16 [==============================] - 2s 116ms/step - loss: 0.7071 - sparse_categorical_accuracy: 0.7236 - val_loss: 1.9636 - val_sparse_categorical_accuracy: 0.5300\n",
      "\n",
      "Epoch 00058: ReduceLROnPlateau reducing learning rate to 9.99999883788405e-07.\n",
      "Epoch 59/100\n",
      "16/16 [==============================] - 2s 114ms/step - loss: 0.7091 - sparse_categorical_accuracy: 0.7294 - val_loss: 1.9684 - val_sparse_categorical_accuracy: 0.5310\n",
      "Epoch 60/100\n",
      "16/16 [==============================] - 2s 112ms/step - loss: 0.7202 - sparse_categorical_accuracy: 0.7189 - val_loss: 1.9708 - val_sparse_categorical_accuracy: 0.5290\n",
      "Epoch 61/100\n",
      "16/16 [==============================] - 2s 116ms/step - loss: 0.7162 - sparse_categorical_accuracy: 0.7149 - val_loss: 1.9690 - val_sparse_categorical_accuracy: 0.5290\n",
      "Epoch 62/100\n",
      "16/16 [==============================] - 2s 116ms/step - loss: 0.6992 - sparse_categorical_accuracy: 0.7228 - val_loss: 1.9685 - val_sparse_categorical_accuracy: 0.5280\n",
      "Epoch 63/100\n",
      "16/16 [==============================] - 2s 119ms/step - loss: 0.6975 - sparse_categorical_accuracy: 0.7253 - val_loss: 1.9708 - val_sparse_categorical_accuracy: 0.5290\n",
      "Epoch 64/100\n",
      "16/16 [==============================] - 2s 117ms/step - loss: 0.7013 - sparse_categorical_accuracy: 0.7281 - val_loss: 1.9703 - val_sparse_categorical_accuracy: 0.5290\n",
      "Epoch 65/100\n",
      "16/16 [==============================] - 2s 120ms/step - loss: 0.6977 - sparse_categorical_accuracy: 0.7338 - val_loss: 1.9694 - val_sparse_categorical_accuracy: 0.5290\n",
      "Epoch 66/100\n",
      "16/16 [==============================] - 2s 125ms/step - loss: 0.6949 - sparse_categorical_accuracy: 0.7344 - val_loss: 1.9713 - val_sparse_categorical_accuracy: 0.5300\n",
      "Epoch 67/100\n",
      "16/16 [==============================] - 2s 118ms/step - loss: 0.7023 - sparse_categorical_accuracy: 0.7334 - val_loss: 1.9701 - val_sparse_categorical_accuracy: 0.5300\n",
      "Epoch 68/100\n",
      "16/16 [==============================] - 2s 117ms/step - loss: 0.6917 - sparse_categorical_accuracy: 0.7332 - val_loss: 1.9682 - val_sparse_categorical_accuracy: 0.5320\n",
      "\n",
      "Epoch 00068: ReduceLROnPlateau reducing learning rate to 9.99999883788405e-08.\n",
      "Epoch 69/100\n",
      "16/16 [==============================] - 2s 115ms/step - loss: 0.7109 - sparse_categorical_accuracy: 0.7292 - val_loss: 1.9667 - val_sparse_categorical_accuracy: 0.5320\n",
      "Epoch 70/100\n",
      "16/16 [==============================] - 2s 114ms/step - loss: 0.7023 - sparse_categorical_accuracy: 0.7265 - val_loss: 1.9690 - val_sparse_categorical_accuracy: 0.5310\n",
      "Epoch 71/100\n",
      "16/16 [==============================] - 2s 114ms/step - loss: 0.6984 - sparse_categorical_accuracy: 0.7297 - val_loss: 1.9699 - val_sparse_categorical_accuracy: 0.5300\n",
      "Epoch 72/100\n",
      "16/16 [==============================] - 2s 114ms/step - loss: 0.7041 - sparse_categorical_accuracy: 0.7373 - val_loss: 1.9718 - val_sparse_categorical_accuracy: 0.5320\n",
      "Epoch 73/100\n",
      "16/16 [==============================] - 2s 113ms/step - loss: 0.7055 - sparse_categorical_accuracy: 0.7235 - val_loss: 1.9741 - val_sparse_categorical_accuracy: 0.5310\n",
      "Epoch 74/100\n",
      "16/16 [==============================] - 2s 115ms/step - loss: 0.6896 - sparse_categorical_accuracy: 0.7364 - val_loss: 1.9724 - val_sparse_categorical_accuracy: 0.5310\n",
      "Epoch 75/100\n",
      "16/16 [==============================] - 2s 113ms/step - loss: 0.7076 - sparse_categorical_accuracy: 0.7283 - val_loss: 1.9749 - val_sparse_categorical_accuracy: 0.5310\n",
      "Epoch 76/100\n",
      "16/16 [==============================] - 2s 116ms/step - loss: 0.7027 - sparse_categorical_accuracy: 0.7290 - val_loss: 1.9791 - val_sparse_categorical_accuracy: 0.5300\n",
      "Epoch 77/100\n",
      "16/16 [==============================] - 2s 115ms/step - loss: 0.7084 - sparse_categorical_accuracy: 0.7246 - val_loss: 1.9766 - val_sparse_categorical_accuracy: 0.5300\n",
      "Epoch 78/100\n",
      "16/16 [==============================] - 2s 114ms/step - loss: 0.6972 - sparse_categorical_accuracy: 0.7314 - val_loss: 1.9744 - val_sparse_categorical_accuracy: 0.5300\n",
      "\n",
      "Epoch 00078: ReduceLROnPlateau reducing learning rate to 9.999998695775504e-09.\n",
      "Epoch 79/100\n",
      "16/16 [==============================] - 2s 113ms/step - loss: 0.7078 - sparse_categorical_accuracy: 0.7188 - val_loss: 1.9769 - val_sparse_categorical_accuracy: 0.5310\n",
      "Epoch 80/100\n",
      "16/16 [==============================] - 2s 112ms/step - loss: 0.7056 - sparse_categorical_accuracy: 0.7233 - val_loss: 1.9808 - val_sparse_categorical_accuracy: 0.5300\n",
      "Epoch 81/100\n",
      "16/16 [==============================] - 2s 115ms/step - loss: 0.6966 - sparse_categorical_accuracy: 0.7337 - val_loss: 1.9829 - val_sparse_categorical_accuracy: 0.5300\n",
      "Epoch 82/100\n",
      "16/16 [==============================] - 2s 112ms/step - loss: 0.6993 - sparse_categorical_accuracy: 0.7308 - val_loss: 1.9781 - val_sparse_categorical_accuracy: 0.5310\n",
      "Epoch 83/100\n",
      "16/16 [==============================] - 2s 116ms/step - loss: 0.7041 - sparse_categorical_accuracy: 0.7255 - val_loss: 1.9794 - val_sparse_categorical_accuracy: 0.5310\n",
      "Epoch 84/100\n",
      "16/16 [==============================] - 2s 114ms/step - loss: 0.6962 - sparse_categorical_accuracy: 0.7300 - val_loss: 1.9783 - val_sparse_categorical_accuracy: 0.5320\n",
      "Epoch 85/100\n",
      "16/16 [==============================] - 2s 115ms/step - loss: 0.7120 - sparse_categorical_accuracy: 0.7304 - val_loss: 1.9787 - val_sparse_categorical_accuracy: 0.5300\n",
      "Epoch 86/100\n",
      "16/16 [==============================] - 2s 113ms/step - loss: 0.7267 - sparse_categorical_accuracy: 0.7145 - val_loss: 1.9823 - val_sparse_categorical_accuracy: 0.5310\n",
      "Epoch 87/100\n",
      "16/16 [==============================] - 2s 115ms/step - loss: 0.7086 - sparse_categorical_accuracy: 0.7226 - val_loss: 1.9805 - val_sparse_categorical_accuracy: 0.5310\n",
      "Epoch 88/100\n",
      "16/16 [==============================] - 2s 116ms/step - loss: 0.7003 - sparse_categorical_accuracy: 0.7342 - val_loss: 1.9768 - val_sparse_categorical_accuracy: 0.5300\n",
      "\n",
      "Epoch 00088: ReduceLROnPlateau reducing learning rate to 9.99999905104687e-10.\n",
      "Epoch 89/100\n",
      "16/16 [==============================] - 2s 115ms/step - loss: 0.7072 - sparse_categorical_accuracy: 0.7285 - val_loss: 1.9779 - val_sparse_categorical_accuracy: 0.5310\n",
      "Epoch 90/100\n",
      "16/16 [==============================] - 2s 114ms/step - loss: 0.7006 - sparse_categorical_accuracy: 0.7390 - val_loss: 1.9799 - val_sparse_categorical_accuracy: 0.5300\n",
      "Epoch 91/100\n",
      "16/16 [==============================] - 2s 112ms/step - loss: 0.7169 - sparse_categorical_accuracy: 0.7206 - val_loss: 1.9790 - val_sparse_categorical_accuracy: 0.5300\n",
      "Epoch 92/100\n",
      "16/16 [==============================] - 2s 115ms/step - loss: 0.6941 - sparse_categorical_accuracy: 0.7325 - val_loss: 1.9800 - val_sparse_categorical_accuracy: 0.5300\n",
      "Epoch 93/100\n",
      "16/16 [==============================] - 2s 115ms/step - loss: 0.6914 - sparse_categorical_accuracy: 0.7267 - val_loss: 1.9758 - val_sparse_categorical_accuracy: 0.5320\n",
      "Epoch 94/100\n",
      "16/16 [==============================] - 2s 117ms/step - loss: 0.6933 - sparse_categorical_accuracy: 0.7281 - val_loss: 1.9754 - val_sparse_categorical_accuracy: 0.5330\n",
      "Epoch 95/100\n",
      "16/16 [==============================] - 2s 112ms/step - loss: 0.7050 - sparse_categorical_accuracy: 0.7295 - val_loss: 1.9741 - val_sparse_categorical_accuracy: 0.5330\n",
      "Epoch 96/100\n",
      "16/16 [==============================] - 2s 112ms/step - loss: 0.7041 - sparse_categorical_accuracy: 0.7345 - val_loss: 1.9729 - val_sparse_categorical_accuracy: 0.5330\n",
      "Epoch 97/100\n",
      "16/16 [==============================] - 2s 113ms/step - loss: 0.7100 - sparse_categorical_accuracy: 0.7206 - val_loss: 1.9751 - val_sparse_categorical_accuracy: 0.5320\n",
      "Epoch 98/100\n",
      "16/16 [==============================] - 2s 114ms/step - loss: 0.7145 - sparse_categorical_accuracy: 0.7253 - val_loss: 1.9763 - val_sparse_categorical_accuracy: 0.5330\n",
      "\n",
      "Epoch 00098: ReduceLROnPlateau reducing learning rate to 9.999998606957661e-11.\n",
      "Epoch 99/100\n",
      "16/16 [==============================] - 2s 116ms/step - loss: 0.7079 - sparse_categorical_accuracy: 0.7240 - val_loss: 1.9795 - val_sparse_categorical_accuracy: 0.5310\n",
      "Epoch 100/100\n",
      "16/16 [==============================] - 2s 114ms/step - loss: 0.6930 - sparse_categorical_accuracy: 0.7330 - val_loss: 1.9806 - val_sparse_categorical_accuracy: 0.5310\n"
     ]
    },
    {
     "data": {
      "text/plain": [
       "<tensorflow.python.keras.callbacks.History at 0x7fab50671f70>"
      ]
     },
     "execution_count": 69,
     "metadata": {},
     "output_type": "execute_result"
    }
   ],
   "source": [
    "model.compile(\n",
    "    optimizer=tf.keras.optimizers.Adam(1e-2),\n",
    "    loss=tf.keras.losses.SparseCategoricalCrossentropy(from_logits=True),\n",
    "    metrics=[\n",
    "        tf.keras.metrics.SparseCategoricalAccuracy()\n",
    "    ]\n",
    ")\n",
    "os.makedirs('/content/gdrive/MyDrive/data/models/tl_without_aug/', exist_ok=True)\n",
    "os.makedirs('/content/gdrive/MyDrive/data/logs/tl_without_aug/', exist_ok=True)\n",
    "model.fit(\n",
    "    ds_train,\n",
    "    epochs=100,\n",
    "    validation_data=ds_val,\n",
    "    callbacks=[\n",
    "        tf.keras.callbacks.TensorBoard(\n",
    "            log_dir='/content/gdrive/MyDrive/data/logs/tl_without_aug', histogram_freq=0, write_graph=True,\n",
    "            write_images=False, update_freq='batch', profile_batch=(5, 10)\n",
    "        ),\n",
    "        #tf.keras.callbacks.ModelCheckpoint(\n",
    "        #    'models', monitor='val_sparse_categorical_accuracy', verbose=0, save_best_only=True,\n",
    "        #    save_weights_only=False, mode='auto', save_freq='epoch'\n",
    "        #),\n",
    "        tf.keras.callbacks.CSVLogger('/content/gdrive/MyDrive/data/models/tl_without_aug/history.csv', separator=','),\n",
    "        tf.keras.callbacks.ReduceLROnPlateau(\n",
    "            monitor='val_sparse_categorical_accuracy', factor=0.1, patience=10, verbose=1,\n",
    "            mode='auto', min_delta=0.0001\n",
    "        )\n",
    "    ]\n",
    ")\n"
   ]
  },
  {
   "cell_type": "markdown",
   "metadata": {},
   "source": [
    "## Avec augmentation mais pas de transfert learning."
   ]
  },
  {
   "cell_type": "code",
   "execution_count": 70,
   "metadata": {},
   "outputs": [],
   "source": [
    "# on reprend le data set initial.\n",
    "ds_train, info = tfds.load(\n",
    "    'colorectal_histology',\n",
    "    split='train[:80%]', \n",
    "    **args\n",
    ")\n",
    "# conversion en float\n",
    "ds_train = ds_train.map(\n",
    "    lambda x, y: (preprocessing_pipeline(x), y),\n",
    "    num_parallel_calls=tf.data.experimental.AUTOTUNE\n",
    ")\n",
    "# caching : on ne fait les opérations précédentes qu'une fois\n",
    "# au début de l'entraînement.\n",
    "ds_train = ds_train.cache()\n",
    "# augmentation.\n",
    "ds_train = ds_train.map(\n",
    "    lambda x, y: (data_augmentation_pipeline(x), y),\n",
    "    num_parallel_calls=tf.data.experimental.AUTOTUNE\n",
    ")\n",
    "# et finalement on normalise invididuellement les canaux\n",
    "# R, V et B des images.\n",
    "ds_train = ds_train.map(\n",
    "    lambda x, y: (tf.image.per_image_standardization(x), y),\n",
    "    num_parallel_calls=tf.data.experimental.AUTOTUNE\n",
    ")\n",
    "ds_train = ds_train.prefetch(tf.data.experimental.AUTOTUNE)"
   ]
  },
  {
   "cell_type": "code",
   "execution_count": 71,
   "metadata": {},
   "outputs": [
    {
     "name": "stdout",
     "output_type": "stream",
     "text": [
      "Model: \"sequential_13\"\n",
      "_________________________________________________________________\n",
      "Layer (type)                 Output Shape              Param #   \n",
      "=================================================================\n",
      "efficientnetb0 (Functional)  (None, 1280)              4049571   \n",
      "_________________________________________________________________\n",
      "dense_18 (Dense)             (None, 8)                 10248     \n",
      "=================================================================\n",
      "Total params: 4,059,819\n",
      "Trainable params: 4,017,796\n",
      "Non-trainable params: 42,023\n",
      "_________________________________________________________________\n"
     ]
    }
   ],
   "source": [
    "eff = tf.keras.applications.EfficientNetB0(\n",
    "    include_top=False, weights='imagenet', input_tensor=None,\n",
    "    input_shape=None, pooling='avg'\n",
    ")\n",
    "#for layer in eff.layers[:-20]:\n",
    "#    layer.trainable = False\n",
    "model = tf.keras.Sequential([\n",
    "    eff,\n",
    "    tf.keras.layers.Dense(8, activation='softmax')\n",
    "])\n",
    "model.summary()"
   ]
  },
  {
   "cell_type": "code",
   "execution_count": 72,
   "metadata": {
    "scrolled": true
   },
   "outputs": [
    {
     "name": "stdout",
     "output_type": "stream",
     "text": [
      "Epoch 1/100\n",
      "16/16 [==============================] - 42s 2s/step - loss: 1.8549 - sparse_categorical_accuracy: 0.4345 - val_loss: 14412827.0000 - val_sparse_categorical_accuracy: 0.1180\n",
      "Epoch 2/100\n",
      "16/16 [==============================] - 9s 476ms/step - loss: 0.7721 - sparse_categorical_accuracy: 0.7287 - val_loss: 85576.3516 - val_sparse_categorical_accuracy: 0.1260\n",
      "Epoch 3/100\n",
      "16/16 [==============================] - 9s 461ms/step - loss: 0.5984 - sparse_categorical_accuracy: 0.7965 - val_loss: 19966.8516 - val_sparse_categorical_accuracy: 0.1260\n",
      "Epoch 4/100\n",
      "16/16 [==============================] - 9s 478ms/step - loss: 0.4707 - sparse_categorical_accuracy: 0.8356 - val_loss: 23729.5195 - val_sparse_categorical_accuracy: 0.1180\n",
      "Epoch 5/100\n",
      "16/16 [==============================] - 9s 492ms/step - loss: 0.4413 - sparse_categorical_accuracy: 0.8383 - val_loss: 1138.7985 - val_sparse_categorical_accuracy: 0.1180\n",
      "Epoch 6/100\n",
      "16/16 [==============================] - 9s 448ms/step - loss: 0.4013 - sparse_categorical_accuracy: 0.8555 - val_loss: 30.7646 - val_sparse_categorical_accuracy: 0.1180\n",
      "Epoch 7/100\n",
      "16/16 [==============================] - 9s 456ms/step - loss: 0.3274 - sparse_categorical_accuracy: 0.8876 - val_loss: 22.9171 - val_sparse_categorical_accuracy: 0.1120\n",
      "Epoch 8/100\n",
      "16/16 [==============================] - 9s 456ms/step - loss: 0.3107 - sparse_categorical_accuracy: 0.8885 - val_loss: 52.5431 - val_sparse_categorical_accuracy: 0.1120\n",
      "Epoch 9/100\n",
      "16/16 [==============================] - 9s 455ms/step - loss: 0.3273 - sparse_categorical_accuracy: 0.8871 - val_loss: 12.8157 - val_sparse_categorical_accuracy: 0.1260\n",
      "Epoch 10/100\n",
      "16/16 [==============================] - 9s 466ms/step - loss: 0.3209 - sparse_categorical_accuracy: 0.8826 - val_loss: 14.0635 - val_sparse_categorical_accuracy: 0.1260\n",
      "Epoch 11/100\n",
      "16/16 [==============================] - 9s 460ms/step - loss: 0.2554 - sparse_categorical_accuracy: 0.9057 - val_loss: 14.1724 - val_sparse_categorical_accuracy: 0.1260\n",
      "Epoch 12/100\n",
      "16/16 [==============================] - 9s 477ms/step - loss: 0.2854 - sparse_categorical_accuracy: 0.8997 - val_loss: 9.3338 - val_sparse_categorical_accuracy: 0.1260\n",
      "\n",
      "Epoch 00012: ReduceLROnPlateau reducing learning rate to 0.0009999999776482583.\n",
      "Epoch 13/100\n",
      "16/16 [==============================] - 9s 476ms/step - loss: 0.2581 - sparse_categorical_accuracy: 0.9062 - val_loss: 6.3405 - val_sparse_categorical_accuracy: 0.1330\n",
      "Epoch 14/100\n",
      "16/16 [==============================] - 9s 514ms/step - loss: 0.2230 - sparse_categorical_accuracy: 0.9136 - val_loss: 6.4782 - val_sparse_categorical_accuracy: 0.1140\n",
      "Epoch 15/100\n",
      "16/16 [==============================] - 10s 482ms/step - loss: 0.2261 - sparse_categorical_accuracy: 0.9192 - val_loss: 4.4334 - val_sparse_categorical_accuracy: 0.1190\n",
      "Epoch 16/100\n",
      "16/16 [==============================] - 9s 491ms/step - loss: 0.1961 - sparse_categorical_accuracy: 0.9221 - val_loss: 2.8391 - val_sparse_categorical_accuracy: 0.2140\n",
      "Epoch 17/100\n",
      "16/16 [==============================] - 9s 472ms/step - loss: 0.2021 - sparse_categorical_accuracy: 0.9213 - val_loss: 2.8985 - val_sparse_categorical_accuracy: 0.2250\n",
      "Epoch 18/100\n",
      "16/16 [==============================] - 9s 506ms/step - loss: 0.1910 - sparse_categorical_accuracy: 0.9285 - val_loss: 3.7159 - val_sparse_categorical_accuracy: 0.2000\n",
      "Epoch 19/100\n",
      "16/16 [==============================] - 9s 512ms/step - loss: 0.1790 - sparse_categorical_accuracy: 0.9362 - val_loss: 4.8190 - val_sparse_categorical_accuracy: 0.1890\n",
      "Epoch 20/100\n",
      "16/16 [==============================] - 9s 484ms/step - loss: 0.1940 - sparse_categorical_accuracy: 0.9325 - val_loss: 5.1921 - val_sparse_categorical_accuracy: 0.1480\n",
      "Epoch 21/100\n",
      "16/16 [==============================] - 10s 504ms/step - loss: 0.1935 - sparse_categorical_accuracy: 0.9255 - val_loss: 5.8996 - val_sparse_categorical_accuracy: 0.1380\n",
      "Epoch 22/100\n",
      "16/16 [==============================] - 9s 486ms/step - loss: 0.1880 - sparse_categorical_accuracy: 0.9251 - val_loss: 7.1017 - val_sparse_categorical_accuracy: 0.1370\n",
      "Epoch 23/100\n",
      "16/16 [==============================] - 9s 465ms/step - loss: 0.1832 - sparse_categorical_accuracy: 0.9328 - val_loss: 6.5351 - val_sparse_categorical_accuracy: 0.1860\n",
      "Epoch 24/100\n",
      "16/16 [==============================] - 9s 495ms/step - loss: 0.1660 - sparse_categorical_accuracy: 0.9396 - val_loss: 6.3830 - val_sparse_categorical_accuracy: 0.1410\n",
      "Epoch 25/100\n",
      "16/16 [==============================] - 9s 480ms/step - loss: 0.1720 - sparse_categorical_accuracy: 0.9383 - val_loss: 5.5112 - val_sparse_categorical_accuracy: 0.2030\n",
      "Epoch 26/100\n",
      "16/16 [==============================] - 9s 482ms/step - loss: 0.1691 - sparse_categorical_accuracy: 0.9352 - val_loss: 4.3999 - val_sparse_categorical_accuracy: 0.2610\n",
      "Epoch 27/100\n",
      "16/16 [==============================] - 9s 464ms/step - loss: 0.1854 - sparse_categorical_accuracy: 0.9311 - val_loss: 3.3486 - val_sparse_categorical_accuracy: 0.3480\n",
      "Epoch 28/100\n",
      "16/16 [==============================] - 9s 484ms/step - loss: 0.1518 - sparse_categorical_accuracy: 0.9482 - val_loss: 3.3854 - val_sparse_categorical_accuracy: 0.3690\n",
      "Epoch 29/100\n",
      "16/16 [==============================] - 9s 439ms/step - loss: 0.1600 - sparse_categorical_accuracy: 0.9400 - val_loss: 2.9740 - val_sparse_categorical_accuracy: 0.3910\n",
      "Epoch 30/100\n",
      "16/16 [==============================] - 9s 503ms/step - loss: 0.1825 - sparse_categorical_accuracy: 0.9295 - val_loss: 2.7082 - val_sparse_categorical_accuracy: 0.4330\n",
      "Epoch 31/100\n",
      "16/16 [==============================] - 9s 522ms/step - loss: 0.1383 - sparse_categorical_accuracy: 0.9487 - val_loss: 4.2772 - val_sparse_categorical_accuracy: 0.2540\n",
      "Epoch 32/100\n",
      "16/16 [==============================] - 9s 506ms/step - loss: 0.1568 - sparse_categorical_accuracy: 0.9484 - val_loss: 6.1814 - val_sparse_categorical_accuracy: 0.1860\n",
      "Epoch 33/100\n",
      "16/16 [==============================] - 9s 471ms/step - loss: 0.1604 - sparse_categorical_accuracy: 0.9436 - val_loss: 3.2741 - val_sparse_categorical_accuracy: 0.3520\n",
      "Epoch 34/100\n",
      "16/16 [==============================] - 9s 490ms/step - loss: 0.1460 - sparse_categorical_accuracy: 0.9411 - val_loss: 1.2378 - val_sparse_categorical_accuracy: 0.6420\n",
      "Epoch 35/100\n",
      "16/16 [==============================] - 10s 508ms/step - loss: 0.1487 - sparse_categorical_accuracy: 0.9447 - val_loss: 1.9128 - val_sparse_categorical_accuracy: 0.5540\n",
      "Epoch 36/100\n",
      "16/16 [==============================] - 10s 487ms/step - loss: 0.1528 - sparse_categorical_accuracy: 0.9439 - val_loss: 2.6108 - val_sparse_categorical_accuracy: 0.4660\n",
      "Epoch 37/100\n",
      "16/16 [==============================] - 10s 532ms/step - loss: 0.1518 - sparse_categorical_accuracy: 0.9486 - val_loss: 2.4085 - val_sparse_categorical_accuracy: 0.5000\n",
      "Epoch 38/100\n",
      "16/16 [==============================] - 10s 502ms/step - loss: 0.1376 - sparse_categorical_accuracy: 0.9458 - val_loss: 2.3116 - val_sparse_categorical_accuracy: 0.5150\n",
      "Epoch 39/100\n",
      "16/16 [==============================] - 9s 480ms/step - loss: 0.1463 - sparse_categorical_accuracy: 0.9447 - val_loss: 1.1842 - val_sparse_categorical_accuracy: 0.6580\n",
      "Epoch 40/100\n",
      "16/16 [==============================] - 9s 475ms/step - loss: 0.1330 - sparse_categorical_accuracy: 0.9502 - val_loss: 1.2173 - val_sparse_categorical_accuracy: 0.6560\n",
      "Epoch 41/100\n",
      "16/16 [==============================] - 9s 500ms/step - loss: 0.1367 - sparse_categorical_accuracy: 0.9481 - val_loss: 1.7764 - val_sparse_categorical_accuracy: 0.5390\n",
      "Epoch 42/100\n",
      "16/16 [==============================] - 9s 466ms/step - loss: 0.1302 - sparse_categorical_accuracy: 0.9423 - val_loss: 1.3387 - val_sparse_categorical_accuracy: 0.6140\n",
      "Epoch 43/100\n",
      "16/16 [==============================] - 9s 495ms/step - loss: 0.1372 - sparse_categorical_accuracy: 0.9487 - val_loss: 0.5881 - val_sparse_categorical_accuracy: 0.7790\n",
      "Epoch 44/100\n",
      "16/16 [==============================] - 10s 499ms/step - loss: 0.1245 - sparse_categorical_accuracy: 0.9536 - val_loss: 1.9592 - val_sparse_categorical_accuracy: 0.5990\n",
      "Epoch 45/100\n",
      "16/16 [==============================] - 9s 473ms/step - loss: 0.1199 - sparse_categorical_accuracy: 0.9546 - val_loss: 2.6110 - val_sparse_categorical_accuracy: 0.5040\n",
      "Epoch 46/100\n",
      "16/16 [==============================] - 9s 493ms/step - loss: 0.1355 - sparse_categorical_accuracy: 0.9498 - val_loss: 3.9940 - val_sparse_categorical_accuracy: 0.3760\n",
      "Epoch 47/100\n",
      "16/16 [==============================] - 9s 467ms/step - loss: 0.1328 - sparse_categorical_accuracy: 0.9501 - val_loss: 2.7206 - val_sparse_categorical_accuracy: 0.4750\n",
      "Epoch 48/100\n",
      "16/16 [==============================] - 9s 460ms/step - loss: 0.1285 - sparse_categorical_accuracy: 0.9541 - val_loss: 2.3657 - val_sparse_categorical_accuracy: 0.5180\n",
      "Epoch 49/100\n",
      "16/16 [==============================] - 9s 479ms/step - loss: 0.1261 - sparse_categorical_accuracy: 0.9570 - val_loss: 3.4969 - val_sparse_categorical_accuracy: 0.4810\n",
      "Epoch 50/100\n",
      "16/16 [==============================] - 9s 490ms/step - loss: 0.1123 - sparse_categorical_accuracy: 0.9557 - val_loss: 5.3782 - val_sparse_categorical_accuracy: 0.4160\n",
      "Epoch 51/100\n",
      "16/16 [==============================] - 9s 478ms/step - loss: 0.1180 - sparse_categorical_accuracy: 0.9525 - val_loss: 1.9077 - val_sparse_categorical_accuracy: 0.6000\n",
      "Epoch 52/100\n",
      "16/16 [==============================] - 9s 493ms/step - loss: 0.1227 - sparse_categorical_accuracy: 0.9556 - val_loss: 5.2235 - val_sparse_categorical_accuracy: 0.4470\n",
      "Epoch 53/100\n",
      "16/16 [==============================] - 9s 494ms/step - loss: 0.1276 - sparse_categorical_accuracy: 0.9523 - val_loss: 0.5519 - val_sparse_categorical_accuracy: 0.8290\n",
      "Epoch 54/100\n",
      "16/16 [==============================] - 9s 490ms/step - loss: 0.1050 - sparse_categorical_accuracy: 0.9658 - val_loss: 0.5862 - val_sparse_categorical_accuracy: 0.8320\n",
      "Epoch 55/100\n",
      "16/16 [==============================] - 9s 473ms/step - loss: 0.1133 - sparse_categorical_accuracy: 0.9578 - val_loss: 1.9924 - val_sparse_categorical_accuracy: 0.5270\n",
      "Epoch 56/100\n",
      "16/16 [==============================] - 9s 470ms/step - loss: 0.1215 - sparse_categorical_accuracy: 0.9565 - val_loss: 0.9687 - val_sparse_categorical_accuracy: 0.6880\n",
      "Epoch 57/100\n",
      "16/16 [==============================] - 9s 473ms/step - loss: 0.1080 - sparse_categorical_accuracy: 0.9613 - val_loss: 0.9433 - val_sparse_categorical_accuracy: 0.7080\n",
      "Epoch 58/100\n",
      "16/16 [==============================] - 9s 499ms/step - loss: 0.1104 - sparse_categorical_accuracy: 0.9593 - val_loss: 1.0615 - val_sparse_categorical_accuracy: 0.6980\n",
      "Epoch 59/100\n",
      "16/16 [==============================] - 9s 455ms/step - loss: 0.1021 - sparse_categorical_accuracy: 0.9617 - val_loss: 2.3517 - val_sparse_categorical_accuracy: 0.5220\n",
      "Epoch 60/100\n",
      "16/16 [==============================] - 9s 484ms/step - loss: 0.1032 - sparse_categorical_accuracy: 0.9624 - val_loss: 1.8155 - val_sparse_categorical_accuracy: 0.5720\n",
      "Epoch 61/100\n",
      "16/16 [==============================] - 9s 467ms/step - loss: 0.1127 - sparse_categorical_accuracy: 0.9600 - val_loss: 10.0387 - val_sparse_categorical_accuracy: 0.3310\n",
      "Epoch 62/100\n",
      "16/16 [==============================] - 9s 458ms/step - loss: 0.0990 - sparse_categorical_accuracy: 0.9697 - val_loss: 7.4744 - val_sparse_categorical_accuracy: 0.3770\n",
      "Epoch 63/100\n",
      "16/16 [==============================] - 9s 450ms/step - loss: 0.1006 - sparse_categorical_accuracy: 0.9626 - val_loss: 7.7337 - val_sparse_categorical_accuracy: 0.2790\n",
      "Epoch 64/100\n",
      "16/16 [==============================] - 9s 482ms/step - loss: 0.1190 - sparse_categorical_accuracy: 0.9536 - val_loss: 7.3683 - val_sparse_categorical_accuracy: 0.1530\n",
      "\n",
      "Epoch 00064: ReduceLROnPlateau reducing learning rate to 9.999999310821295e-05.\n",
      "Epoch 65/100\n",
      "16/16 [==============================] - 9s 481ms/step - loss: 0.0876 - sparse_categorical_accuracy: 0.9701 - val_loss: 7.3519 - val_sparse_categorical_accuracy: 0.1850\n",
      "Epoch 66/100\n",
      "16/16 [==============================] - 8s 445ms/step - loss: 0.0998 - sparse_categorical_accuracy: 0.9661 - val_loss: 7.6553 - val_sparse_categorical_accuracy: 0.2510\n",
      "Epoch 67/100\n",
      "16/16 [==============================] - 9s 479ms/step - loss: 0.0920 - sparse_categorical_accuracy: 0.9704 - val_loss: 8.7042 - val_sparse_categorical_accuracy: 0.3380\n",
      "Epoch 68/100\n",
      "16/16 [==============================] - 9s 480ms/step - loss: 0.0702 - sparse_categorical_accuracy: 0.9785 - val_loss: 7.9664 - val_sparse_categorical_accuracy: 0.3940\n",
      "Epoch 69/100\n",
      "16/16 [==============================] - 9s 490ms/step - loss: 0.0731 - sparse_categorical_accuracy: 0.9782 - val_loss: 6.0389 - val_sparse_categorical_accuracy: 0.4070\n",
      "Epoch 70/100\n",
      "16/16 [==============================] - 9s 474ms/step - loss: 0.0881 - sparse_categorical_accuracy: 0.9683 - val_loss: 4.2043 - val_sparse_categorical_accuracy: 0.4590\n",
      "Epoch 71/100\n",
      "16/16 [==============================] - 10s 476ms/step - loss: 0.0715 - sparse_categorical_accuracy: 0.9721 - val_loss: 2.5683 - val_sparse_categorical_accuracy: 0.5600\n",
      "Epoch 72/100\n",
      "16/16 [==============================] - 9s 492ms/step - loss: 0.0783 - sparse_categorical_accuracy: 0.9694 - val_loss: 1.2190 - val_sparse_categorical_accuracy: 0.7270\n",
      "Epoch 73/100\n",
      "16/16 [==============================] - 9s 524ms/step - loss: 0.0650 - sparse_categorical_accuracy: 0.9742 - val_loss: 0.7697 - val_sparse_categorical_accuracy: 0.8240\n",
      "Epoch 74/100\n",
      "16/16 [==============================] - 9s 519ms/step - loss: 0.0767 - sparse_categorical_accuracy: 0.9742 - val_loss: 0.4672 - val_sparse_categorical_accuracy: 0.8920\n",
      "Epoch 75/100\n",
      "16/16 [==============================] - 9s 461ms/step - loss: 0.0818 - sparse_categorical_accuracy: 0.9696 - val_loss: 0.5608 - val_sparse_categorical_accuracy: 0.8630\n",
      "Epoch 76/100\n",
      "16/16 [==============================] - 9s 484ms/step - loss: 0.0785 - sparse_categorical_accuracy: 0.9712 - val_loss: 0.6836 - val_sparse_categorical_accuracy: 0.8410\n",
      "Epoch 77/100\n",
      "16/16 [==============================] - 9s 511ms/step - loss: 0.0754 - sparse_categorical_accuracy: 0.9717 - val_loss: 0.5283 - val_sparse_categorical_accuracy: 0.8730\n",
      "Epoch 78/100\n",
      "16/16 [==============================] - 9s 513ms/step - loss: 0.0804 - sparse_categorical_accuracy: 0.9678 - val_loss: 0.5243 - val_sparse_categorical_accuracy: 0.8710\n",
      "Epoch 79/100\n",
      "16/16 [==============================] - 9s 488ms/step - loss: 0.0640 - sparse_categorical_accuracy: 0.9780 - val_loss: 0.4738 - val_sparse_categorical_accuracy: 0.8800\n",
      "Epoch 80/100\n",
      "16/16 [==============================] - 9s 472ms/step - loss: 0.0764 - sparse_categorical_accuracy: 0.9726 - val_loss: 0.3551 - val_sparse_categorical_accuracy: 0.9070\n",
      "Epoch 81/100\n",
      "16/16 [==============================] - 9s 487ms/step - loss: 0.0806 - sparse_categorical_accuracy: 0.9695 - val_loss: 0.3318 - val_sparse_categorical_accuracy: 0.9110\n",
      "Epoch 82/100\n",
      "16/16 [==============================] - 9s 479ms/step - loss: 0.0753 - sparse_categorical_accuracy: 0.9724 - val_loss: 0.3174 - val_sparse_categorical_accuracy: 0.9130\n",
      "Epoch 83/100\n",
      "16/16 [==============================] - 9s 468ms/step - loss: 0.0626 - sparse_categorical_accuracy: 0.9784 - val_loss: 0.4052 - val_sparse_categorical_accuracy: 0.8960\n",
      "Epoch 84/100\n",
      "16/16 [==============================] - 9s 502ms/step - loss: 0.0777 - sparse_categorical_accuracy: 0.9700 - val_loss: 0.3927 - val_sparse_categorical_accuracy: 0.8940\n",
      "Epoch 85/100\n",
      "16/16 [==============================] - 9s 486ms/step - loss: 0.0783 - sparse_categorical_accuracy: 0.9726 - val_loss: 0.4867 - val_sparse_categorical_accuracy: 0.8780\n",
      "Epoch 86/100\n",
      "16/16 [==============================] - 9s 515ms/step - loss: 0.0680 - sparse_categorical_accuracy: 0.9745 - val_loss: 0.5604 - val_sparse_categorical_accuracy: 0.8590\n",
      "Epoch 87/100\n",
      "16/16 [==============================] - 9s 515ms/step - loss: 0.0696 - sparse_categorical_accuracy: 0.9750 - val_loss: 0.5008 - val_sparse_categorical_accuracy: 0.8780\n",
      "Epoch 88/100\n",
      "16/16 [==============================] - 9s 481ms/step - loss: 0.0639 - sparse_categorical_accuracy: 0.9785 - val_loss: 0.3694 - val_sparse_categorical_accuracy: 0.9000\n",
      "Epoch 89/100\n",
      "16/16 [==============================] - 9s 510ms/step - loss: 0.0736 - sparse_categorical_accuracy: 0.9723 - val_loss: 0.3033 - val_sparse_categorical_accuracy: 0.9230\n",
      "Epoch 90/100\n",
      "16/16 [==============================] - 9s 521ms/step - loss: 0.0722 - sparse_categorical_accuracy: 0.9738 - val_loss: 0.2887 - val_sparse_categorical_accuracy: 0.9240\n",
      "Epoch 91/100\n",
      "16/16 [==============================] - 9s 516ms/step - loss: 0.0724 - sparse_categorical_accuracy: 0.9727 - val_loss: 0.2963 - val_sparse_categorical_accuracy: 0.9170\n",
      "Epoch 92/100\n",
      "16/16 [==============================] - 10s 515ms/step - loss: 0.0654 - sparse_categorical_accuracy: 0.9764 - val_loss: 0.3277 - val_sparse_categorical_accuracy: 0.9130\n",
      "Epoch 93/100\n",
      "16/16 [==============================] - 9s 484ms/step - loss: 0.0699 - sparse_categorical_accuracy: 0.9753 - val_loss: 0.3234 - val_sparse_categorical_accuracy: 0.9190\n",
      "Epoch 94/100\n",
      "16/16 [==============================] - 9s 511ms/step - loss: 0.0694 - sparse_categorical_accuracy: 0.9752 - val_loss: 0.3886 - val_sparse_categorical_accuracy: 0.8990\n",
      "Epoch 95/100\n",
      "16/16 [==============================] - 9s 507ms/step - loss: 0.0626 - sparse_categorical_accuracy: 0.9780 - val_loss: 0.3668 - val_sparse_categorical_accuracy: 0.9040\n",
      "Epoch 96/100\n",
      "16/16 [==============================] - 9s 517ms/step - loss: 0.0671 - sparse_categorical_accuracy: 0.9750 - val_loss: 0.2693 - val_sparse_categorical_accuracy: 0.9270\n",
      "Epoch 97/100\n",
      "16/16 [==============================] - 9s 525ms/step - loss: 0.0626 - sparse_categorical_accuracy: 0.9775 - val_loss: 0.3290 - val_sparse_categorical_accuracy: 0.9120\n",
      "Epoch 98/100\n",
      "16/16 [==============================] - 9s 522ms/step - loss: 0.0611 - sparse_categorical_accuracy: 0.9774 - val_loss: 0.4054 - val_sparse_categorical_accuracy: 0.8980\n",
      "Epoch 99/100\n",
      "16/16 [==============================] - 10s 523ms/step - loss: 0.0643 - sparse_categorical_accuracy: 0.9759 - val_loss: 0.3812 - val_sparse_categorical_accuracy: 0.9060\n",
      "Epoch 100/100\n",
      "16/16 [==============================] - 9s 517ms/step - loss: 0.0602 - sparse_categorical_accuracy: 0.9798 - val_loss: 0.3177 - val_sparse_categorical_accuracy: 0.9090\n"
     ]
    },
    {
     "data": {
      "text/plain": [
       "<tensorflow.python.keras.callbacks.History at 0x7fab83317be0>"
      ]
     },
     "execution_count": 72,
     "metadata": {},
     "output_type": "execute_result"
    }
   ],
   "source": [
    "model.compile(\n",
    "    optimizer=tf.keras.optimizers.Adam(1e-2),\n",
    "    loss=tf.keras.losses.SparseCategoricalCrossentropy(from_logits=True),\n",
    "    metrics=[\n",
    "        tf.keras.metrics.SparseCategoricalAccuracy()\n",
    "    ]\n",
    ")\n",
    "os.makedirs('/content/gdrive/MyDrive/data/models/no_tl_with_aug/', exist_ok=True)\n",
    "os.makedirs('/content/gdrive/MyDrive/data/logs/no_tl_with_aug/', exist_ok=True)\n",
    "model.fit(\n",
    "    ds_train,\n",
    "    epochs=100,\n",
    "    validation_data=ds_val,\n",
    "    callbacks=[\n",
    "        tf.keras.callbacks.TensorBoard(\n",
    "            log_dir='/content/gdrive/MyDrive/data/logs/no_tl_with_aug/', histogram_freq=0, write_graph=True,\n",
    "            write_images=False, update_freq='batch', profile_batch=(5, 10)\n",
    "        ),\n",
    "        #tf.keras.callbacks.ModelCheckpoint(\n",
    "        #    'models', monitor='val_sparse_categorical_accuracy', verbose=0, save_best_only=True,\n",
    "        #    save_weights_only=False, mode='auto', save_freq='epoch'\n",
    "        #),\n",
    "        tf.keras.callbacks.CSVLogger('/content/gdrive/MyDrive/data/models/no_tl_with_aug/history.csv', separator=','),\n",
    "        tf.keras.callbacks.ReduceLROnPlateau(\n",
    "            monitor='val_sparse_categorical_accuracy', factor=0.1, patience=10, verbose=1,\n",
    "            mode='auto', min_delta=0.0001\n",
    "        )\n",
    "    ]\n",
    ")\n"
   ]
  },
  {
   "cell_type": "markdown",
   "metadata": {},
   "source": [
    "## Sans augmentation ni transfert learning."
   ]
  },
  {
   "cell_type": "code",
   "execution_count": 73,
   "metadata": {},
   "outputs": [],
   "source": [
    "# on reprend le data set initial.\n",
    "ds_train, info = tfds.load(\n",
    "    'colorectal_histology',\n",
    "    split='train[:80%]', \n",
    "    **args\n",
    ")\n",
    "# conversion en float\n",
    "ds_train = ds_train.map(\n",
    "    lambda x, y: (preprocessing_pipeline(x), y),\n",
    "    num_parallel_calls=tf.data.experimental.AUTOTUNE\n",
    ")\n",
    "# et finalement on normalise invididuellement les canaux\n",
    "# R, V et B des images.\n",
    "ds_train = ds_train.map(\n",
    "    lambda x, y: (tf.image.per_image_standardization(x), y),\n",
    "    num_parallel_calls=tf.data.experimental.AUTOTUNE\n",
    ")\n",
    "# caching : on ne fait les opérations précédentes qu'une fois\n",
    "# au début de l'entraînement.\n",
    "ds_train = ds_train.cache()\n",
    "ds_train = ds_train.prefetch(tf.data.experimental.AUTOTUNE)"
   ]
  },
  {
   "cell_type": "code",
   "execution_count": 74,
   "metadata": {
    "scrolled": true
   },
   "outputs": [
    {
     "name": "stdout",
     "output_type": "stream",
     "text": [
      "Epoch 1/100\n",
      "16/16 [==============================] - 39s 1s/step - loss: 0.8934 - sparse_categorical_accuracy: 0.8009 - val_loss: 2058.7695 - val_sparse_categorical_accuracy: 0.1260\n",
      "Epoch 2/100\n",
      "16/16 [==============================] - 6s 402ms/step - loss: 0.3512 - sparse_categorical_accuracy: 0.8766 - val_loss: 418.7891 - val_sparse_categorical_accuracy: 0.1240\n",
      "Epoch 3/100\n",
      "16/16 [==============================] - 6s 400ms/step - loss: 0.2255 - sparse_categorical_accuracy: 0.9242 - val_loss: 299.2274 - val_sparse_categorical_accuracy: 0.1200\n",
      "Epoch 4/100\n",
      "16/16 [==============================] - 6s 397ms/step - loss: 0.1487 - sparse_categorical_accuracy: 0.9529 - val_loss: 44.8880 - val_sparse_categorical_accuracy: 0.2000\n",
      "Epoch 5/100\n",
      "16/16 [==============================] - 6s 393ms/step - loss: 0.1044 - sparse_categorical_accuracy: 0.9613 - val_loss: 371.6877 - val_sparse_categorical_accuracy: 0.1180\n",
      "Epoch 6/100\n",
      "16/16 [==============================] - 6s 392ms/step - loss: 0.0984 - sparse_categorical_accuracy: 0.9651 - val_loss: 105.5249 - val_sparse_categorical_accuracy: 0.1180\n",
      "Epoch 7/100\n",
      "16/16 [==============================] - 6s 395ms/step - loss: 0.1187 - sparse_categorical_accuracy: 0.9629 - val_loss: 23.9114 - val_sparse_categorical_accuracy: 0.1830\n",
      "Epoch 8/100\n",
      "16/16 [==============================] - 6s 395ms/step - loss: 0.1244 - sparse_categorical_accuracy: 0.9614 - val_loss: 53.5379 - val_sparse_categorical_accuracy: 0.1310\n",
      "Epoch 9/100\n",
      "16/16 [==============================] - 6s 405ms/step - loss: 0.0704 - sparse_categorical_accuracy: 0.9798 - val_loss: 28.1120 - val_sparse_categorical_accuracy: 0.2120\n",
      "Epoch 10/100\n",
      "16/16 [==============================] - 6s 393ms/step - loss: 0.0896 - sparse_categorical_accuracy: 0.9681 - val_loss: 156.6183 - val_sparse_categorical_accuracy: 0.1230\n",
      "Epoch 11/100\n",
      "16/16 [==============================] - 6s 393ms/step - loss: 0.1093 - sparse_categorical_accuracy: 0.9645 - val_loss: 68.0259 - val_sparse_categorical_accuracy: 0.1510\n",
      "Epoch 12/100\n",
      "16/16 [==============================] - 6s 394ms/step - loss: 0.0619 - sparse_categorical_accuracy: 0.9799 - val_loss: 45.7282 - val_sparse_categorical_accuracy: 0.1250\n",
      "Epoch 13/100\n",
      "16/16 [==============================] - 6s 394ms/step - loss: 0.0389 - sparse_categorical_accuracy: 0.9891 - val_loss: 87.3190 - val_sparse_categorical_accuracy: 0.1810\n",
      "Epoch 14/100\n",
      "16/16 [==============================] - 6s 390ms/step - loss: 0.0407 - sparse_categorical_accuracy: 0.9825 - val_loss: 27.0720 - val_sparse_categorical_accuracy: 0.1730\n",
      "Epoch 15/100\n",
      "16/16 [==============================] - 6s 387ms/step - loss: 0.0479 - sparse_categorical_accuracy: 0.9825 - val_loss: 12.9093 - val_sparse_categorical_accuracy: 0.1690\n",
      "Epoch 16/100\n",
      "16/16 [==============================] - 6s 391ms/step - loss: 0.0364 - sparse_categorical_accuracy: 0.9846 - val_loss: 24.7931 - val_sparse_categorical_accuracy: 0.1450\n",
      "Epoch 17/100\n",
      "16/16 [==============================] - 6s 391ms/step - loss: 0.0273 - sparse_categorical_accuracy: 0.9883 - val_loss: 11.2010 - val_sparse_categorical_accuracy: 0.1320\n",
      "Epoch 18/100\n",
      "16/16 [==============================] - 6s 391ms/step - loss: 0.0313 - sparse_categorical_accuracy: 0.9892 - val_loss: 19.4111 - val_sparse_categorical_accuracy: 0.1400\n",
      "Epoch 19/100\n",
      "16/16 [==============================] - 6s 395ms/step - loss: 0.0258 - sparse_categorical_accuracy: 0.9896 - val_loss: 17.6847 - val_sparse_categorical_accuracy: 0.1410\n",
      "\n",
      "Epoch 00019: ReduceLROnPlateau reducing learning rate to 0.0009999999776482583.\n",
      "Epoch 20/100\n",
      "16/16 [==============================] - 6s 392ms/step - loss: 0.0223 - sparse_categorical_accuracy: 0.9916 - val_loss: 27.9232 - val_sparse_categorical_accuracy: 0.1340\n",
      "Epoch 21/100\n",
      "16/16 [==============================] - 6s 393ms/step - loss: 0.0066 - sparse_categorical_accuracy: 0.9990 - val_loss: 27.5276 - val_sparse_categorical_accuracy: 0.1370\n",
      "Epoch 22/100\n",
      "16/16 [==============================] - 6s 395ms/step - loss: 0.0037 - sparse_categorical_accuracy: 0.9990 - val_loss: 21.2668 - val_sparse_categorical_accuracy: 0.1470\n",
      "Epoch 23/100\n",
      "16/16 [==============================] - 6s 397ms/step - loss: 0.0016 - sparse_categorical_accuracy: 0.9998 - val_loss: 18.2106 - val_sparse_categorical_accuracy: 0.1560\n",
      "Epoch 24/100\n",
      "16/16 [==============================] - 6s 392ms/step - loss: 0.0017 - sparse_categorical_accuracy: 0.9998 - val_loss: 13.4172 - val_sparse_categorical_accuracy: 0.2010\n",
      "Epoch 25/100\n",
      "16/16 [==============================] - 6s 397ms/step - loss: 0.0017 - sparse_categorical_accuracy: 0.9996 - val_loss: 8.5206 - val_sparse_categorical_accuracy: 0.2660\n",
      "Epoch 26/100\n",
      "16/16 [==============================] - 6s 389ms/step - loss: 0.0016 - sparse_categorical_accuracy: 0.9996 - val_loss: 5.8716 - val_sparse_categorical_accuracy: 0.3650\n",
      "Epoch 27/100\n",
      "16/16 [==============================] - 6s 390ms/step - loss: 0.0010 - sparse_categorical_accuracy: 1.0000 - val_loss: 5.5335 - val_sparse_categorical_accuracy: 0.4150\n",
      "Epoch 28/100\n",
      "16/16 [==============================] - 6s 396ms/step - loss: 0.0034 - sparse_categorical_accuracy: 0.9982 - val_loss: 3.4688 - val_sparse_categorical_accuracy: 0.5830\n",
      "Epoch 29/100\n",
      "16/16 [==============================] - 6s 395ms/step - loss: 9.6934e-04 - sparse_categorical_accuracy: 1.0000 - val_loss: 3.1962 - val_sparse_categorical_accuracy: 0.6470\n",
      "Epoch 30/100\n",
      "16/16 [==============================] - 6s 397ms/step - loss: 7.3679e-04 - sparse_categorical_accuracy: 1.0000 - val_loss: 3.0342 - val_sparse_categorical_accuracy: 0.6740\n",
      "Epoch 31/100\n",
      "16/16 [==============================] - 6s 403ms/step - loss: 9.3309e-04 - sparse_categorical_accuracy: 1.0000 - val_loss: 2.0459 - val_sparse_categorical_accuracy: 0.7450\n",
      "Epoch 32/100\n",
      "16/16 [==============================] - 6s 401ms/step - loss: 5.2542e-04 - sparse_categorical_accuracy: 1.0000 - val_loss: 1.3316 - val_sparse_categorical_accuracy: 0.8080\n",
      "Epoch 33/100\n",
      "16/16 [==============================] - 6s 398ms/step - loss: 4.2675e-04 - sparse_categorical_accuracy: 1.0000 - val_loss: 1.1697 - val_sparse_categorical_accuracy: 0.8310\n",
      "Epoch 34/100\n",
      "16/16 [==============================] - 6s 395ms/step - loss: 6.4703e-04 - sparse_categorical_accuracy: 1.0000 - val_loss: 1.3640 - val_sparse_categorical_accuracy: 0.8040\n",
      "Epoch 35/100\n",
      "16/16 [==============================] - 6s 398ms/step - loss: 0.0022 - sparse_categorical_accuracy: 0.9993 - val_loss: 0.6298 - val_sparse_categorical_accuracy: 0.8890\n",
      "Epoch 36/100\n",
      "16/16 [==============================] - 6s 403ms/step - loss: 3.5522e-04 - sparse_categorical_accuracy: 1.0000 - val_loss: 0.5547 - val_sparse_categorical_accuracy: 0.8980\n",
      "Epoch 37/100\n",
      "16/16 [==============================] - 6s 399ms/step - loss: 4.3129e-04 - sparse_categorical_accuracy: 1.0000 - val_loss: 0.5236 - val_sparse_categorical_accuracy: 0.8980\n",
      "Epoch 38/100\n",
      "16/16 [==============================] - 6s 392ms/step - loss: 3.6377e-04 - sparse_categorical_accuracy: 1.0000 - val_loss: 0.5286 - val_sparse_categorical_accuracy: 0.9010\n",
      "Epoch 39/100\n",
      "16/16 [==============================] - 6s 406ms/step - loss: 2.7099e-04 - sparse_categorical_accuracy: 1.0000 - val_loss: 0.4984 - val_sparse_categorical_accuracy: 0.9080\n",
      "Epoch 40/100\n",
      "16/16 [==============================] - 6s 400ms/step - loss: 8.2617e-04 - sparse_categorical_accuracy: 0.9998 - val_loss: 0.4407 - val_sparse_categorical_accuracy: 0.9200\n",
      "Epoch 41/100\n",
      "16/16 [==============================] - 6s 404ms/step - loss: 3.0119e-04 - sparse_categorical_accuracy: 1.0000 - val_loss: 0.4218 - val_sparse_categorical_accuracy: 0.9230\n",
      "Epoch 42/100\n",
      "16/16 [==============================] - 6s 392ms/step - loss: 7.9675e-04 - sparse_categorical_accuracy: 0.9997 - val_loss: 0.5671 - val_sparse_categorical_accuracy: 0.9020\n",
      "Epoch 43/100\n",
      "16/16 [==============================] - 6s 406ms/step - loss: 3.0590e-04 - sparse_categorical_accuracy: 1.0000 - val_loss: 0.7772 - val_sparse_categorical_accuracy: 0.8770\n",
      "Epoch 44/100\n",
      "16/16 [==============================] - 6s 407ms/step - loss: 8.3815e-04 - sparse_categorical_accuracy: 0.9996 - val_loss: 1.1043 - val_sparse_categorical_accuracy: 0.8080\n",
      "Epoch 45/100\n",
      "16/16 [==============================] - 6s 393ms/step - loss: 3.4429e-04 - sparse_categorical_accuracy: 1.0000 - val_loss: 0.6479 - val_sparse_categorical_accuracy: 0.8920\n",
      "Epoch 46/100\n",
      "16/16 [==============================] - 6s 403ms/step - loss: 3.1220e-04 - sparse_categorical_accuracy: 1.0000 - val_loss: 0.5577 - val_sparse_categorical_accuracy: 0.9080\n",
      "Epoch 47/100\n",
      "16/16 [==============================] - 6s 395ms/step - loss: 3.1137e-04 - sparse_categorical_accuracy: 1.0000 - val_loss: 0.4824 - val_sparse_categorical_accuracy: 0.9190\n",
      "Epoch 48/100\n",
      "16/16 [==============================] - 7s 411ms/step - loss: 3.5442e-04 - sparse_categorical_accuracy: 1.0000 - val_loss: 0.4695 - val_sparse_categorical_accuracy: 0.9220\n",
      "Epoch 49/100\n",
      "16/16 [==============================] - 6s 404ms/step - loss: 3.5503e-04 - sparse_categorical_accuracy: 1.0000 - val_loss: 0.4132 - val_sparse_categorical_accuracy: 0.9270\n",
      "Epoch 50/100\n",
      "16/16 [==============================] - 6s 402ms/step - loss: 1.8241e-04 - sparse_categorical_accuracy: 1.0000 - val_loss: 0.3696 - val_sparse_categorical_accuracy: 0.9300\n",
      "Epoch 51/100\n",
      "16/16 [==============================] - 6s 405ms/step - loss: 4.3160e-04 - sparse_categorical_accuracy: 1.0000 - val_loss: 0.3828 - val_sparse_categorical_accuracy: 0.9230\n",
      "Epoch 52/100\n",
      "16/16 [==============================] - 6s 396ms/step - loss: 2.1217e-04 - sparse_categorical_accuracy: 1.0000 - val_loss: 0.4128 - val_sparse_categorical_accuracy: 0.9240\n",
      "Epoch 53/100\n",
      "16/16 [==============================] - 6s 398ms/step - loss: 2.0462e-04 - sparse_categorical_accuracy: 1.0000 - val_loss: 0.4303 - val_sparse_categorical_accuracy: 0.9300\n",
      "Epoch 54/100\n",
      "16/16 [==============================] - 6s 399ms/step - loss: 1.7983e-04 - sparse_categorical_accuracy: 1.0000 - val_loss: 0.3844 - val_sparse_categorical_accuracy: 0.9300\n",
      "Epoch 55/100\n",
      "16/16 [==============================] - 6s 404ms/step - loss: 1.8177e-04 - sparse_categorical_accuracy: 1.0000 - val_loss: 0.3062 - val_sparse_categorical_accuracy: 0.9370\n",
      "Epoch 56/100\n",
      "16/16 [==============================] - 6s 399ms/step - loss: 1.5093e-04 - sparse_categorical_accuracy: 1.0000 - val_loss: 0.2820 - val_sparse_categorical_accuracy: 0.9360\n",
      "Epoch 57/100\n",
      "16/16 [==============================] - 6s 400ms/step - loss: 3.2817e-04 - sparse_categorical_accuracy: 0.9999 - val_loss: 0.2608 - val_sparse_categorical_accuracy: 0.9410\n",
      "Epoch 58/100\n",
      "16/16 [==============================] - 6s 401ms/step - loss: 2.7293e-04 - sparse_categorical_accuracy: 1.0000 - val_loss: 0.2795 - val_sparse_categorical_accuracy: 0.9390\n",
      "Epoch 59/100\n",
      "16/16 [==============================] - 6s 401ms/step - loss: 1.9407e-04 - sparse_categorical_accuracy: 1.0000 - val_loss: 0.2736 - val_sparse_categorical_accuracy: 0.9390\n",
      "Epoch 60/100\n",
      "16/16 [==============================] - 6s 403ms/step - loss: 1.8568e-04 - sparse_categorical_accuracy: 1.0000 - val_loss: 0.2860 - val_sparse_categorical_accuracy: 0.9340\n",
      "Epoch 61/100\n",
      "16/16 [==============================] - 6s 405ms/step - loss: 3.2002e-04 - sparse_categorical_accuracy: 0.9999 - val_loss: 0.5937 - val_sparse_categorical_accuracy: 0.9060\n",
      "Epoch 62/100\n",
      "16/16 [==============================] - 6s 396ms/step - loss: 1.7330e-04 - sparse_categorical_accuracy: 1.0000 - val_loss: 0.7364 - val_sparse_categorical_accuracy: 0.8780\n",
      "Epoch 63/100\n",
      "16/16 [==============================] - 6s 403ms/step - loss: 0.0018 - sparse_categorical_accuracy: 0.9997 - val_loss: 0.5924 - val_sparse_categorical_accuracy: 0.9000\n",
      "Epoch 64/100\n",
      "16/16 [==============================] - 6s 392ms/step - loss: 7.0941e-04 - sparse_categorical_accuracy: 0.9998 - val_loss: 0.4339 - val_sparse_categorical_accuracy: 0.9290\n",
      "Epoch 65/100\n",
      "16/16 [==============================] - 6s 398ms/step - loss: 6.1578e-04 - sparse_categorical_accuracy: 0.9999 - val_loss: 0.8663 - val_sparse_categorical_accuracy: 0.8370\n",
      "Epoch 66/100\n",
      "16/16 [==============================] - 6s 401ms/step - loss: 2.6687e-04 - sparse_categorical_accuracy: 1.0000 - val_loss: 0.8042 - val_sparse_categorical_accuracy: 0.8440\n",
      "Epoch 67/100\n",
      "16/16 [==============================] - 6s 393ms/step - loss: 1.6403e-04 - sparse_categorical_accuracy: 1.0000 - val_loss: 0.5243 - val_sparse_categorical_accuracy: 0.8970\n",
      "\n",
      "Epoch 00067: ReduceLROnPlateau reducing learning rate to 9.999999310821295e-05.\n",
      "Epoch 68/100\n",
      "16/16 [==============================] - 6s 402ms/step - loss: 2.0559e-04 - sparse_categorical_accuracy: 1.0000 - val_loss: 0.4258 - val_sparse_categorical_accuracy: 0.9200\n",
      "Epoch 69/100\n",
      "16/16 [==============================] - 6s 401ms/step - loss: 2.7029e-04 - sparse_categorical_accuracy: 1.0000 - val_loss: 0.3711 - val_sparse_categorical_accuracy: 0.9260\n",
      "Epoch 70/100\n",
      "16/16 [==============================] - 6s 401ms/step - loss: 1.8616e-04 - sparse_categorical_accuracy: 1.0000 - val_loss: 0.3392 - val_sparse_categorical_accuracy: 0.9320\n",
      "Epoch 71/100\n",
      "16/16 [==============================] - 6s 399ms/step - loss: 1.5008e-04 - sparse_categorical_accuracy: 1.0000 - val_loss: 0.3203 - val_sparse_categorical_accuracy: 0.9340\n",
      "Epoch 72/100\n",
      "16/16 [==============================] - 6s 396ms/step - loss: 2.8228e-04 - sparse_categorical_accuracy: 1.0000 - val_loss: 0.3096 - val_sparse_categorical_accuracy: 0.9370\n",
      "Epoch 73/100\n",
      "16/16 [==============================] - 6s 396ms/step - loss: 1.9075e-04 - sparse_categorical_accuracy: 1.0000 - val_loss: 0.3044 - val_sparse_categorical_accuracy: 0.9380\n",
      "Epoch 74/100\n",
      "16/16 [==============================] - 6s 398ms/step - loss: 2.8688e-04 - sparse_categorical_accuracy: 1.0000 - val_loss: 0.2996 - val_sparse_categorical_accuracy: 0.9410\n",
      "Epoch 75/100\n",
      "16/16 [==============================] - 6s 402ms/step - loss: 1.6235e-04 - sparse_categorical_accuracy: 1.0000 - val_loss: 0.2972 - val_sparse_categorical_accuracy: 0.9410\n",
      "Epoch 76/100\n",
      "16/16 [==============================] - 6s 403ms/step - loss: 1.1616e-04 - sparse_categorical_accuracy: 1.0000 - val_loss: 0.2968 - val_sparse_categorical_accuracy: 0.9410\n",
      "Epoch 77/100\n",
      "16/16 [==============================] - 6s 408ms/step - loss: 1.7872e-04 - sparse_categorical_accuracy: 1.0000 - val_loss: 0.2975 - val_sparse_categorical_accuracy: 0.9390\n",
      "\n",
      "Epoch 00077: ReduceLROnPlateau reducing learning rate to 9.999999019782991e-06.\n",
      "Epoch 78/100\n",
      "16/16 [==============================] - 6s 402ms/step - loss: 5.0822e-04 - sparse_categorical_accuracy: 1.0000 - val_loss: 0.2973 - val_sparse_categorical_accuracy: 0.9370\n",
      "Epoch 79/100\n",
      "16/16 [==============================] - 6s 400ms/step - loss: 2.1764e-04 - sparse_categorical_accuracy: 1.0000 - val_loss: 0.2973 - val_sparse_categorical_accuracy: 0.9370\n",
      "Epoch 80/100\n",
      "16/16 [==============================] - 6s 399ms/step - loss: 1.8141e-04 - sparse_categorical_accuracy: 1.0000 - val_loss: 0.2977 - val_sparse_categorical_accuracy: 0.9370\n",
      "Epoch 81/100\n",
      "16/16 [==============================] - 6s 395ms/step - loss: 2.2948e-04 - sparse_categorical_accuracy: 1.0000 - val_loss: 0.2982 - val_sparse_categorical_accuracy: 0.9360\n",
      "Epoch 82/100\n",
      "16/16 [==============================] - 6s 387ms/step - loss: 2.6135e-04 - sparse_categorical_accuracy: 0.9999 - val_loss: 0.2989 - val_sparse_categorical_accuracy: 0.9360\n",
      "Epoch 83/100\n",
      "16/16 [==============================] - 6s 396ms/step - loss: 1.6632e-04 - sparse_categorical_accuracy: 1.0000 - val_loss: 0.2992 - val_sparse_categorical_accuracy: 0.9370\n",
      "Epoch 84/100\n",
      "16/16 [==============================] - 6s 399ms/step - loss: 1.3963e-04 - sparse_categorical_accuracy: 1.0000 - val_loss: 0.2993 - val_sparse_categorical_accuracy: 0.9370\n",
      "Epoch 85/100\n",
      "16/16 [==============================] - 6s 397ms/step - loss: 3.7658e-04 - sparse_categorical_accuracy: 0.9999 - val_loss: 0.2993 - val_sparse_categorical_accuracy: 0.9370\n",
      "Epoch 86/100\n",
      "16/16 [==============================] - 6s 396ms/step - loss: 2.0399e-04 - sparse_categorical_accuracy: 1.0000 - val_loss: 0.2993 - val_sparse_categorical_accuracy: 0.9370\n",
      "Epoch 87/100\n",
      "16/16 [==============================] - 6s 396ms/step - loss: 1.7528e-04 - sparse_categorical_accuracy: 1.0000 - val_loss: 0.2997 - val_sparse_categorical_accuracy: 0.9380\n",
      "\n",
      "Epoch 00087: ReduceLROnPlateau reducing learning rate to 9.99999883788405e-07.\n",
      "Epoch 88/100\n",
      "16/16 [==============================] - 13s 865ms/step - loss: 3.9366e-04 - sparse_categorical_accuracy: 1.0000 - val_loss: 0.2998 - val_sparse_categorical_accuracy: 0.9390\n",
      "Epoch 89/100\n",
      "16/16 [==============================] - 6s 396ms/step - loss: 1.3458e-04 - sparse_categorical_accuracy: 1.0000 - val_loss: 0.2999 - val_sparse_categorical_accuracy: 0.9390\n",
      "Epoch 90/100\n",
      "16/16 [==============================] - 6s 391ms/step - loss: 2.6778e-04 - sparse_categorical_accuracy: 1.0000 - val_loss: 0.3000 - val_sparse_categorical_accuracy: 0.9390\n",
      "Epoch 91/100\n",
      "16/16 [==============================] - 6s 390ms/step - loss: 1.5105e-04 - sparse_categorical_accuracy: 1.0000 - val_loss: 0.2999 - val_sparse_categorical_accuracy: 0.9380\n",
      "Epoch 92/100\n",
      "16/16 [==============================] - 6s 390ms/step - loss: 2.7264e-04 - sparse_categorical_accuracy: 1.0000 - val_loss: 0.2999 - val_sparse_categorical_accuracy: 0.9380\n",
      "Epoch 93/100\n",
      "16/16 [==============================] - 6s 394ms/step - loss: 1.6706e-04 - sparse_categorical_accuracy: 1.0000 - val_loss: 0.2997 - val_sparse_categorical_accuracy: 0.9380\n",
      "Epoch 94/100\n",
      "16/16 [==============================] - 6s 392ms/step - loss: 8.6250e-04 - sparse_categorical_accuracy: 0.9997 - val_loss: 0.2999 - val_sparse_categorical_accuracy: 0.9380\n",
      "Epoch 95/100\n",
      "16/16 [==============================] - 6s 397ms/step - loss: 1.6172e-04 - sparse_categorical_accuracy: 1.0000 - val_loss: 0.2998 - val_sparse_categorical_accuracy: 0.9380\n",
      "Epoch 96/100\n",
      "16/16 [==============================] - 6s 397ms/step - loss: 2.5581e-04 - sparse_categorical_accuracy: 1.0000 - val_loss: 0.2996 - val_sparse_categorical_accuracy: 0.9380\n",
      "Epoch 97/100\n",
      "16/16 [==============================] - 6s 387ms/step - loss: 2.7282e-04 - sparse_categorical_accuracy: 0.9999 - val_loss: 0.2995 - val_sparse_categorical_accuracy: 0.9380\n",
      "\n",
      "Epoch 00097: ReduceLROnPlateau reducing learning rate to 9.99999883788405e-08.\n",
      "Epoch 98/100\n",
      "16/16 [==============================] - 6s 391ms/step - loss: 1.3123e-04 - sparse_categorical_accuracy: 1.0000 - val_loss: 0.2996 - val_sparse_categorical_accuracy: 0.9380\n",
      "Epoch 99/100\n",
      "16/16 [==============================] - 6s 393ms/step - loss: 2.9988e-04 - sparse_categorical_accuracy: 1.0000 - val_loss: 0.2996 - val_sparse_categorical_accuracy: 0.9380\n",
      "Epoch 100/100\n",
      "16/16 [==============================] - 6s 392ms/step - loss: 1.5190e-04 - sparse_categorical_accuracy: 1.0000 - val_loss: 0.2995 - val_sparse_categorical_accuracy: 0.9380\n"
     ]
    },
    {
     "data": {
      "text/plain": [
       "<tensorflow.python.keras.callbacks.History at 0x7fab82d17ee0>"
      ]
     },
     "execution_count": 74,
     "metadata": {},
     "output_type": "execute_result"
    }
   ],
   "source": [
    "model.compile(\n",
    "    optimizer=tf.keras.optimizers.Adam(1e-2),\n",
    "    loss=tf.keras.losses.SparseCategoricalCrossentropy(from_logits=True),\n",
    "    metrics=[\n",
    "        tf.keras.metrics.SparseCategoricalAccuracy()\n",
    "    ]\n",
    ")\n",
    "os.makedirs('/content/gdrive/MyDrive/data/models/no_tl_without_aug/', exist_ok=True)\n",
    "os.makedirs('/content/gdrive/MyDrive/data/logs/no_tl_without_aug/', exist_ok=True)\n",
    "model.fit(\n",
    "    ds_train,\n",
    "    epochs=100,\n",
    "    validation_data=ds_val,\n",
    "    callbacks=[\n",
    "        tf.keras.callbacks.TensorBoard(\n",
    "            log_dir='/content/gdrive/MyDrive/data/logs/no_tl_without_aug/', histogram_freq=0, write_graph=True,\n",
    "            write_images=False, update_freq='batch', profile_batch=(5, 10)\n",
    "        ),\n",
    "        #tf.keras.callbacks.ModelCheckpoint(\n",
    "        #    'models', monitor='val_sparse_categorical_accuracy', verbose=0, save_best_only=True,\n",
    "        #    save_weights_only=False, mode='auto', save_freq='epoch'\n",
    "        #),\n",
    "        tf.keras.callbacks.CSVLogger('/content/gdrive/MyDrive/data/models/no_tl_without_aug/history.csv', separator=','),\n",
    "        tf.keras.callbacks.ReduceLROnPlateau(\n",
    "            monitor='val_sparse_categorical_accuracy', factor=0.1, patience=10, verbose=1,\n",
    "            mode='auto', min_delta=0.0001\n",
    "        )\n",
    "    ]\n",
    ")\n",
    "model.compile(\n",
    "    optimizer=tf.keras.optimizers.Adam(1e-2),\n",
    "    loss=tf.keras.losses.SparseCategoricalCrossentropy(from_logits=True),\n",
    "    metrics=[\n",
    "        tf.keras.metrics.SparseCategoricalAccuracy()\n",
    "    ]\n",
    ")\n",
    "os.makedirs('/content/gdrive/MyDrive/data/models/no_tl_without_aug/', exist_ok=True)\n",
    "os.makedirs('/content/gdrive/MyDrive/data/logs/no_tl_without_aug/', exist_ok=True)\n",
    "model.fit(\n",
    "    ds_train,\n",
    "    epochs=100,\n",
    "    validation_data=ds_val,\n",
    "    callbacks=[\n",
    "        tf.keras.callbacks.TensorBoard(\n",
    "            log_dir='logs/no_tl_without_aug/', histogram_freq=0, write_graph=True,\n",
    "            write_images=False, update_freq='batch', profile_batch=(5, 10)\n",
    "        ),\n",
    "        #tf.keras.callbacks.ModelCheckpoint(\n",
    "        #    'models', monitor='val_sparse_categorical_accuracy', verbose=0, save_best_only=True,\n",
    "        #    save_weights_only=False, mode='auto', save_freq='epoch'\n",
    "        #),\n",
    "        tf.keras.callbacks.CSVLogger('/content/gdrive/MyDrive/data/models/no_tl_without_aug/history.csv', separator=','),\n",
    "        tf.keras.callbacks.ReduceLROnPlateau(\n",
    "            monitor='val_sparse_categorical_accuracy', factor=0.1, patience=10, verbose=1,\n",
    "            mode='auto', min_delta=0.0001\n",
    "        )\n",
    "    ]\n",
    ")"
   ]
  },
  {
   "cell_type": "markdown",
   "metadata": {},
   "source": [
    "### Résultats"
   ]
  },
  {
   "cell_type": "code",
   "execution_count": 75,
   "metadata": {},
   "outputs": [],
   "source": [
    "fichiers = [\n",
    "    'no_tl_with_aug',\n",
    "    'no_tl_without_aug',\n",
    "    'tl_with_aug',\n",
    "    'tl_without_aug'\n",
    "]"
   ]
  },
  {
   "cell_type": "code",
   "execution_count": 76,
   "metadata": {},
   "outputs": [],
   "source": [
    "import pandas as pd"
   ]
  },
  {
   "cell_type": "code",
   "execution_count": 87,
   "metadata": {},
   "outputs": [],
   "source": [
    "histories = []\n",
    "for fichier in fichiers:\n",
    "    history = pd.read_csv(\n",
    "        open(\n",
    "            os.path.join('/content/gdrive/MyDrive/data/models/', fichier, 'history.csv')\n",
    "        )\n",
    "    )\n",
    "    history.columns = [c+'_'+fichier for c in history.columns]\n",
    "    histories.append(history)\n",
    "histories = pd.concat(histories, axis=1)"
   ]
  },
  {
   "cell_type": "code",
   "execution_count": 95,
   "metadata": {},
   "outputs": [],
   "source": [
    "accuracies = [c for c in histories.columns if 'acc' in c]\n",
    "accuracies = histories[accuracies]"
   ]
  },
  {
   "cell_type": "code",
   "execution_count": 116,
   "metadata": {},
   "outputs": [
    {
     "data": {
      "text/plain": [
       "<bound method Artist.set of <AxesSubplot:>>"
      ]
     },
     "execution_count": 116,
     "metadata": {},
     "output_type": "execute_result"
    },
    {
     "data": {
      "image/png": "[encoded data removed]",
      "text/plain": [
       "<Figure size 1800x504 with 1 Axes>"
      ]
     },
     "metadata": {
      "needs_background": "light"
     },
     "output_type": "display_data"
    }
   ],
   "source": [
    "fig, ax = plt.subplots(1, 1, figsize=(25, 7))\n",
    "ax = accuracies.plot(\n",
    "    ax=ax,\n",
    "    color=[\n",
    "        'blue', 'blue',\n",
    "        'red', 'red',\n",
    "        'green', 'green',\n",
    "        'black', 'blacK'\n",
    "    ],\n",
    "    style=[\n",
    "        '--', '-o',\n",
    "        '--', '-o',\n",
    "        '--', '-o',\n",
    "        '--', '-o'\n",
    "    ]\n",
    ")\n",
    "ax.legend(\n",
    "    [\n",
    "        'train_NO_TL_AUG',\n",
    "        'val_NO_TL_AUG',\n",
    "        'train_NO_TL_NO_AUG',\n",
    "        'val_NO_TL_NO_AUG',\n",
    "        'train_TL_AUG',\n",
    "        'val_TL_AUG',\n",
    "        'train_TL_NO_AUG',\n",
    "        'val_TL_NO_AUG',\n",
    "    ],\n",
    "    ncol=2\n",
    ")\n",
    "ax.set"
   ]
  },
  {
   "cell_type": "code",
   "execution_count": null,
   "metadata": {},
   "outputs": [],
   "source": []
  }
 ],
 "metadata": {
  "kernelspec": {
   "display_name": "Python 3",
   "language": "python",
   "name": "python3"
  },
  "language_info": {
   "codemirror_mode": {
    "name": "ipython",
    "version": 3
   },
   "file_extension": ".py",
   "mimetype": "text/x-python",
   "name": "python",
   "nbconvert_exporter": "python",
   "pygments_lexer": "ipython3",
   "version": "3.8.5"
  }
 },
 "nbformat": 4,
 "nbformat_minor": 5
}
